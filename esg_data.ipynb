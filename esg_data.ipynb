{
 "cells": [
  {
   "cell_type": "markdown",
   "metadata": {},
   "source": [
    "## PROBLEM STATEMENT\n",
    "* Important questions: \n",
    "who is the data far, the analysis is for who, what is the business impact and what is the main objective/outcome who is the data for\n",
    "- investor: which companies should i invest in (smtht that aligns with my esg interest)\n",
    "- regulator: \n",
    "- leadership team: \n",
    "\n",
    "## 5 plots:\n",
    "- sectors with bottom 5 total esg risk score (then plot histogram for the narrowed down sectors)\n",
    "- for each individual sector which is the main risk score causing the total risk score it to be low - env/social/gov risk score which is the main contributor \n",
    "--> drill down to company and which companies have the lowest esg risk score\n",
    "--> what are some of the reasons for it - drill down into industry, nature of industry etc. some insights \n",
    "- try to find the associations between controversy levels and risk levels\n",
    "- from top 5 sectors with lowest controversy risk level - based on composition -->\n"
   ]
  },
  {
   "cell_type": "code",
   "execution_count": 134,
   "metadata": {},
   "outputs": [],
   "source": [
    "import pandas as pd\n",
    "import pandas as pd\n",
    "import matplotlib.pyplot as plt\n",
    "import ipywidgets as widgets\n",
    "from ipywidgets import interactive\n",
    "import plotly.graph_objects as go\n",
    "import plotly.express as px\n",
    "import numpy as np\n",
    "from scipy.stats import gaussian_kde\n",
    "from plotly.subplots import make_subplots\n",
    "import seaborn as sns\n",
    "\n"
   ]
  },
  {
   "cell_type": "code",
   "execution_count": null,
   "metadata": {},
   "outputs": [
    {
     "name": "stdout",
     "output_type": "stream",
     "text": [
      "  Symbol                      Name  \\\n",
      "0   ENPH      Enphase Energy, Inc.   \n",
      "1    EMN  Eastman Chemical Company   \n",
      "2    DPZ       Domino's Pizza Inc.   \n",
      "3    DAY            Dayforce, Inc.   \n",
      "4    DVA               Davita Inc.   \n",
      "\n",
      "                                             Address             Sector  \\\n",
      "0  47281 Bayside Parkway\\r\\nFremont, CA 94538\\r\\n...         Technology   \n",
      "1  200 South Wilcox Drive\\r\\nKingsport, TN 37662\\...    Basic Materials   \n",
      "2  30 Frank Lloyd Wright Drive\\r\\nAnn Arbor, MI 4...  Consumer Cyclical   \n",
      "3  3311 East Old Shakopee Road\\r\\nMinneapolis, MN...         Technology   \n",
      "4  2000 16th Street\\r\\nDenver, CO 80202\\r\\nUnited...         Healthcare   \n",
      "\n",
      "                  Industry Full Time Employees  \\\n",
      "0                    Solar               3,157   \n",
      "1      Specialty Chemicals              14,000   \n",
      "2              Restaurants               6,500   \n",
      "3   Software - Application               9,084   \n",
      "4  Medical Care Facilities              70,000   \n",
      "\n",
      "                                         Description  Total ESG Risk score  \\\n",
      "0  Enphase Energy, Inc., together with its subsid...                   NaN   \n",
      "1  Eastman Chemical Company operates as a special...                  25.3   \n",
      "2  Domino's Pizza, Inc., through its subsidiaries...                  29.2   \n",
      "3  Dayforce Inc., together with its subsidiaries,...                   NaN   \n",
      "4  DaVita Inc. provides kidney dialysis services ...                  22.6   \n",
      "\n",
      "   Environment Risk Score  Governance Risk Score  Social Risk Score  \\\n",
      "0                     NaN                    NaN                NaN   \n",
      "1                    12.8                    6.6                5.8   \n",
      "2                    10.6                    6.3               12.2   \n",
      "3                     NaN                    NaN                NaN   \n",
      "4                     0.1                    8.4               14.1   \n",
      "\n",
      "            Controversy Level  Controversy Score ESG Risk Percentile  \\\n",
      "0                         NaN                NaN                 NaN   \n",
      "1  Moderate Controversy Level                2.0     50th percentile   \n",
      "2  Moderate Controversy Level                2.0     66th percentile   \n",
      "3                         NaN                NaN                 NaN   \n",
      "4  Moderate Controversy Level                2.0     38th percentile   \n",
      "\n",
      "  ESG Risk Level  \n",
      "0            NaN  \n",
      "1         Medium  \n",
      "2         Medium  \n",
      "3            NaN  \n",
      "4         Medium  \n",
      "<class 'pandas.core.frame.DataFrame'>\n",
      "RangeIndex: 503 entries, 0 to 502\n",
      "Data columns (total 15 columns):\n",
      " #   Column                  Non-Null Count  Dtype  \n",
      "---  ------                  --------------  -----  \n",
      " 0   Symbol                  503 non-null    object \n",
      " 1   Name                    503 non-null    object \n",
      " 2   Address                 502 non-null    object \n",
      " 3   Sector                  502 non-null    object \n",
      " 4   Industry                502 non-null    object \n",
      " 5   Full Time Employees     498 non-null    object \n",
      " 6   Description             502 non-null    object \n",
      " 7   Total ESG Risk score    430 non-null    float64\n",
      " 8   Environment Risk Score  430 non-null    float64\n",
      " 9   Governance Risk Score   430 non-null    float64\n",
      " 10  Social Risk Score       430 non-null    float64\n",
      " 11  Controversy Level       430 non-null    object \n",
      " 12  Controversy Score       403 non-null    float64\n",
      " 13  ESG Risk Percentile     430 non-null    object \n",
      " 14  ESG Risk Level          430 non-null    object \n",
      "dtypes: float64(5), object(10)\n",
      "memory usage: 59.1+ KB\n",
      "None\n"
     ]
    }
   ],
   "source": [
    "#df2: risk ratings of US companies based on esg scores\n",
    "df2 = pd.read_csv('datasets/SP_500_ESG_Risk_Ratings.csv')\n",
    "print(df2.head())\n",
    "print(df2.info())\n"
   ]
  },
  {
   "cell_type": "code",
   "execution_count": null,
   "metadata": {},
   "outputs": [
    {
     "name": "stdout",
     "output_type": "stream",
     "text": [
      "Numerical Columns Summary:\n",
      "                        count       mean       std  min   25%    50%     75%  \\\n",
      "Total ESG Risk score    430.0  21.533721  6.889176  7.1  16.4  21.05  26.000   \n",
      "Environment Risk Score  430.0   5.739767  5.092421  0.0   1.8   4.05   8.950   \n",
      "Governance Risk Score   430.0   6.725116  2.208085  3.0   5.3   6.10   7.675   \n",
      "Social Risk Score       430.0   9.070465  3.657924  0.8   6.7   8.90  11.200   \n",
      "Controversy Score       403.0   2.007444  0.793283  1.0   1.0   2.00   2.000   \n",
      "\n",
      "                         max  \n",
      "Total ESG Risk score    41.7  \n",
      "Environment Risk Score  25.0  \n",
      "Governance Risk Score   19.4  \n",
      "Social Risk Score       22.5  \n",
      "Controversy Score        5.0  \n"
     ]
    }
   ],
   "source": [
    "#Data Summary Statistics for df2\n",
    "\n",
    "def compute_summary_statistics(df):\n",
    "    # Select numerical and categorical columns\n",
    "    num_cols = df.select_dtypes(include=['int64', 'float64']).columns\n",
    "    # Compute summary statistics\n",
    "    num_summary = df[num_cols].describe().T  # Transpose for better readability\n",
    "    # Display results\n",
    "    print(\"Numerical Columns Summary:\")\n",
    "    print(num_summary)\n",
    "   \n",
    "compute_summary_statistics(df2)"
   ]
  },
  {
   "cell_type": "code",
   "execution_count": 106,
   "metadata": {},
   "outputs": [
    {
     "name": "stdout",
     "output_type": "stream",
     "text": [
      "<class 'pandas.core.frame.DataFrame'>\n",
      "Index: 430 entries, 1 to 502\n",
      "Data columns (total 15 columns):\n",
      " #   Column                  Non-Null Count  Dtype  \n",
      "---  ------                  --------------  -----  \n",
      " 0   Symbol                  430 non-null    object \n",
      " 1   Name                    430 non-null    object \n",
      " 2   Address                 430 non-null    object \n",
      " 3   Sector                  430 non-null    object \n",
      " 4   Industry                430 non-null    object \n",
      " 5   Full Time Employees     426 non-null    object \n",
      " 6   Description             430 non-null    object \n",
      " 7   Total ESG Risk score    430 non-null    float64\n",
      " 8   Environment Risk Score  430 non-null    float64\n",
      " 9   Governance Risk Score   430 non-null    float64\n",
      " 10  Social Risk Score       430 non-null    float64\n",
      " 11  Controversy Level       430 non-null    object \n",
      " 12  Controversy Score       403 non-null    float64\n",
      " 13  ESG Risk Percentile     430 non-null    object \n",
      " 14  ESG Risk Level          430 non-null    object \n",
      "dtypes: float64(5), object(10)\n",
      "memory usage: 53.8+ KB\n",
      "None\n",
      "                                        column    dtype  instances  unique  \\\n",
      "Symbol                                  Symbol   object        430     430   \n",
      "Name                                      Name   object        430     430   \n",
      "Address                                Address   object        430     430   \n",
      "Sector                                  Sector   object        430      11   \n",
      "Industry                              Industry   object        430     110   \n",
      "Full Time Employees        Full Time Employees   object        426     345   \n",
      "Description                        Description   object        430     430   \n",
      "Total ESG Risk score      Total ESG Risk score  float64        430     213   \n",
      "Environment Risk Score  Environment Risk Score  float64        430     146   \n",
      "Governance Risk Score    Governance Risk Score  float64        430      91   \n",
      "Social Risk Score            Social Risk Score  float64        430     145   \n",
      "Controversy Level            Controversy Level   object        430       6   \n",
      "Controversy Score            Controversy Score  float64        403       5   \n",
      "ESG Risk Percentile        ESG Risk Percentile   object        430      89   \n",
      "ESG Risk Level                  ESG Risk Level   object        430       5   \n",
      "\n",
      "                        sum_null  \n",
      "Symbol                         0  \n",
      "Name                           0  \n",
      "Address                        0  \n",
      "Sector                         0  \n",
      "Industry                       0  \n",
      "Full Time Employees            4  \n",
      "Description                    0  \n",
      "Total ESG Risk score           0  \n",
      "Environment Risk Score         0  \n",
      "Governance Risk Score          0  \n",
      "Social Risk Score              0  \n",
      "Controversy Level              0  \n",
      "Controversy Score             27  \n",
      "ESG Risk Percentile            0  \n",
      "ESG Risk Level                 0  \n"
     ]
    }
   ],
   "source": [
    "#Clean 2nd Dataset First\n",
    "df2_cleaned = df2.dropna(subset = ['Sector', 'Total ESG Risk score'])\n",
    "print(df2_cleaned.info())\n",
    "\n",
    "def inspect_data(data):\n",
    "    return pd.DataFrame(\n",
    "        {\n",
    "        \"column\": data.columns,\n",
    "        \"dtype\": data.dtypes.values,\n",
    "        \"instances\": data.count().values,\n",
    "        \"unique\": data.nunique(),\n",
    "        \"sum_null\": data.isna().sum()\n",
    "\n",
    "        }\n",
    "    )\n",
    "\n",
    "df2_info = inspect_data(df2_cleaned)\n",
    "print(df2_info)"
   ]
  },
  {
   "cell_type": "markdown",
   "metadata": {},
   "source": [
    "# Insights for Investors\n"
   ]
  },
  {
   "cell_type": "code",
   "execution_count": 149,
   "metadata": {},
   "outputs": [],
   "source": [
    "# Define category colors\n",
    "category_colors = {\n",
    "    \"Total ESG Risk score\": \"#89ac46\", \n",
    "    \"Environment Risk Score\": \"#d3e671\", \n",
    "    \"Governance Risk Score\": \"#f8ed8c\", \n",
    "    \"Social Risk Score\": \"#ff8989\"\n",
    "}\n",
    "\n",
    "custom_colors = {\n",
    "    \"High\": \"#f78e31\",\n",
    "    \"Medium\": \"#fbb040\",\n",
    "    \"Low\": \"#208b3a\",\n",
    "    \"Moderate\": \"#cbdb47\",\n",
    "    \"Medium\" :\"#cbdb47\",\n",
    "    \"Severe\": \"#e83715\",\n",
    "    \"Significant\":\"#f26b21\",\n",
    "    \"None\": \"#fcec52\",\n",
    "    \"Negligible\": \"#fcec52\"\n",
    "}"
   ]
  },
  {
   "cell_type": "markdown",
   "metadata": {},
   "source": [
    "## ESG Risk Level Composition by Sectors"
   ]
  },
  {
   "cell_type": "code",
   "execution_count": 150,
   "metadata": {},
   "outputs": [
    {
     "data": {
      "application/vnd.plotly.v1+json": {
       "config": {
        "plotlyServerURL": "https://plot.ly"
       },
       "data": [
        {
         "hovertemplate": "ESG Risk Level=Severe<br>Sector=%{x}<br>Proportion=%{y}<br>text=%{text}<extra></extra>",
         "legendgroup": "Severe",
         "marker": {
          "color": "#e83715",
          "pattern": {
           "shape": ""
          }
         },
         "name": "Severe",
         "orientation": "v",
         "showlegend": true,
         "text": [
          "10%",
          "2%"
         ],
         "textposition": "auto",
         "type": "bar",
         "x": [
          "Energy",
          "Industrials"
         ],
         "xaxis": "x",
         "y": {
          "bdata": "mpmZmZmZuT8RERERERGRPw==",
          "dtype": "f8"
         },
         "yaxis": "y"
        },
        {
         "hovertemplate": "ESG Risk Level=High<br>Sector=%{x}<br>Proportion=%{y}<br>text=%{text}<extra></extra>",
         "legendgroup": "High",
         "marker": {
          "color": "#f78e31",
          "pattern": {
           "shape": ""
          }
         },
         "name": "High",
         "orientation": "v",
         "showlegend": true,
         "text": [
          "32%",
          "7%",
          "2%",
          "21%",
          "65%",
          "3%",
          "2%",
          "18%",
          "3%",
          "21%"
         ],
         "textposition": "auto",
         "type": "bar",
         "x": [
          "Basic Materials",
          "Communication Services",
          "Consumer Cyclical",
          "Consumer Defensive",
          "Energy",
          "Financial Services",
          "Healthcare",
          "Industrials",
          "Technology",
          "Utilities"
         ],
         "xaxis": "x",
         "y": {
          "bdata": "XkN5DeU11D+SJEmSJEmyPxQUFBQUFJQ/J5tssskmyz/NzMzMzMzkPxAEQRAEQaA/wXgr+xxSkz93d3d3d3fHPzvavE9xyaA/27Zt27Ztyz8=",
          "dtype": "f8"
         },
         "yaxis": "y"
        },
        {
         "hovertemplate": "ESG Risk Level=Medium<br>Sector=%{x}<br>Proportion=%{y}<br>text=%{text}<extra></extra>",
         "legendgroup": "Medium",
         "marker": {
          "color": "#cbdb47",
          "pattern": {
           "shape": ""
          }
         },
         "name": "Medium",
         "orientation": "v",
         "showlegend": true,
         "text": [
          "58%",
          "36%",
          "43%",
          "67%",
          "20%",
          "57%",
          "53%",
          "43%",
          "4%",
          "13%",
          "75%"
         ],
         "textposition": "auto",
         "type": "bar",
         "x": [
          "Basic Materials",
          "Communication Services",
          "Consumer Cyclical",
          "Consumer Defensive",
          "Energy",
          "Financial Services",
          "Healthcare",
          "Industrials",
          "Real Estate",
          "Technology",
          "Utilities"
         ],
         "xaxis": "x",
         "y": {
          "bdata": "bCivobyG4j+3bdu2bdvWP5ybm5ubm9s/VVVVVVVV5T+amZmZmZnJP5IkSZIkSeI/qQnGW9nn4D+8u7u7u7vbP5IkSZIkSaI/O9q8T3HJwD8AAAAAAADoPw==",
          "dtype": "f8"
         },
         "yaxis": "y"
        },
        {
         "hovertemplate": "ESG Risk Level=Low<br>Sector=%{x}<br>Proportion=%{y}<br>text=%{text}<extra></extra>",
         "legendgroup": "Low",
         "marker": {
          "color": "#208b3a",
          "pattern": {
           "shape": ""
          }
         },
         "name": "Low",
         "orientation": "v",
         "showlegend": true,
         "text": [
          "11%",
          "57%",
          "53%",
          "12%",
          "5%",
          "40%",
          "45%",
          "37%",
          "89%",
          "79%",
          "4%"
         ],
         "textposition": "auto",
         "type": "bar",
         "x": [
          "Basic Materials",
          "Communication Services",
          "Consumer Cyclical",
          "Consumer Defensive",
          "Energy",
          "Financial Services",
          "Healthcare",
          "Industrials",
          "Real Estate",
          "Technology",
          "Utilities"
         ],
         "xaxis": "x",
         "y": {
          "bdata": "KK+hvIbyuj+SJEmSJEniP/Hw8PDw8OA/CB988MEHvz+amZmZmZmpP1mWZVmWZdk/IjXBeCv73D93d3d3d3fXPyVJkiRJkuw/WEeb9yku6T+SJEmSJEmiPw==",
          "dtype": "f8"
         },
         "yaxis": "y"
        },
        {
         "hovertemplate": "ESG Risk Level=Negligible<br>Sector=%{x}<br>Proportion=%{y}<br>text=%{text}<extra></extra>",
         "legendgroup": "Negligible",
         "marker": {
          "color": "#fcec52",
          "pattern": {
           "shape": ""
          }
         },
         "name": "Negligible",
         "orientation": "v",
         "showlegend": true,
         "text": [
          "2%",
          "7%",
          "5%"
         ],
         "textposition": "auto",
         "type": "bar",
         "x": [
          "Consumer Cyclical",
          "Real Estate",
          "Technology"
         ],
         "xaxis": "x",
         "y": {
          "bdata": "FBQUFBQUlD+SJEmSJEmyP1hHm/cpLqk/",
          "dtype": "f8"
         },
         "yaxis": "y"
        }
       ],
       "layout": {
        "barmode": "stack",
        "height": 600,
        "legend": {
         "title": {
          "text": "ESG Risk Level"
         },
         "tracegroupgap": 0
        },
        "margin": {
         "b": 100,
         "l": 100,
         "r": 100,
         "t": 100
        },
        "template": {
         "data": {
          "bar": [
           {
            "error_x": {
             "color": "#2a3f5f"
            },
            "error_y": {
             "color": "#2a3f5f"
            },
            "marker": {
             "line": {
              "color": "#E5ECF6",
              "width": 0.5
             },
             "pattern": {
              "fillmode": "overlay",
              "size": 10,
              "solidity": 0.2
             }
            },
            "type": "bar"
           }
          ],
          "barpolar": [
           {
            "marker": {
             "line": {
              "color": "#E5ECF6",
              "width": 0.5
             },
             "pattern": {
              "fillmode": "overlay",
              "size": 10,
              "solidity": 0.2
             }
            },
            "type": "barpolar"
           }
          ],
          "carpet": [
           {
            "aaxis": {
             "endlinecolor": "#2a3f5f",
             "gridcolor": "white",
             "linecolor": "white",
             "minorgridcolor": "white",
             "startlinecolor": "#2a3f5f"
            },
            "baxis": {
             "endlinecolor": "#2a3f5f",
             "gridcolor": "white",
             "linecolor": "white",
             "minorgridcolor": "white",
             "startlinecolor": "#2a3f5f"
            },
            "type": "carpet"
           }
          ],
          "choropleth": [
           {
            "colorbar": {
             "outlinewidth": 0,
             "ticks": ""
            },
            "type": "choropleth"
           }
          ],
          "contour": [
           {
            "colorbar": {
             "outlinewidth": 0,
             "ticks": ""
            },
            "colorscale": [
             [
              0,
              "#0d0887"
             ],
             [
              0.1111111111111111,
              "#46039f"
             ],
             [
              0.2222222222222222,
              "#7201a8"
             ],
             [
              0.3333333333333333,
              "#9c179e"
             ],
             [
              0.4444444444444444,
              "#bd3786"
             ],
             [
              0.5555555555555556,
              "#d8576b"
             ],
             [
              0.6666666666666666,
              "#ed7953"
             ],
             [
              0.7777777777777778,
              "#fb9f3a"
             ],
             [
              0.8888888888888888,
              "#fdca26"
             ],
             [
              1,
              "#f0f921"
             ]
            ],
            "type": "contour"
           }
          ],
          "contourcarpet": [
           {
            "colorbar": {
             "outlinewidth": 0,
             "ticks": ""
            },
            "type": "contourcarpet"
           }
          ],
          "heatmap": [
           {
            "colorbar": {
             "outlinewidth": 0,
             "ticks": ""
            },
            "colorscale": [
             [
              0,
              "#0d0887"
             ],
             [
              0.1111111111111111,
              "#46039f"
             ],
             [
              0.2222222222222222,
              "#7201a8"
             ],
             [
              0.3333333333333333,
              "#9c179e"
             ],
             [
              0.4444444444444444,
              "#bd3786"
             ],
             [
              0.5555555555555556,
              "#d8576b"
             ],
             [
              0.6666666666666666,
              "#ed7953"
             ],
             [
              0.7777777777777778,
              "#fb9f3a"
             ],
             [
              0.8888888888888888,
              "#fdca26"
             ],
             [
              1,
              "#f0f921"
             ]
            ],
            "type": "heatmap"
           }
          ],
          "histogram": [
           {
            "marker": {
             "pattern": {
              "fillmode": "overlay",
              "size": 10,
              "solidity": 0.2
             }
            },
            "type": "histogram"
           }
          ],
          "histogram2d": [
           {
            "colorbar": {
             "outlinewidth": 0,
             "ticks": ""
            },
            "colorscale": [
             [
              0,
              "#0d0887"
             ],
             [
              0.1111111111111111,
              "#46039f"
             ],
             [
              0.2222222222222222,
              "#7201a8"
             ],
             [
              0.3333333333333333,
              "#9c179e"
             ],
             [
              0.4444444444444444,
              "#bd3786"
             ],
             [
              0.5555555555555556,
              "#d8576b"
             ],
             [
              0.6666666666666666,
              "#ed7953"
             ],
             [
              0.7777777777777778,
              "#fb9f3a"
             ],
             [
              0.8888888888888888,
              "#fdca26"
             ],
             [
              1,
              "#f0f921"
             ]
            ],
            "type": "histogram2d"
           }
          ],
          "histogram2dcontour": [
           {
            "colorbar": {
             "outlinewidth": 0,
             "ticks": ""
            },
            "colorscale": [
             [
              0,
              "#0d0887"
             ],
             [
              0.1111111111111111,
              "#46039f"
             ],
             [
              0.2222222222222222,
              "#7201a8"
             ],
             [
              0.3333333333333333,
              "#9c179e"
             ],
             [
              0.4444444444444444,
              "#bd3786"
             ],
             [
              0.5555555555555556,
              "#d8576b"
             ],
             [
              0.6666666666666666,
              "#ed7953"
             ],
             [
              0.7777777777777778,
              "#fb9f3a"
             ],
             [
              0.8888888888888888,
              "#fdca26"
             ],
             [
              1,
              "#f0f921"
             ]
            ],
            "type": "histogram2dcontour"
           }
          ],
          "mesh3d": [
           {
            "colorbar": {
             "outlinewidth": 0,
             "ticks": ""
            },
            "type": "mesh3d"
           }
          ],
          "parcoords": [
           {
            "line": {
             "colorbar": {
              "outlinewidth": 0,
              "ticks": ""
             }
            },
            "type": "parcoords"
           }
          ],
          "pie": [
           {
            "automargin": true,
            "type": "pie"
           }
          ],
          "scatter": [
           {
            "fillpattern": {
             "fillmode": "overlay",
             "size": 10,
             "solidity": 0.2
            },
            "type": "scatter"
           }
          ],
          "scatter3d": [
           {
            "line": {
             "colorbar": {
              "outlinewidth": 0,
              "ticks": ""
             }
            },
            "marker": {
             "colorbar": {
              "outlinewidth": 0,
              "ticks": ""
             }
            },
            "type": "scatter3d"
           }
          ],
          "scattercarpet": [
           {
            "marker": {
             "colorbar": {
              "outlinewidth": 0,
              "ticks": ""
             }
            },
            "type": "scattercarpet"
           }
          ],
          "scattergeo": [
           {
            "marker": {
             "colorbar": {
              "outlinewidth": 0,
              "ticks": ""
             }
            },
            "type": "scattergeo"
           }
          ],
          "scattergl": [
           {
            "marker": {
             "colorbar": {
              "outlinewidth": 0,
              "ticks": ""
             }
            },
            "type": "scattergl"
           }
          ],
          "scattermap": [
           {
            "marker": {
             "colorbar": {
              "outlinewidth": 0,
              "ticks": ""
             }
            },
            "type": "scattermap"
           }
          ],
          "scattermapbox": [
           {
            "marker": {
             "colorbar": {
              "outlinewidth": 0,
              "ticks": ""
             }
            },
            "type": "scattermapbox"
           }
          ],
          "scatterpolar": [
           {
            "marker": {
             "colorbar": {
              "outlinewidth": 0,
              "ticks": ""
             }
            },
            "type": "scatterpolar"
           }
          ],
          "scatterpolargl": [
           {
            "marker": {
             "colorbar": {
              "outlinewidth": 0,
              "ticks": ""
             }
            },
            "type": "scatterpolargl"
           }
          ],
          "scatterternary": [
           {
            "marker": {
             "colorbar": {
              "outlinewidth": 0,
              "ticks": ""
             }
            },
            "type": "scatterternary"
           }
          ],
          "surface": [
           {
            "colorbar": {
             "outlinewidth": 0,
             "ticks": ""
            },
            "colorscale": [
             [
              0,
              "#0d0887"
             ],
             [
              0.1111111111111111,
              "#46039f"
             ],
             [
              0.2222222222222222,
              "#7201a8"
             ],
             [
              0.3333333333333333,
              "#9c179e"
             ],
             [
              0.4444444444444444,
              "#bd3786"
             ],
             [
              0.5555555555555556,
              "#d8576b"
             ],
             [
              0.6666666666666666,
              "#ed7953"
             ],
             [
              0.7777777777777778,
              "#fb9f3a"
             ],
             [
              0.8888888888888888,
              "#fdca26"
             ],
             [
              1,
              "#f0f921"
             ]
            ],
            "type": "surface"
           }
          ],
          "table": [
           {
            "cells": {
             "fill": {
              "color": "#EBF0F8"
             },
             "line": {
              "color": "white"
             }
            },
            "header": {
             "fill": {
              "color": "#C8D4E3"
             },
             "line": {
              "color": "white"
             }
            },
            "type": "table"
           }
          ]
         },
         "layout": {
          "annotationdefaults": {
           "arrowcolor": "#2a3f5f",
           "arrowhead": 0,
           "arrowwidth": 1
          },
          "autotypenumbers": "strict",
          "coloraxis": {
           "colorbar": {
            "outlinewidth": 0,
            "ticks": ""
           }
          },
          "colorscale": {
           "diverging": [
            [
             0,
             "#8e0152"
            ],
            [
             0.1,
             "#c51b7d"
            ],
            [
             0.2,
             "#de77ae"
            ],
            [
             0.3,
             "#f1b6da"
            ],
            [
             0.4,
             "#fde0ef"
            ],
            [
             0.5,
             "#f7f7f7"
            ],
            [
             0.6,
             "#e6f5d0"
            ],
            [
             0.7,
             "#b8e186"
            ],
            [
             0.8,
             "#7fbc41"
            ],
            [
             0.9,
             "#4d9221"
            ],
            [
             1,
             "#276419"
            ]
           ],
           "sequential": [
            [
             0,
             "#0d0887"
            ],
            [
             0.1111111111111111,
             "#46039f"
            ],
            [
             0.2222222222222222,
             "#7201a8"
            ],
            [
             0.3333333333333333,
             "#9c179e"
            ],
            [
             0.4444444444444444,
             "#bd3786"
            ],
            [
             0.5555555555555556,
             "#d8576b"
            ],
            [
             0.6666666666666666,
             "#ed7953"
            ],
            [
             0.7777777777777778,
             "#fb9f3a"
            ],
            [
             0.8888888888888888,
             "#fdca26"
            ],
            [
             1,
             "#f0f921"
            ]
           ],
           "sequentialminus": [
            [
             0,
             "#0d0887"
            ],
            [
             0.1111111111111111,
             "#46039f"
            ],
            [
             0.2222222222222222,
             "#7201a8"
            ],
            [
             0.3333333333333333,
             "#9c179e"
            ],
            [
             0.4444444444444444,
             "#bd3786"
            ],
            [
             0.5555555555555556,
             "#d8576b"
            ],
            [
             0.6666666666666666,
             "#ed7953"
            ],
            [
             0.7777777777777778,
             "#fb9f3a"
            ],
            [
             0.8888888888888888,
             "#fdca26"
            ],
            [
             1,
             "#f0f921"
            ]
           ]
          },
          "colorway": [
           "#636efa",
           "#EF553B",
           "#00cc96",
           "#ab63fa",
           "#FFA15A",
           "#19d3f3",
           "#FF6692",
           "#B6E880",
           "#FF97FF",
           "#FECB52"
          ],
          "font": {
           "color": "#2a3f5f"
          },
          "geo": {
           "bgcolor": "white",
           "lakecolor": "white",
           "landcolor": "#E5ECF6",
           "showlakes": true,
           "showland": true,
           "subunitcolor": "white"
          },
          "hoverlabel": {
           "align": "left"
          },
          "hovermode": "closest",
          "mapbox": {
           "style": "light"
          },
          "paper_bgcolor": "white",
          "plot_bgcolor": "#E5ECF6",
          "polar": {
           "angularaxis": {
            "gridcolor": "white",
            "linecolor": "white",
            "ticks": ""
           },
           "bgcolor": "#E5ECF6",
           "radialaxis": {
            "gridcolor": "white",
            "linecolor": "white",
            "ticks": ""
           }
          },
          "scene": {
           "xaxis": {
            "backgroundcolor": "#E5ECF6",
            "gridcolor": "white",
            "gridwidth": 2,
            "linecolor": "white",
            "showbackground": true,
            "ticks": "",
            "zerolinecolor": "white"
           },
           "yaxis": {
            "backgroundcolor": "#E5ECF6",
            "gridcolor": "white",
            "gridwidth": 2,
            "linecolor": "white",
            "showbackground": true,
            "ticks": "",
            "zerolinecolor": "white"
           },
           "zaxis": {
            "backgroundcolor": "#E5ECF6",
            "gridcolor": "white",
            "gridwidth": 2,
            "linecolor": "white",
            "showbackground": true,
            "ticks": "",
            "zerolinecolor": "white"
           }
          },
          "shapedefaults": {
           "line": {
            "color": "#2a3f5f"
           }
          },
          "ternary": {
           "aaxis": {
            "gridcolor": "white",
            "linecolor": "white",
            "ticks": ""
           },
           "baxis": {
            "gridcolor": "white",
            "linecolor": "white",
            "ticks": ""
           },
           "bgcolor": "#E5ECF6",
           "caxis": {
            "gridcolor": "white",
            "linecolor": "white",
            "ticks": ""
           }
          },
          "title": {
           "x": 0.05
          },
          "xaxis": {
           "automargin": true,
           "gridcolor": "white",
           "linecolor": "white",
           "ticks": "",
           "title": {
            "standoff": 15
           },
           "zerolinecolor": "white",
           "zerolinewidth": 2
          },
          "yaxis": {
           "automargin": true,
           "gridcolor": "white",
           "linecolor": "white",
           "ticks": "",
           "title": {
            "standoff": 15
           },
           "zerolinecolor": "white",
           "zerolinewidth": 2
          }
         }
        },
        "title": {
         "text": "Composition of ESG Risk Levels by Sector",
         "x": 0.5,
         "y": 0.9
        },
        "width": 1000,
        "xaxis": {
         "anchor": "y",
         "categoryarray": [
          "Real Estate",
          "Technology",
          "Communication Services",
          "Consumer Cyclical",
          "Healthcare",
          "Financial Services",
          "Industrials",
          "Consumer Defensive",
          "Basic Materials",
          "Energy",
          "Utilities"
         ],
         "categoryorder": "array",
         "domain": [
          0,
          1
         ],
         "title": {
          "text": "Sector"
         }
        },
        "yaxis": {
         "anchor": "x",
         "domain": [
          0,
          1
         ],
         "showgrid": false,
         "tickformat": ".0%",
         "title": {
          "text": "Percentage of Companies (%)"
         }
        }
       }
      }
     },
     "metadata": {},
     "output_type": "display_data"
    }
   ],
   "source": [
    "levels = df2_cleaned[['Controversy Level', 'ESG Risk Level', 'Sector']]\n",
    "df_esg_lvl = levels.groupby([\"Sector\", \"ESG Risk Level\"]).size().reset_index(name=\"Count\")\n",
    "df_esg_lvl[\"Proportion\"] = df_esg_lvl.groupby(\"Sector\")[\"Count\"].transform(lambda x: x / x.sum())\n",
    "df_esg_lvl[\"ESG Risk Level\"] = (df_esg_lvl[\"ESG Risk Level\"].astype(\"category\")).str.strip()\n",
    "\n",
    "low_esg = df_esg_lvl[df_esg_lvl[\"ESG Risk Level\"] == \"Low\"][[\"Sector\", \"Proportion\"]]\n",
    "sorted_sectors = low_esg.sort_values(by=\"Proportion\", ascending=False)[\"Sector\"].tolist()\n",
    "\n",
    "def plot_esg_level():\n",
    "    fig2 = px.bar(\n",
    "        df_esg_lvl, \n",
    "        x=\"Sector\", \n",
    "        y=\"Proportion\",  # Use proportion instead of count\n",
    "        color=\"ESG Risk Level\", \n",
    "        title=\"Composition of ESG Risk Levels by Sector\",\n",
    "        barmode=\"stack\",\n",
    "        text=df_esg_lvl[\"Proportion\"].apply(lambda x: f\"{x:.0%}\"),\n",
    "        color_discrete_map=custom_colors,\n",
    "        category_orders={\"Sector\": sorted_sectors,\n",
    "                         \"ESG Risk Level\": [\"Severe\", \"High\", \"Medium\", \"Low\", \"Negligible\"]}\n",
    "    )\n",
    "\n",
    "    fig2.update_layout(\n",
    "        width=1000,  \n",
    "        height=600, \n",
    "        title_x=0.5, \n",
    "        title_y=0.9,\n",
    "        margin=dict(l=100, r=100, t=100, b=100),  \n",
    "        legend_title_text=\"ESG Risk Level\"  \n",
    "    )\n",
    "\n",
    "    # Format y-axis as percentage\n",
    "    fig2.update_yaxes(showgrid = False, tickformat=\".0%\", title=\"Percentage of Companies (%)\")\n",
    "\n",
    "    fig2.show()\n",
    "\n",
    "plot_esg_level()"
   ]
  },
  {
   "cell_type": "markdown",
   "metadata": {},
   "source": [
    "## Recommended Sectors:\n",
    "Real Estate and Technology:\n",
    "Demonstrate strong ESG performance with a high concentration of companies in the \"Low\" and \"Negligible\" risk categories\n",
    "\n",
    "Conversely, sectors such as Energy and Utilities exhibit higher ESG risks, with a substantial portion of companies falling into the \"High\" and \"Severe\" risk levels. \n",
    "\n",
    "Suggests that investors should carefully consider the sector-specific ESG risks when making investment decisions, potentially favoring sectors with robust ESG profiles while exercising caution in sectors with higher inherent risks to minimise company vultnerabilities in terms of legal penalties, operational disruptions and reputational damange. "
   ]
  },
  {
   "cell_type": "code",
   "execution_count": null,
   "metadata": {},
   "outputs": [
    {
     "data": {
      "application/vnd.jupyter.widget-view+json": {
       "model_id": "71745eb37b824745919641854bcd4e77",
       "version_major": 2,
       "version_minor": 0
      },
      "text/plain": [
       "interactive(children=(Dropdown(description='Industry:', options=('All', 'Advertising Agencies', 'Aerospace & D…"
      ]
     },
     "metadata": {},
     "output_type": "display_data"
    }
   ],
   "source": [
    "import seaborn as sns\n",
    "import matplotlib.pyplot as plt\n",
    "import ipywidgets as widgets\n",
    "\n",
    "esg_score_ind_sector = df2_cleaned[['Total ESG Risk score', 'Environment Risk Score', 'Governance Risk Score', 'Social Risk Score', 'ESG Risk Level', \"Industry\", \"Sector\"]]\n",
    "category_order = ['Severe', 'High', 'Medium', 'Low', 'Negligible']\n",
    "\n",
    "industry_options = [\"All\"] + sorted(esg_score_ind_sector[\"Industry\"].dropna().unique().tolist())\n",
    "sector_options = [\"All\"] + sorted(esg_score_ind_sector[\"Sector\"].dropna().unique().tolist())\n",
    "\n",
    "industry_filter = widgets.Dropdown(\n",
    "    options=industry_options, \n",
    "    value=\"All\",\n",
    "    description=\"Industry:\"\n",
    ")\n",
    "\n",
    "sector_filter = widgets.Dropdown(\n",
    "    options=sector_options, \n",
    "    value=\"All\",\n",
    "    description=\"Sector:\"\n",
    ")\n",
    "def update_plot(selected_industry, selected_sector): \n",
    "    plt.close()\n",
    "\n",
    "    filtered_data = esg_score_ind_sector.copy()\n",
    "\n",
    "    if selected_industry != \"All\":\n",
    "        filtered_data = filtered_data[filtered_data[\"Industry\"] == selected_industry]\n",
    "\n",
    "    if selected_sector != \"All\":\n",
    "        filtered_data = filtered_data[filtered_data[\"Sector\"] == selected_sector]\n",
    "    \n",
    "    sns.pairplot(filtered_data, \n",
    "                hue = \"ESG Risk Level\",\n",
    "                hue_order = category_order,\n",
    "                palette = custom_colors, \n",
    "                diag_kind = \"kde\")\n",
    "\n",
    "    plt.subplots_adjust(top=0.9, left=0.1, right=0.9, bottom=0.1)\n",
    "\n",
    "    # Add a centralized title\n",
    "    plt.suptitle(\"Scatter and Density Pairplot of Risk Scores by ESG Risk Level\", \n",
    "                fontsize=16, y=1.0)\n",
    "\n",
    "    plt.show()\n",
    "\n",
    "widgets.interactive(update_plot, selected_industry=industry_filter, selected_sector=sector_filter)"
   ]
  },
  {
   "cell_type": "markdown",
   "metadata": {},
   "source": [
    "## Top 5 Sectors, Industries and Companies based on Average Total and Total ESG Risk Score\n"
   ]
  },
  {
   "cell_type": "code",
   "execution_count": 175,
   "metadata": {},
   "outputs": [
    {
     "name": "stderr",
     "output_type": "stream",
     "text": [
      "C:\\Users\\alyss\\AppData\\Local\\Temp\\ipykernel_26068\\806333204.py:12: SettingWithCopyWarning:\n",
      "\n",
      "\n",
      "A value is trying to be set on a copy of a slice from a DataFrame\n",
      "\n",
      "See the caveats in the documentation: https://pandas.pydata.org/pandas-docs/stable/user_guide/indexing.html#returning-a-view-versus-a-copy\n",
      "\n"
     ]
    },
    {
     "data": {
      "application/vnd.jupyter.widget-view+json": {
       "model_id": "029393d3b0084680a6328362eacb671a",
       "version_major": 2,
       "version_minor": 0
      },
      "text/plain": [
       "interactive(children=(ToggleButtons(description='Toggle between the buttons', options=('Sector', 'Industry', '…"
      ]
     },
     "metadata": {},
     "output_type": "display_data"
    }
   ],
   "source": [
    "import pandas as pd\n",
    "import plotly.express as px\n",
    "import ipywidgets as widgets\n",
    "from ipywidgets import interactive\n",
    "\n",
    "# Select relevant columns for both sector and industry\n",
    "esg_scores = df2_cleaned[[\"Sector\", \"Industry\", \"Name\", \"Total ESG Risk score\", \n",
    "                          \"Environment Risk Score\", \"Governance Risk Score\", \n",
    "                          \"Social Risk Score\"]]\n",
    "\n",
    "numeric_columns = [\"Total ESG Risk score\", \"Environment Risk Score\", \"Governance Risk Score\", \"Social Risk Score\"]\n",
    "esg_scores.rename(columns = {\"Name\":\"Company\"}, inplace = True)\n",
    "\n",
    "def plot_esg_scores(grouping_by='Sector'):\n",
    "    \n",
    "    grouped_data = esg_scores.groupby(grouping_by)[numeric_columns].mean().reset_index()\n",
    "    top5_data = grouped_data.nsmallest(5, \"Total ESG Risk score\")\n",
    "    # Reshape the data for stacked bar chart\n",
    "    top5_data_long = pd.melt(top5_data, id_vars=[grouping_by], value_vars=numeric_columns,\n",
    "                                var_name='Risk Category', value_name='Average Risk Score')\n",
    "\n",
    "    # Create the stacked bar plot using plotly express\n",
    "    fig = px.bar(\n",
    "        top5_data_long, \n",
    "        x=top5_data_long[grouping_by], \n",
    "        y='Average Risk Score',\n",
    "        color='Risk Category',\n",
    "        title=f\"Top 5 with the Lowest Average Total ESG Risk Scores\",\n",
    "        color_discrete_map=category_colors,\n",
    "        labels={grouping_by: grouping_by.capitalize(), 'Average Risk Score': 'Average Risk Score'},\n",
    "        category_orders={grouping_by: top5_data[grouping_by].tolist()},\n",
    "        text='Average Risk Score'\n",
    "    )\n",
    "\n",
    "    # Update layout and annotations\n",
    "    fig.update_traces(texttemplate='%{text:.2f}', textposition='inside', hoverinfo='x+y+text')\n",
    "    fig.update_layout(\n",
    "        barmode='stack', \n",
    "        xaxis_tickangle=-45,\n",
    "        margin=dict(t=50, b=100, l=100, r=100),\n",
    "        title=dict(x=0.5)\n",
    "        )\n",
    "    fig.update_yaxes(showgrid=False)\n",
    "\n",
    "    fig.show()\n",
    "    \n",
    "\n",
    "\n",
    "# Create a widget for selecting between 'Sector','Industry' & 'Company'\n",
    "esg_button = widgets.ToggleButtons(\n",
    "    options=['Sector', 'Industry','Company'],\n",
    "    description=\"Toggle between the buttons\",\n",
    "    disabled=False,\n",
    "    button_style='',  \n",
    "    tooltips=['View by Sector', 'View by Industry', 'View by Company']\n",
    ")\n",
    "\n",
    "interactive_plot = interactive(plot_esg_scores, grouping_by=esg_button)\n",
    "\n",
    "display(interactive_plot)"
   ]
  },
  {
   "cell_type": "markdown",
   "metadata": {},
   "source": [
    "## Top 5 Sectors:\n",
    "### Real Estate, Technology, Consumer Cyclical, Communication Services, Healthcare\n",
    "## Top 5 Industries: \n",
    "### Leisure, Auto Parts, Auto & Truck Dealership, Home Improvement Retail, REIT - Industrial\n",
    "## Top 5 Companies: \n",
    "### Hasbro, Inc, Keysight Technologies, Cbre Group, Inc. , Cdw Corporation, Accenture Pic\n",
    "- Table of Companies filtered by Industry with the Lowest ESG Ratings "
   ]
  },
  {
   "cell_type": "code",
   "execution_count": null,
   "metadata": {},
   "outputs": [
    {
     "name": "stderr",
     "output_type": "stream",
     "text": [
      "C:\\Users\\alyss\\AppData\\Local\\Temp\\ipykernel_26068\\2976004748.py:7: SettingWithCopyWarning:\n",
      "\n",
      "\n",
      "A value is trying to be set on a copy of a slice from a DataFrame\n",
      "\n",
      "See the caveats in the documentation: https://pandas.pydata.org/pandas-docs/stable/user_guide/indexing.html#returning-a-view-versus-a-copy\n",
      "\n",
      "C:\\Users\\alyss\\AppData\\Local\\Temp\\ipykernel_26068\\2976004748.py:18: DeprecationWarning:\n",
      "\n",
      "DataFrameGroupBy.apply operated on the grouping columns. This behavior is deprecated, and in a future version of pandas the grouping columns will be excluded from the operation. Either pass `include_groups=False` to exclude the groupings or explicitly select the grouping columns after groupby to silence this warning.\n",
      "\n"
     ]
    },
    {
     "data": {
      "application/vnd.microsoft.datawrangler.viewer.v0+json": {
       "columns": [
        {
         "name": "index",
         "rawType": "int64",
         "type": "integer"
        },
        {
         "name": "Sector",
         "rawType": "object",
         "type": "string"
        },
        {
         "name": "Industry",
         "rawType": "object",
         "type": "string"
        },
        {
         "name": "Company",
         "rawType": "object",
         "type": "string"
        },
        {
         "name": "Total ESG Risk score",
         "rawType": "float64",
         "type": "float"
        },
        {
         "name": "Environment Risk Score",
         "rawType": "float64",
         "type": "float"
        },
        {
         "name": "Governance Risk Score",
         "rawType": "float64",
         "type": "float"
        },
        {
         "name": "Social Risk Score",
         "rawType": "float64",
         "type": "float"
        },
        {
         "name": "Full Time Employees",
         "rawType": "object",
         "type": "string"
        },
        {
         "name": "ESG Risk Level",
         "rawType": "object",
         "type": "string"
        }
       ],
       "conversionMethod": "pd.DataFrame",
       "ref": "0e5318c0-3ab2-4a00-a7e5-26d30199ce75",
       "rows": [
        [
         "0",
         "Consumer Cyclical",
         "Auto & Truck Dealerships",
         "Carmax Inc.",
         "12.1",
         "0.1",
         "4.0",
         "8.0",
         "29,836",
         "Low"
        ],
        [
         "1",
         "Consumer Cyclical",
         "Auto Parts",
         "Aptiv Plc",
         "10.7",
         "1.5",
         "5.3",
         "3.9",
         "154,000",
         "Low"
        ],
        [
         "2",
         "Consumer Cyclical",
         "Auto Parts",
         "Lkq Corporation",
         "11.1",
         "3.8",
         "3.3",
         "4.0",
         "49,000",
         "Low"
        ],
        [
         "3",
         "Consumer Cyclical",
         "Auto Parts",
         "Borgwarner Inc.",
         "12.6",
         "2.7",
         "5.7",
         "4.2",
         "39,900",
         "Low"
        ],
        [
         "4",
         "Consumer Cyclical",
         "Auto Parts",
         "Genuine Parts Company",
         "13.7",
         "4.7",
         "3.8",
         "5.2",
         "60,000",
         "Low"
        ],
        [
         "5",
         "Consumer Cyclical",
         "Home Improvement Retail",
         "Lowe's Companies Inc.",
         "11.8",
         "3.3",
         "3.2",
         "5.3",
         "300,000",
         "Low"
        ],
        [
         "6",
         "Consumer Cyclical",
         "Home Improvement Retail",
         "Home Depot, Inc.",
         "12.6",
         "3.3",
         "3.8",
         "5.6",
         "465,000",
         "Low"
        ],
        [
         "7",
         "Consumer Cyclical",
         "Leisure",
         "Hasbro, Inc.",
         "7.1",
         "0.0",
         "4.2",
         "2.9",
         "5,502",
         "Negligible"
        ],
        [
         "8",
         "Real Estate",
         "REIT - Industrial",
         "Prologis, Inc.",
         "10.3",
         "2.7",
         "5.0",
         "2.5",
         "2,574",
         "Low"
        ],
        [
         "9",
         "Real Estate",
         "REIT - Industrial",
         "Public Storage",
         "13.1",
         "4.7",
         "5.7",
         "2.6",
         "6,200",
         "Low"
        ],
        [
         "10",
         "Real Estate",
         "REIT - Industrial",
         "Extra Space Storage, Inc.",
         "15.2",
         "4.2",
         "7.3",
         "3.7",
         "7,618",
         "Low"
        ]
       ],
       "shape": {
        "columns": 9,
        "rows": 11
       }
      },
      "text/html": [
       "<div>\n",
       "<style scoped>\n",
       "    .dataframe tbody tr th:only-of-type {\n",
       "        vertical-align: middle;\n",
       "    }\n",
       "\n",
       "    .dataframe tbody tr th {\n",
       "        vertical-align: top;\n",
       "    }\n",
       "\n",
       "    .dataframe thead th {\n",
       "        text-align: right;\n",
       "    }\n",
       "</style>\n",
       "<table border=\"1\" class=\"dataframe\">\n",
       "  <thead>\n",
       "    <tr style=\"text-align: right;\">\n",
       "      <th></th>\n",
       "      <th>Sector</th>\n",
       "      <th>Industry</th>\n",
       "      <th>Company</th>\n",
       "      <th>Total ESG Risk score</th>\n",
       "      <th>Environment Risk Score</th>\n",
       "      <th>Governance Risk Score</th>\n",
       "      <th>Social Risk Score</th>\n",
       "      <th>Full Time Employees</th>\n",
       "      <th>ESG Risk Level</th>\n",
       "    </tr>\n",
       "  </thead>\n",
       "  <tbody>\n",
       "    <tr>\n",
       "      <th>0</th>\n",
       "      <td>Consumer Cyclical</td>\n",
       "      <td>Auto &amp; Truck Dealerships</td>\n",
       "      <td>Carmax Inc.</td>\n",
       "      <td>12.1</td>\n",
       "      <td>0.1</td>\n",
       "      <td>4.0</td>\n",
       "      <td>8.0</td>\n",
       "      <td>29,836</td>\n",
       "      <td>Low</td>\n",
       "    </tr>\n",
       "    <tr>\n",
       "      <th>1</th>\n",
       "      <td>Consumer Cyclical</td>\n",
       "      <td>Auto Parts</td>\n",
       "      <td>Aptiv Plc</td>\n",
       "      <td>10.7</td>\n",
       "      <td>1.5</td>\n",
       "      <td>5.3</td>\n",
       "      <td>3.9</td>\n",
       "      <td>154,000</td>\n",
       "      <td>Low</td>\n",
       "    </tr>\n",
       "    <tr>\n",
       "      <th>2</th>\n",
       "      <td>Consumer Cyclical</td>\n",
       "      <td>Auto Parts</td>\n",
       "      <td>Lkq Corporation</td>\n",
       "      <td>11.1</td>\n",
       "      <td>3.8</td>\n",
       "      <td>3.3</td>\n",
       "      <td>4.0</td>\n",
       "      <td>49,000</td>\n",
       "      <td>Low</td>\n",
       "    </tr>\n",
       "    <tr>\n",
       "      <th>3</th>\n",
       "      <td>Consumer Cyclical</td>\n",
       "      <td>Auto Parts</td>\n",
       "      <td>Borgwarner Inc.</td>\n",
       "      <td>12.6</td>\n",
       "      <td>2.7</td>\n",
       "      <td>5.7</td>\n",
       "      <td>4.2</td>\n",
       "      <td>39,900</td>\n",
       "      <td>Low</td>\n",
       "    </tr>\n",
       "    <tr>\n",
       "      <th>4</th>\n",
       "      <td>Consumer Cyclical</td>\n",
       "      <td>Auto Parts</td>\n",
       "      <td>Genuine Parts Company</td>\n",
       "      <td>13.7</td>\n",
       "      <td>4.7</td>\n",
       "      <td>3.8</td>\n",
       "      <td>5.2</td>\n",
       "      <td>60,000</td>\n",
       "      <td>Low</td>\n",
       "    </tr>\n",
       "    <tr>\n",
       "      <th>5</th>\n",
       "      <td>Consumer Cyclical</td>\n",
       "      <td>Home Improvement Retail</td>\n",
       "      <td>Lowe's Companies Inc.</td>\n",
       "      <td>11.8</td>\n",
       "      <td>3.3</td>\n",
       "      <td>3.2</td>\n",
       "      <td>5.3</td>\n",
       "      <td>300,000</td>\n",
       "      <td>Low</td>\n",
       "    </tr>\n",
       "    <tr>\n",
       "      <th>6</th>\n",
       "      <td>Consumer Cyclical</td>\n",
       "      <td>Home Improvement Retail</td>\n",
       "      <td>Home Depot, Inc.</td>\n",
       "      <td>12.6</td>\n",
       "      <td>3.3</td>\n",
       "      <td>3.8</td>\n",
       "      <td>5.6</td>\n",
       "      <td>465,000</td>\n",
       "      <td>Low</td>\n",
       "    </tr>\n",
       "    <tr>\n",
       "      <th>7</th>\n",
       "      <td>Consumer Cyclical</td>\n",
       "      <td>Leisure</td>\n",
       "      <td>Hasbro, Inc.</td>\n",
       "      <td>7.1</td>\n",
       "      <td>0.0</td>\n",
       "      <td>4.2</td>\n",
       "      <td>2.9</td>\n",
       "      <td>5,502</td>\n",
       "      <td>Negligible</td>\n",
       "    </tr>\n",
       "    <tr>\n",
       "      <th>8</th>\n",
       "      <td>Real Estate</td>\n",
       "      <td>REIT - Industrial</td>\n",
       "      <td>Prologis, Inc.</td>\n",
       "      <td>10.3</td>\n",
       "      <td>2.7</td>\n",
       "      <td>5.0</td>\n",
       "      <td>2.5</td>\n",
       "      <td>2,574</td>\n",
       "      <td>Low</td>\n",
       "    </tr>\n",
       "    <tr>\n",
       "      <th>9</th>\n",
       "      <td>Real Estate</td>\n",
       "      <td>REIT - Industrial</td>\n",
       "      <td>Public Storage</td>\n",
       "      <td>13.1</td>\n",
       "      <td>4.7</td>\n",
       "      <td>5.7</td>\n",
       "      <td>2.6</td>\n",
       "      <td>6,200</td>\n",
       "      <td>Low</td>\n",
       "    </tr>\n",
       "    <tr>\n",
       "      <th>10</th>\n",
       "      <td>Real Estate</td>\n",
       "      <td>REIT - Industrial</td>\n",
       "      <td>Extra Space Storage, Inc.</td>\n",
       "      <td>15.2</td>\n",
       "      <td>4.2</td>\n",
       "      <td>7.3</td>\n",
       "      <td>3.7</td>\n",
       "      <td>7,618</td>\n",
       "      <td>Low</td>\n",
       "    </tr>\n",
       "  </tbody>\n",
       "</table>\n",
       "</div>"
      ],
      "text/plain": [
       "               Sector                  Industry                    Company  \\\n",
       "0   Consumer Cyclical  Auto & Truck Dealerships                Carmax Inc.   \n",
       "1   Consumer Cyclical                Auto Parts                  Aptiv Plc   \n",
       "2   Consumer Cyclical                Auto Parts            Lkq Corporation   \n",
       "3   Consumer Cyclical                Auto Parts            Borgwarner Inc.   \n",
       "4   Consumer Cyclical                Auto Parts      Genuine Parts Company   \n",
       "5   Consumer Cyclical   Home Improvement Retail      Lowe's Companies Inc.   \n",
       "6   Consumer Cyclical   Home Improvement Retail           Home Depot, Inc.   \n",
       "7   Consumer Cyclical                   Leisure               Hasbro, Inc.   \n",
       "8         Real Estate         REIT - Industrial             Prologis, Inc.   \n",
       "9         Real Estate         REIT - Industrial             Public Storage   \n",
       "10        Real Estate         REIT - Industrial  Extra Space Storage, Inc.   \n",
       "\n",
       "    Total ESG Risk score  Environment Risk Score  Governance Risk Score  \\\n",
       "0                   12.1                     0.1                    4.0   \n",
       "1                   10.7                     1.5                    5.3   \n",
       "2                   11.1                     3.8                    3.3   \n",
       "3                   12.6                     2.7                    5.7   \n",
       "4                   13.7                     4.7                    3.8   \n",
       "5                   11.8                     3.3                    3.2   \n",
       "6                   12.6                     3.3                    3.8   \n",
       "7                    7.1                     0.0                    4.2   \n",
       "8                   10.3                     2.7                    5.0   \n",
       "9                   13.1                     4.7                    5.7   \n",
       "10                  15.2                     4.2                    7.3   \n",
       "\n",
       "    Social Risk Score Full Time Employees ESG Risk Level  \n",
       "0                 8.0              29,836            Low  \n",
       "1                 3.9             154,000            Low  \n",
       "2                 4.0              49,000            Low  \n",
       "3                 4.2              39,900            Low  \n",
       "4                 5.2              60,000            Low  \n",
       "5                 5.3             300,000            Low  \n",
       "6                 5.6             465,000            Low  \n",
       "7                 2.9               5,502     Negligible  \n",
       "8                 2.5               2,574            Low  \n",
       "9                 2.6               6,200            Low  \n",
       "10                3.7               7,618            Low  "
      ]
     },
     "execution_count": 202,
     "metadata": {},
     "output_type": "execute_result"
    }
   ],
   "source": [
    "# Select relevant columns for both sector and industry\n",
    "esg_scores_2 = df2_cleaned[[\"Sector\", \"Industry\", \"Name\", \"Total ESG Risk score\", \n",
    "                          \"Environment Risk Score\", \"Governance Risk Score\", \n",
    "                          \"Social Risk Score\", \"Full Time Employees\", \"ESG Risk Level\"]]  # Assuming 'ESG Risk Level' is present\n",
    "\n",
    "# Rename 'Name' column to 'Company' for clarity\n",
    "esg_scores_2.rename(columns={\"Name\": \"Company\"}, inplace=True)\n",
    "\n",
    "def extract_top_5_companies_per_top_5_industries():\n",
    "    # Step 1: Group by Industry and calculate the average 'Total ESG Risk score'\n",
    "    industry_avg_risk = esg_scores_2.groupby(\"Industry\")[\"Total ESG Risk score\"].mean().reset_index()\n",
    "    \n",
    "    # Step 2: Get the Top 5 Industries based on the average Total ESG Risk Score\n",
    "    top_5_industries = industry_avg_risk.nsmallest(5, \"Total ESG Risk score\")[\"Industry\"].tolist()\n",
    "    # Step 3: Filter the dataset to include only the rows for the Top 5 Industries\n",
    "    esg_scores_2_filtered = esg_scores_2[esg_scores_2[\"Industry\"].isin(top_5_industries)]\n",
    "    # Step 4: For each of the Top 5 Industries, get the Top 5 Companies based on Total ESG Risk Score\n",
    "    top_5_companies_per_industry = esg_scores_2_filtered.groupby(\"Industry\").apply(\n",
    "        lambda x: x.nsmallest(5, \"Total ESG Risk score\")\n",
    "    ).reset_index(drop=True)\n",
    "\n",
    "    \n",
    "    return top_5_companies_per_industry\n",
    "\n",
    "top_companies_table = extract_top_5_companies_per_top_5_industries()\n",
    "top_companies_table"
   ]
  },
  {
   "cell_type": "code",
   "execution_count": 167,
   "metadata": {},
   "outputs": [],
   "source": [
    "top_sectors = df2_cleaned.groupby('Sector')[numeric_columns].mean().reset_index()\\\n",
    "    .nsmallest(5, \"Total ESG Risk score\")['Sector'].tolist()\n",
    "\n",
    "esg_scores_filtered_a = df2_cleaned[df2_cleaned['Sector'].isin(top_sectors)]\n",
    "esg_scores_filtered_b = esg_scores_filtered_a[['Total ESG Risk score', 'Environment Risk Score', 'Governance Risk Score', 'Social Risk Score', 'ESG Risk Level']]\n",
    "\n",
    "\n",
    "# Melt the dataframe\n",
    "esg_long = esg_scores_filtered_b.melt(id_vars=[\"ESG Risk Level\"], var_name=\"ESG Category\", value_name=\"Score\")\n",
    "esg_long[\"ESG Category\"] = esg_long[\"ESG Category\"].astype(\"category\")\n",
    "\n",
    "\n",
    "def plot_histogram():\n",
    "    # Prepare the data in long format for easier plotting with facet_row\n",
    "    esg_long['ESG Category'] = esg_long['ESG Category'].str.strip()  \n",
    "\n",
    "    # Create the histogram and median lines using Plotly Express with facet_row\n",
    "    fig = px.histogram(\n",
    "        esg_long, \n",
    "        x=\"Score\", \n",
    "        color=\"ESG Category\",  \n",
    "        facet_col=\"ESG Category\",  \n",
    "        nbins=25,\n",
    "        opacity=0.7, \n",
    "        title=\"Distribution of ESG Scores by Category for Top 5 Sectors\", \n",
    "        color_discrete_map=category_colors,\n",
    "        labels={\"Score\": \"ESG Score\", \"percent\": \"Percentage of Scores\"}\n",
    "    )\n",
    "\n",
    "    # Add median lines for each category\n",
    "    for col in esg_scores_filtered_b.columns[:-1]:\n",
    "        data = esg_long[esg_long['ESG Category'] == col]['Score']\n",
    "        \n",
    "        # Calculate median\n",
    "        median = data.median()\n",
    "    \n",
    "\n",
    "        # Add median line to the histogram\n",
    "        fig.add_vline(\n",
    "            x=median, \n",
    "            line=dict(color=\"blue\", width=2, dash=\"dot\"), \n",
    "            annotation_text=f\"Median: {median:.2f}\", \n",
    "            annotation_position=\"top right\",\n",
    "            col=esg_scores_filtered_b.columns.tolist().index(col) + 1, \n",
    "            opacity=0.6\n",
    "        )\n",
    "    \n",
    "    # Update layout settings\n",
    "    fig.update_layout(\n",
    "        height=600,  \n",
    "        width=1200,\n",
    "        showlegend=False,\n",
    "        title_font_size=20,  \n",
    "        title_x=0.5,\n",
    "        font=dict(family=\"Arial\", size=12, color=\"black\"),\n",
    "        bargap=0.1\n",
    "    )\n",
    "\n",
    "    fig.update_xaxes(matches=None)  # Set independent x-axes\n",
    "    fig.update_yaxes(matches=None)  # Set independent y-axes\n",
    "    \n",
    "    # Remove gridlines and adjust axes\n",
    "    fig.update_yaxes(showticklabels=True, title_text=\"Percentage of Scores\", row=1, col=1)\n",
    "    fig.update_xaxes(showgrid=False, title_text=\"ESG Score\", row=1, col=1)\n",
    "    \n",
    "    fig.for_each_annotation(lambda a: a.update(text=a.text.split('=')[1] if '=' in a.text else a.text))\n",
    "\n",
    "    # Show plot\n",
    "    fig.show()\n",
    "\n",
    "def plot_density_by_sector():\n",
    "    # Get the unique top 5 sectors\n",
    "    sectors = esg_scores_filtered_a['Sector'].unique()\n",
    "    num_sectors = len(sectors)\n",
    "\n",
    "    # Define ESG categories\n",
    "    esg_categories = [\"Environment Risk Score\", \"Governance Risk Score\", \"Social Risk Score\", \"Total ESG Risk score\"]\n",
    "\n",
    "    # Create a 3-row x 2-column grid (for max 6 plots)\n",
    "    fig, axes = plt.subplots(3, 2, figsize=(14, 12), sharey=True)\n",
    "\n",
    "    # Flatten axes array for easier indexing\n",
    "    axes = axes.flatten()\n",
    "\n",
    "    for i, sector in enumerate(sectors):\n",
    "        ax = axes[i]\n",
    "\n",
    "        # Filter data for the current sector\n",
    "        sector_data = esg_scores_filtered_a[esg_scores_filtered_a[\"Sector\"] == sector]\n",
    "        \n",
    "        # Plot density for each ESG category\n",
    "        for category in esg_categories:\n",
    "            sns.kdeplot(sector_data[category], ax=ax, \n",
    "                        label=category, \n",
    "                        color=category_colors.get(category, np.random.choice([\"blue\", \"green\", \"red\"])), \n",
    "                        fill=True)\n",
    "\n",
    "        # Formatting\n",
    "        ax.set_title(sector, fontsize=14)\n",
    "        ax.set_xlabel(\"ESG Score\", fontsize=12)\n",
    "        ax.set_ylabel(\"Density\", fontsize=12)\n",
    "        ax.tick_params(axis=\"both\", labelsize=10)\n",
    "        ax.legend(fontsize=10)\n",
    "\n",
    "    # Hide the last empty subplot if there are fewer than 6 sectors\n",
    "    if num_sectors < 6:\n",
    "        for j in range(num_sectors, 6):\n",
    "            fig.delaxes(axes[j])\n",
    "\n",
    "    plt.suptitle(\"Density Distribution of ESG Scores by Sector\", fontsize=18, y=1.02)\n",
    "    plt.tight_layout()\n",
    "    plt.show()\n",
    "\n",
    "def plot_correlation_matrix():\n",
    "    correlation_matrix = esg_scores_filtered_b[['Total ESG Risk score', 'Environment Risk Score', 'Governance Risk Score', 'Social Risk Score']].corr()\n",
    "\n",
    "    # Plot heatmap\n",
    "    plt.figure(figsize=(8, 6))\n",
    "    sns.heatmap(correlation_matrix, annot=True, cmap=\"coolwarm\", fmt=\".2f\", linewidths=0.5)\n",
    "    plt.title(\"Correlation Between ESG Risk Components and Total ESG Risk Score\", fontsize=14)\n",
    "    plt.show()\n"
   ]
  },
  {
   "cell_type": "markdown",
   "metadata": {},
   "source": [
    "# Insights for Regulators"
   ]
  },
  {
   "cell_type": "markdown",
   "metadata": {},
   "source": [
    "## Key Insights based on Distribution of Risk Scores accross Companies in the Top 5 Sectors\n",
    "\n",
    "### 1. Social Risk Dominance: \n",
    "\n",
    "The higher median and broader distribution of social risk scores suggest that social factors are a more significant driver of overall ESG risk compared to environmental and governance factors in these top 5 sectors.\n",
    "\n",
    "### 2. Low Environmental Risk: \n",
    "\n",
    "The very low median and highly skewed distribution of environmental risk scores indicate that environmental risks are generally well-managed or inherently low in these sectors\n",
    "\n",
    "### 3. Total ESG Risk Skew: \n",
    "\n",
    "The skew in the total ESG risk score towards higher values suggests that while many companies have relatively low overall risk, there are still a significant number with higher risks, likely driven by social and, to a lesser extent, governance factors"
   ]
  },
  {
   "cell_type": "code",
   "execution_count": 168,
   "metadata": {},
   "outputs": [
    {
     "data": {
      "application/vnd.plotly.v1+json": {
       "config": {
        "plotlyServerURL": "https://plot.ly"
       },
       "data": [
        {
         "bingroup": "x",
         "hovertemplate": "ESG Category=Total ESG Risk score<br>ESG Score=%{x}<br>count=%{y}<extra></extra>",
         "legendgroup": "Total ESG Risk score",
         "marker": {
          "color": "#89ac46",
          "opacity": 0.7,
          "pattern": {
           "shape": ""
          }
         },
         "name": "Total ESG Risk score",
         "nbinsx": 25,
         "orientation": "v",
         "showlegend": true,
         "type": "histogram",
         "x": {
          "bdata": "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",
          "dtype": "f8"
         },
         "xaxis": "x",
         "yaxis": "y"
        },
        {
         "bingroup": "x",
         "hovertemplate": "ESG Category=Environment Risk Score<br>ESG Score=%{x}<br>count=%{y}<extra></extra>",
         "legendgroup": "Environment Risk Score",
         "marker": {
          "color": "#d3e671",
          "opacity": 0.7,
          "pattern": {
           "shape": ""
          }
         },
         "name": "Environment Risk Score",
         "nbinsx": 25,
         "orientation": "v",
         "showlegend": true,
         "type": "histogram",
         "x": {
          "bdata": "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",
          "dtype": "f8"
         },
         "xaxis": "x2",
         "yaxis": "y2"
        },
        {
         "bingroup": "x",
         "hovertemplate": "ESG Category=Governance Risk Score<br>ESG Score=%{x}<br>count=%{y}<extra></extra>",
         "legendgroup": "Governance Risk Score",
         "marker": {
          "color": "#f8ed8c",
          "opacity": 0.7,
          "pattern": {
           "shape": ""
          }
         },
         "name": "Governance Risk Score",
         "nbinsx": 25,
         "orientation": "v",
         "showlegend": true,
         "type": "histogram",
         "x": {
          "bdata": "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",
          "dtype": "f8"
         },
         "xaxis": "x3",
         "yaxis": "y3"
        },
        {
         "bingroup": "x",
         "hovertemplate": "ESG Category=Social Risk Score<br>ESG Score=%{x}<br>count=%{y}<extra></extra>",
         "legendgroup": "Social Risk Score",
         "marker": {
          "color": "#ff8989",
          "opacity": 0.7,
          "pattern": {
           "shape": ""
          }
         },
         "name": "Social Risk Score",
         "nbinsx": 25,
         "orientation": "v",
         "showlegend": true,
         "type": "histogram",
         "x": {
          "bdata": "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",
          "dtype": "f8"
         },
         "xaxis": "x4",
         "yaxis": "y4"
        }
       ],
       "layout": {
        "annotations": [
         {
          "showarrow": false,
          "text": "Total ESG Risk score",
          "x": 0.1175,
          "xanchor": "center",
          "xref": "paper",
          "y": 1,
          "yanchor": "bottom",
          "yref": "paper"
         },
         {
          "showarrow": false,
          "text": "Environment Risk Score",
          "x": 0.3725,
          "xanchor": "center",
          "xref": "paper",
          "y": 1,
          "yanchor": "bottom",
          "yref": "paper"
         },
         {
          "showarrow": false,
          "text": "Governance Risk Score",
          "x": 0.6275,
          "xanchor": "center",
          "xref": "paper",
          "y": 1,
          "yanchor": "bottom",
          "yref": "paper"
         },
         {
          "showarrow": false,
          "text": "Social Risk Score",
          "x": 0.8824999999999998,
          "xanchor": "center",
          "xref": "paper",
          "y": 1,
          "yanchor": "bottom",
          "yref": "paper"
         },
         {
          "showarrow": false,
          "text": "Median: 17.00",
          "x": 17,
          "xanchor": "left",
          "xref": "x",
          "y": 1,
          "yanchor": "top",
          "yref": "y domain"
         },
         {
          "showarrow": false,
          "text": "Median: 3.00",
          "x": 3,
          "xanchor": "left",
          "xref": "x2",
          "y": 1,
          "yanchor": "top",
          "yref": "y2 domain"
         },
         {
          "showarrow": false,
          "text": "Median: 5.80",
          "x": 5.8,
          "xanchor": "left",
          "xref": "x3",
          "y": 1,
          "yanchor": "top",
          "yref": "y3 domain"
         },
         {
          "showarrow": false,
          "text": "Median: 7.70",
          "x": 7.7,
          "xanchor": "left",
          "xref": "x4",
          "y": 1,
          "yanchor": "top",
          "yref": "y4 domain"
         }
        ],
        "bargap": 0.1,
        "barmode": "relative",
        "font": {
         "color": "black",
         "family": "Arial",
         "size": 12
        },
        "height": 600,
        "legend": {
         "title": {
          "text": "ESG Category"
         },
         "tracegroupgap": 0
        },
        "shapes": [
         {
          "line": {
           "color": "blue",
           "dash": "dot",
           "width": 2
          },
          "opacity": 0.6,
          "type": "line",
          "x0": 17,
          "x1": 17,
          "xref": "x",
          "y0": 0,
          "y1": 1,
          "yref": "y domain"
         },
         {
          "line": {
           "color": "blue",
           "dash": "dot",
           "width": 2
          },
          "opacity": 0.6,
          "type": "line",
          "x0": 3,
          "x1": 3,
          "xref": "x2",
          "y0": 0,
          "y1": 1,
          "yref": "y2 domain"
         },
         {
          "line": {
           "color": "blue",
           "dash": "dot",
           "width": 2
          },
          "opacity": 0.6,
          "type": "line",
          "x0": 5.8,
          "x1": 5.8,
          "xref": "x3",
          "y0": 0,
          "y1": 1,
          "yref": "y3 domain"
         },
         {
          "line": {
           "color": "blue",
           "dash": "dot",
           "width": 2
          },
          "opacity": 0.6,
          "type": "line",
          "x0": 7.7,
          "x1": 7.7,
          "xref": "x4",
          "y0": 0,
          "y1": 1,
          "yref": "y4 domain"
         }
        ],
        "showlegend": false,
        "template": {
         "data": {
          "bar": [
           {
            "error_x": {
             "color": "#2a3f5f"
            },
            "error_y": {
             "color": "#2a3f5f"
            },
            "marker": {
             "line": {
              "color": "#E5ECF6",
              "width": 0.5
             },
             "pattern": {
              "fillmode": "overlay",
              "size": 10,
              "solidity": 0.2
             }
            },
            "type": "bar"
           }
          ],
          "barpolar": [
           {
            "marker": {
             "line": {
              "color": "#E5ECF6",
              "width": 0.5
             },
             "pattern": {
              "fillmode": "overlay",
              "size": 10,
              "solidity": 0.2
             }
            },
            "type": "barpolar"
           }
          ],
          "carpet": [
           {
            "aaxis": {
             "endlinecolor": "#2a3f5f",
             "gridcolor": "white",
             "linecolor": "white",
             "minorgridcolor": "white",
             "startlinecolor": "#2a3f5f"
            },
            "baxis": {
             "endlinecolor": "#2a3f5f",
             "gridcolor": "white",
             "linecolor": "white",
             "minorgridcolor": "white",
             "startlinecolor": "#2a3f5f"
            },
            "type": "carpet"
           }
          ],
          "choropleth": [
           {
            "colorbar": {
             "outlinewidth": 0,
             "ticks": ""
            },
            "type": "choropleth"
           }
          ],
          "contour": [
           {
            "colorbar": {
             "outlinewidth": 0,
             "ticks": ""
            },
            "colorscale": [
             [
              0,
              "#0d0887"
             ],
             [
              0.1111111111111111,
              "#46039f"
             ],
             [
              0.2222222222222222,
              "#7201a8"
             ],
             [
              0.3333333333333333,
              "#9c179e"
             ],
             [
              0.4444444444444444,
              "#bd3786"
             ],
             [
              0.5555555555555556,
              "#d8576b"
             ],
             [
              0.6666666666666666,
              "#ed7953"
             ],
             [
              0.7777777777777778,
              "#fb9f3a"
             ],
             [
              0.8888888888888888,
              "#fdca26"
             ],
             [
              1,
              "#f0f921"
             ]
            ],
            "type": "contour"
           }
          ],
          "contourcarpet": [
           {
            "colorbar": {
             "outlinewidth": 0,
             "ticks": ""
            },
            "type": "contourcarpet"
           }
          ],
          "heatmap": [
           {
            "colorbar": {
             "outlinewidth": 0,
             "ticks": ""
            },
            "colorscale": [
             [
              0,
              "#0d0887"
             ],
             [
              0.1111111111111111,
              "#46039f"
             ],
             [
              0.2222222222222222,
              "#7201a8"
             ],
             [
              0.3333333333333333,
              "#9c179e"
             ],
             [
              0.4444444444444444,
              "#bd3786"
             ],
             [
              0.5555555555555556,
              "#d8576b"
             ],
             [
              0.6666666666666666,
              "#ed7953"
             ],
             [
              0.7777777777777778,
              "#fb9f3a"
             ],
             [
              0.8888888888888888,
              "#fdca26"
             ],
             [
              1,
              "#f0f921"
             ]
            ],
            "type": "heatmap"
           }
          ],
          "histogram": [
           {
            "marker": {
             "pattern": {
              "fillmode": "overlay",
              "size": 10,
              "solidity": 0.2
             }
            },
            "type": "histogram"
           }
          ],
          "histogram2d": [
           {
            "colorbar": {
             "outlinewidth": 0,
             "ticks": ""
            },
            "colorscale": [
             [
              0,
              "#0d0887"
             ],
             [
              0.1111111111111111,
              "#46039f"
             ],
             [
              0.2222222222222222,
              "#7201a8"
             ],
             [
              0.3333333333333333,
              "#9c179e"
             ],
             [
              0.4444444444444444,
              "#bd3786"
             ],
             [
              0.5555555555555556,
              "#d8576b"
             ],
             [
              0.6666666666666666,
              "#ed7953"
             ],
             [
              0.7777777777777778,
              "#fb9f3a"
             ],
             [
              0.8888888888888888,
              "#fdca26"
             ],
             [
              1,
              "#f0f921"
             ]
            ],
            "type": "histogram2d"
           }
          ],
          "histogram2dcontour": [
           {
            "colorbar": {
             "outlinewidth": 0,
             "ticks": ""
            },
            "colorscale": [
             [
              0,
              "#0d0887"
             ],
             [
              0.1111111111111111,
              "#46039f"
             ],
             [
              0.2222222222222222,
              "#7201a8"
             ],
             [
              0.3333333333333333,
              "#9c179e"
             ],
             [
              0.4444444444444444,
              "#bd3786"
             ],
             [
              0.5555555555555556,
              "#d8576b"
             ],
             [
              0.6666666666666666,
              "#ed7953"
             ],
             [
              0.7777777777777778,
              "#fb9f3a"
             ],
             [
              0.8888888888888888,
              "#fdca26"
             ],
             [
              1,
              "#f0f921"
             ]
            ],
            "type": "histogram2dcontour"
           }
          ],
          "mesh3d": [
           {
            "colorbar": {
             "outlinewidth": 0,
             "ticks": ""
            },
            "type": "mesh3d"
           }
          ],
          "parcoords": [
           {
            "line": {
             "colorbar": {
              "outlinewidth": 0,
              "ticks": ""
             }
            },
            "type": "parcoords"
           }
          ],
          "pie": [
           {
            "automargin": true,
            "type": "pie"
           }
          ],
          "scatter": [
           {
            "fillpattern": {
             "fillmode": "overlay",
             "size": 10,
             "solidity": 0.2
            },
            "type": "scatter"
           }
          ],
          "scatter3d": [
           {
            "line": {
             "colorbar": {
              "outlinewidth": 0,
              "ticks": ""
             }
            },
            "marker": {
             "colorbar": {
              "outlinewidth": 0,
              "ticks": ""
             }
            },
            "type": "scatter3d"
           }
          ],
          "scattercarpet": [
           {
            "marker": {
             "colorbar": {
              "outlinewidth": 0,
              "ticks": ""
             }
            },
            "type": "scattercarpet"
           }
          ],
          "scattergeo": [
           {
            "marker": {
             "colorbar": {
              "outlinewidth": 0,
              "ticks": ""
             }
            },
            "type": "scattergeo"
           }
          ],
          "scattergl": [
           {
            "marker": {
             "colorbar": {
              "outlinewidth": 0,
              "ticks": ""
             }
            },
            "type": "scattergl"
           }
          ],
          "scattermap": [
           {
            "marker": {
             "colorbar": {
              "outlinewidth": 0,
              "ticks": ""
             }
            },
            "type": "scattermap"
           }
          ],
          "scattermapbox": [
           {
            "marker": {
             "colorbar": {
              "outlinewidth": 0,
              "ticks": ""
             }
            },
            "type": "scattermapbox"
           }
          ],
          "scatterpolar": [
           {
            "marker": {
             "colorbar": {
              "outlinewidth": 0,
              "ticks": ""
             }
            },
            "type": "scatterpolar"
           }
          ],
          "scatterpolargl": [
           {
            "marker": {
             "colorbar": {
              "outlinewidth": 0,
              "ticks": ""
             }
            },
            "type": "scatterpolargl"
           }
          ],
          "scatterternary": [
           {
            "marker": {
             "colorbar": {
              "outlinewidth": 0,
              "ticks": ""
             }
            },
            "type": "scatterternary"
           }
          ],
          "surface": [
           {
            "colorbar": {
             "outlinewidth": 0,
             "ticks": ""
            },
            "colorscale": [
             [
              0,
              "#0d0887"
             ],
             [
              0.1111111111111111,
              "#46039f"
             ],
             [
              0.2222222222222222,
              "#7201a8"
             ],
             [
              0.3333333333333333,
              "#9c179e"
             ],
             [
              0.4444444444444444,
              "#bd3786"
             ],
             [
              0.5555555555555556,
              "#d8576b"
             ],
             [
              0.6666666666666666,
              "#ed7953"
             ],
             [
              0.7777777777777778,
              "#fb9f3a"
             ],
             [
              0.8888888888888888,
              "#fdca26"
             ],
             [
              1,
              "#f0f921"
             ]
            ],
            "type": "surface"
           }
          ],
          "table": [
           {
            "cells": {
             "fill": {
              "color": "#EBF0F8"
             },
             "line": {
              "color": "white"
             }
            },
            "header": {
             "fill": {
              "color": "#C8D4E3"
             },
             "line": {
              "color": "white"
             }
            },
            "type": "table"
           }
          ]
         },
         "layout": {
          "annotationdefaults": {
           "arrowcolor": "#2a3f5f",
           "arrowhead": 0,
           "arrowwidth": 1
          },
          "autotypenumbers": "strict",
          "coloraxis": {
           "colorbar": {
            "outlinewidth": 0,
            "ticks": ""
           }
          },
          "colorscale": {
           "diverging": [
            [
             0,
             "#8e0152"
            ],
            [
             0.1,
             "#c51b7d"
            ],
            [
             0.2,
             "#de77ae"
            ],
            [
             0.3,
             "#f1b6da"
            ],
            [
             0.4,
             "#fde0ef"
            ],
            [
             0.5,
             "#f7f7f7"
            ],
            [
             0.6,
             "#e6f5d0"
            ],
            [
             0.7,
             "#b8e186"
            ],
            [
             0.8,
             "#7fbc41"
            ],
            [
             0.9,
             "#4d9221"
            ],
            [
             1,
             "#276419"
            ]
           ],
           "sequential": [
            [
             0,
             "#0d0887"
            ],
            [
             0.1111111111111111,
             "#46039f"
            ],
            [
             0.2222222222222222,
             "#7201a8"
            ],
            [
             0.3333333333333333,
             "#9c179e"
            ],
            [
             0.4444444444444444,
             "#bd3786"
            ],
            [
             0.5555555555555556,
             "#d8576b"
            ],
            [
             0.6666666666666666,
             "#ed7953"
            ],
            [
             0.7777777777777778,
             "#fb9f3a"
            ],
            [
             0.8888888888888888,
             "#fdca26"
            ],
            [
             1,
             "#f0f921"
            ]
           ],
           "sequentialminus": [
            [
             0,
             "#0d0887"
            ],
            [
             0.1111111111111111,
             "#46039f"
            ],
            [
             0.2222222222222222,
             "#7201a8"
            ],
            [
             0.3333333333333333,
             "#9c179e"
            ],
            [
             0.4444444444444444,
             "#bd3786"
            ],
            [
             0.5555555555555556,
             "#d8576b"
            ],
            [
             0.6666666666666666,
             "#ed7953"
            ],
            [
             0.7777777777777778,
             "#fb9f3a"
            ],
            [
             0.8888888888888888,
             "#fdca26"
            ],
            [
             1,
             "#f0f921"
            ]
           ]
          },
          "colorway": [
           "#636efa",
           "#EF553B",
           "#00cc96",
           "#ab63fa",
           "#FFA15A",
           "#19d3f3",
           "#FF6692",
           "#B6E880",
           "#FF97FF",
           "#FECB52"
          ],
          "font": {
           "color": "#2a3f5f"
          },
          "geo": {
           "bgcolor": "white",
           "lakecolor": "white",
           "landcolor": "#E5ECF6",
           "showlakes": true,
           "showland": true,
           "subunitcolor": "white"
          },
          "hoverlabel": {
           "align": "left"
          },
          "hovermode": "closest",
          "mapbox": {
           "style": "light"
          },
          "paper_bgcolor": "white",
          "plot_bgcolor": "#E5ECF6",
          "polar": {
           "angularaxis": {
            "gridcolor": "white",
            "linecolor": "white",
            "ticks": ""
           },
           "bgcolor": "#E5ECF6",
           "radialaxis": {
            "gridcolor": "white",
            "linecolor": "white",
            "ticks": ""
           }
          },
          "scene": {
           "xaxis": {
            "backgroundcolor": "#E5ECF6",
            "gridcolor": "white",
            "gridwidth": 2,
            "linecolor": "white",
            "showbackground": true,
            "ticks": "",
            "zerolinecolor": "white"
           },
           "yaxis": {
            "backgroundcolor": "#E5ECF6",
            "gridcolor": "white",
            "gridwidth": 2,
            "linecolor": "white",
            "showbackground": true,
            "ticks": "",
            "zerolinecolor": "white"
           },
           "zaxis": {
            "backgroundcolor": "#E5ECF6",
            "gridcolor": "white",
            "gridwidth": 2,
            "linecolor": "white",
            "showbackground": true,
            "ticks": "",
            "zerolinecolor": "white"
           }
          },
          "shapedefaults": {
           "line": {
            "color": "#2a3f5f"
           }
          },
          "ternary": {
           "aaxis": {
            "gridcolor": "white",
            "linecolor": "white",
            "ticks": ""
           },
           "baxis": {
            "gridcolor": "white",
            "linecolor": "white",
            "ticks": ""
           },
           "bgcolor": "#E5ECF6",
           "caxis": {
            "gridcolor": "white",
            "linecolor": "white",
            "ticks": ""
           }
          },
          "title": {
           "x": 0.05
          },
          "xaxis": {
           "automargin": true,
           "gridcolor": "white",
           "linecolor": "white",
           "ticks": "",
           "title": {
            "standoff": 15
           },
           "zerolinecolor": "white",
           "zerolinewidth": 2
          },
          "yaxis": {
           "automargin": true,
           "gridcolor": "white",
           "linecolor": "white",
           "ticks": "",
           "title": {
            "standoff": 15
           },
           "zerolinecolor": "white",
           "zerolinewidth": 2
          }
         }
        },
        "title": {
         "font": {
          "size": 20
         },
         "text": "Distribution of ESG Scores by Category for Top 5 Sectors",
         "x": 0.5
        },
        "width": 1200,
        "xaxis": {
         "anchor": "y",
         "domain": [
          0,
          0.235
         ],
         "showgrid": false,
         "title": {
          "text": "ESG Score"
         }
        },
        "xaxis2": {
         "anchor": "y2",
         "domain": [
          0.255,
          0.49
         ],
         "title": {
          "text": "ESG Score"
         }
        },
        "xaxis3": {
         "anchor": "y3",
         "domain": [
          0.51,
          0.745
         ],
         "title": {
          "text": "ESG Score"
         }
        },
        "xaxis4": {
         "anchor": "y4",
         "domain": [
          0.7649999999999999,
          0.9999999999999999
         ],
         "title": {
          "text": "ESG Score"
         }
        },
        "yaxis": {
         "anchor": "x",
         "domain": [
          0,
          1
         ],
         "showticklabels": true,
         "title": {
          "text": "Percentage of Scores"
         }
        },
        "yaxis2": {
         "anchor": "x2",
         "domain": [
          0,
          1
         ],
         "showticklabels": false
        },
        "yaxis3": {
         "anchor": "x3",
         "domain": [
          0,
          1
         ],
         "showticklabels": false
        },
        "yaxis4": {
         "anchor": "x4",
         "domain": [
          0,
          1
         ],
         "showticklabels": false
        }
       }
      }
     },
     "metadata": {},
     "output_type": "display_data"
    }
   ],
   "source": [
    "plot_histogram()"
   ]
  },
  {
   "cell_type": "code",
   "execution_count": 169,
   "metadata": {},
   "outputs": [
    {
     "data": {
      "image/png": "[encoded data removed]",
      "text/plain": [
       "<Figure size 1400x1200 with 5 Axes>"
      ]
     },
     "metadata": {},
     "output_type": "display_data"
    }
   ],
   "source": [
    "plot_density_by_sector()"
   ]
  },
  {
   "cell_type": "markdown",
   "metadata": {},
   "source": [
    "## Main Insights from Density Distribution\n",
    "### Real Estate, Technology, and Communication Services \n",
    "- show a similar pattern of low ESG risk, particularly in the environmental component, suggesting higher focus on environmental sentiments and more efforts put in place to maange environmental risks\n",
    "\n",
    "### Healthcare and Consumer Cyclical sectors \n",
    "- exhibit more variability in their ESG scores particularly in the social and governance aspects\n",
    "\n",
    "### Risk Distribution-Wise\n",
    "Environmental risk tends to be lower across all sectors compared to social and governance risks. This might indicate that companies are generally more focused on addressing environmental concerns, or that environmental risks are more easily quantifiable and manageable"
   ]
  },
  {
   "cell_type": "markdown",
   "metadata": {},
   "source": [
    "## Which ESG Risk Score Component contributes significantly to the Total Risk Score:"
   ]
  },
  {
   "cell_type": "code",
   "execution_count": 208,
   "metadata": {},
   "outputs": [
    {
     "data": {
      "image/png": "[encoded data removed]",
      "text/plain": [
       "<Figure size 800x600 with 2 Axes>"
      ]
     },
     "metadata": {},
     "output_type": "display_data"
    }
   ],
   "source": [
    "plot_correlation_matrix()"
   ]
  },
  {
   "cell_type": "markdown",
   "metadata": {},
   "source": [
    "### Social Risk Score: 0.81 (Strong positive correlation) \n",
    "- This shows a strong positive correlation, indicating that social risk is a major driver of the overall ESG risk score.\n",
    "\n",
    "### Governance Risk Score: 0.58 (Moderate positive correlation) \n",
    "- Similar to environmental risk, higher governance risk is associated with higher total ESG risk, but the relationship is moderately strong.\n",
    "\n",
    "## Key Correlation Insight Among Individual Componenents \n",
    "Governance vs. Social: 0.52 (Moderate positive correlation) \n",
    "- There's a moderate tendency for companies with higher governance risk to also have higher social risk.\n",
    "\n",
    "# Key takeaways: Stronger emphasis on Social risk management to improve overall ESG ratings \n",
    "### Tips for Companies\n",
    "- Invest in employee training and development \n",
    "- Enhance customer relations, strengthen community relations"
   ]
  },
  {
   "cell_type": "markdown",
   "metadata": {},
   "source": [
    "# Key Insights for Stakeholders"
   ]
  },
  {
   "cell_type": "code",
   "execution_count": 166,
   "metadata": {},
   "outputs": [
    {
     "name": "stderr",
     "output_type": "stream",
     "text": [
      "C:\\Users\\alyss\\AppData\\Local\\Temp\\ipykernel_26068\\3755112071.py:7: SettingWithCopyWarning:\n",
      "\n",
      "\n",
      "A value is trying to be set on a copy of a slice from a DataFrame.\n",
      "Try using .loc[row_indexer,col_indexer] = value instead\n",
      "\n",
      "See the caveats in the documentation: https://pandas.pydata.org/pandas-docs/stable/user_guide/indexing.html#returning-a-view-versus-a-copy\n",
      "\n"
     ]
    },
    {
     "data": {
      "application/vnd.plotly.v1+json": {
       "config": {
        "plotlyServerURL": "https://plot.ly"
       },
       "data": [
        {
         "hovertemplate": "Controversy Level=Severe<br>Sector=%{x}<br>Proportion=%{y}<br>text=%{text}<extra></extra>",
         "legendgroup": "Severe",
         "marker": {
          "color": "#e83715",
          "pattern": {
           "shape": ""
          }
         },
         "name": "Severe",
         "orientation": "v",
         "showlegend": true,
         "text": [
          "2%",
          "2%"
         ],
         "textposition": "auto",
         "type": "bar",
         "x": [
          "Financial Services",
          "Industrials"
         ],
         "xaxis": "x",
         "y": {
          "bdata": "EARBEARBkD8RERERERGRPw==",
          "dtype": "f8"
         },
         "yaxis": "y"
        },
        {
         "hovertemplate": "Controversy Level=Significant<br>Sector=%{x}<br>Proportion=%{y}<br>text=%{text}<extra></extra>",
         "legendgroup": "Significant",
         "marker": {
          "color": "#f26b21",
          "pattern": {
           "shape": ""
          }
         },
         "name": "Significant",
         "orientation": "v",
         "showlegend": true,
         "text": [
          "16%",
          "29%",
          "22%",
          "45%",
          "20%",
          "10%",
          "38%",
          "17%",
          "8%",
          "18%"
         ],
         "textposition": "auto",
         "type": "bar",
         "x": [
          "Basic Materials",
          "Communication Services",
          "Consumer Cyclical",
          "Consumer Defensive",
          "Energy",
          "Financial Services",
          "Healthcare",
          "Industrials",
          "Technology",
          "Utilities"
         ],
         "xaxis": "x",
         "y": {
          "bdata": "XkN5DeU1xD+SJEmSJEnSP5ybm5ubm8s/F1100UUX3T+amZmZmZnJPxiGYRiGYbg/8lb2OaQm2D9VVVVVVVXFP8kQrKPN+7Q/t23btm3bxj8=",
          "dtype": "f8"
         },
         "yaxis": "y"
        },
        {
         "hovertemplate": "Controversy Level=High<br>Sector=%{x}<br>Proportion=%{y}<br>text=%{text}<extra></extra>",
         "legendgroup": "High",
         "marker": {
          "color": "#f78e31",
          "pattern": {
           "shape": ""
          }
         },
         "name": "High",
         "orientation": "v",
         "showlegend": true,
         "text": [
          "5%",
          "14%",
          "2%",
          "3%",
          "3%",
          "2%",
          "3%",
          "4%"
         ],
         "textposition": "auto",
         "type": "bar",
         "x": [
          "Basic Materials",
          "Communication Services",
          "Consumer Cyclical",
          "Consumer Defensive",
          "Financial Services",
          "Healthcare",
          "Industrials",
          "Utilities"
         ],
         "xaxis": "x",
         "y": {
          "bdata": "KK+hvIbyqj+SJEmSJEnCPxQUFBQUFJQ/CB988MEHnz8QBEEQBEGgP8F4K/scUpM/ERERERERoT+SJEmSJEmiPw==",
          "dtype": "f8"
         },
         "yaxis": "y"
        },
        {
         "hovertemplate": "Controversy Level=Moderate<br>Sector=%{x}<br>Proportion=%{y}<br>text=%{text}<extra></extra>",
         "legendgroup": "Moderate",
         "marker": {
          "color": "#cbdb47",
          "pattern": {
           "shape": ""
          }
         },
         "name": "Moderate",
         "orientation": "v",
         "showlegend": true,
         "text": [
          "58%",
          "43%",
          "65%",
          "48%",
          "60%",
          "52%",
          "42%",
          "43%",
          "11%",
          "31%",
          "64%"
         ],
         "textposition": "auto",
         "type": "bar",
         "x": [
          "Basic Materials",
          "Communication Services",
          "Consumer Cyclical",
          "Consumer Defensive",
          "Energy",
          "Financial Services",
          "Healthcare",
          "Industrials",
          "Real Estate",
          "Technology",
          "Utilities"
         ],
         "xaxis": "x",
         "y": {
          "bdata": "bCivobyG4j/btm3btm3bP7W0tLS0tOQ/CB988MEH3z8zMzMzMzPjPzEMwzAMw+A/CsZb2eeQ2j+8u7u7u7vbP9u2bdu2bbs/JkOwjjbv0z8lSZIkSZLkPw==",
          "dtype": "f8"
         },
         "yaxis": "y"
        },
        {
         "hovertemplate": "Controversy Level=Low<br>Sector=%{x}<br>Proportion=%{y}<br>text=%{text}<extra></extra>",
         "legendgroup": "Low",
         "marker": {
          "color": "#208b3a",
          "pattern": {
           "shape": ""
          }
         },
         "name": "Low",
         "orientation": "v",
         "showlegend": true,
         "text": [
          "21%",
          "14%",
          "12%",
          "3%",
          "20%",
          "33%",
          "15%",
          "30%",
          "64%",
          "38%",
          "11%"
         ],
         "textposition": "auto",
         "type": "bar",
         "x": [
          "Basic Materials",
          "Communication Services",
          "Consumer Cyclical",
          "Consumer Defensive",
          "Energy",
          "Financial Services",
          "Healthcare",
          "Industrials",
          "Real Estate",
          "Technology",
          "Utilities"
         ],
         "xaxis": "x",
         "y": {
          "bdata": "KK+hvIbyyj+SJEmSJEnCPx4eHh4eHr4/CB988MEHnz+amZmZmZnJP1VVVVVVVdU/wXgr+xxSwz8zMzMzMzPTPyVJkiRJkuQ/tHmf4pIh2D/btm3btm27Pw==",
          "dtype": "f8"
         },
         "yaxis": "y"
        },
        {
         "hovertemplate": "Controversy Level=None<br>Sector=%{x}<br>Proportion=%{y}<br>text=%{text}<extra></extra>",
         "legendgroup": "None",
         "marker": {
          "color": "#fcec52",
          "pattern": {
           "shape": ""
          }
         },
         "name": "None",
         "orientation": "v",
         "showlegend": true,
         "text": [
          "4%",
          "5%",
          "25%",
          "23%",
          "4%"
         ],
         "textposition": "auto",
         "type": "bar",
         "x": [
          "Healthcare",
          "Industrials",
          "Real Estate",
          "Technology",
          "Utilities"
         ],
         "xaxis": "x",
         "y": {
          "bdata": "wXgr+xxSoz+amZmZmZmpPwAAAAAAANA/532KS4ZgzT+SJEmSJEmiPw==",
          "dtype": "f8"
         },
         "yaxis": "y"
        }
       ],
       "layout": {
        "barmode": "stack",
        "height": 600,
        "legend": {
         "title": {
          "text": "Controversy Level"
         },
         "tracegroupgap": 0
        },
        "margin": {
         "b": 100,
         "l": 100,
         "r": 100,
         "t": 100
        },
        "template": {
         "data": {
          "bar": [
           {
            "error_x": {
             "color": "#2a3f5f"
            },
            "error_y": {
             "color": "#2a3f5f"
            },
            "marker": {
             "line": {
              "color": "#E5ECF6",
              "width": 0.5
             },
             "pattern": {
              "fillmode": "overlay",
              "size": 10,
              "solidity": 0.2
             }
            },
            "type": "bar"
           }
          ],
          "barpolar": [
           {
            "marker": {
             "line": {
              "color": "#E5ECF6",
              "width": 0.5
             },
             "pattern": {
              "fillmode": "overlay",
              "size": 10,
              "solidity": 0.2
             }
            },
            "type": "barpolar"
           }
          ],
          "carpet": [
           {
            "aaxis": {
             "endlinecolor": "#2a3f5f",
             "gridcolor": "white",
             "linecolor": "white",
             "minorgridcolor": "white",
             "startlinecolor": "#2a3f5f"
            },
            "baxis": {
             "endlinecolor": "#2a3f5f",
             "gridcolor": "white",
             "linecolor": "white",
             "minorgridcolor": "white",
             "startlinecolor": "#2a3f5f"
            },
            "type": "carpet"
           }
          ],
          "choropleth": [
           {
            "colorbar": {
             "outlinewidth": 0,
             "ticks": ""
            },
            "type": "choropleth"
           }
          ],
          "contour": [
           {
            "colorbar": {
             "outlinewidth": 0,
             "ticks": ""
            },
            "colorscale": [
             [
              0,
              "#0d0887"
             ],
             [
              0.1111111111111111,
              "#46039f"
             ],
             [
              0.2222222222222222,
              "#7201a8"
             ],
             [
              0.3333333333333333,
              "#9c179e"
             ],
             [
              0.4444444444444444,
              "#bd3786"
             ],
             [
              0.5555555555555556,
              "#d8576b"
             ],
             [
              0.6666666666666666,
              "#ed7953"
             ],
             [
              0.7777777777777778,
              "#fb9f3a"
             ],
             [
              0.8888888888888888,
              "#fdca26"
             ],
             [
              1,
              "#f0f921"
             ]
            ],
            "type": "contour"
           }
          ],
          "contourcarpet": [
           {
            "colorbar": {
             "outlinewidth": 0,
             "ticks": ""
            },
            "type": "contourcarpet"
           }
          ],
          "heatmap": [
           {
            "colorbar": {
             "outlinewidth": 0,
             "ticks": ""
            },
            "colorscale": [
             [
              0,
              "#0d0887"
             ],
             [
              0.1111111111111111,
              "#46039f"
             ],
             [
              0.2222222222222222,
              "#7201a8"
             ],
             [
              0.3333333333333333,
              "#9c179e"
             ],
             [
              0.4444444444444444,
              "#bd3786"
             ],
             [
              0.5555555555555556,
              "#d8576b"
             ],
             [
              0.6666666666666666,
              "#ed7953"
             ],
             [
              0.7777777777777778,
              "#fb9f3a"
             ],
             [
              0.8888888888888888,
              "#fdca26"
             ],
             [
              1,
              "#f0f921"
             ]
            ],
            "type": "heatmap"
           }
          ],
          "histogram": [
           {
            "marker": {
             "pattern": {
              "fillmode": "overlay",
              "size": 10,
              "solidity": 0.2
             }
            },
            "type": "histogram"
           }
          ],
          "histogram2d": [
           {
            "colorbar": {
             "outlinewidth": 0,
             "ticks": ""
            },
            "colorscale": [
             [
              0,
              "#0d0887"
             ],
             [
              0.1111111111111111,
              "#46039f"
             ],
             [
              0.2222222222222222,
              "#7201a8"
             ],
             [
              0.3333333333333333,
              "#9c179e"
             ],
             [
              0.4444444444444444,
              "#bd3786"
             ],
             [
              0.5555555555555556,
              "#d8576b"
             ],
             [
              0.6666666666666666,
              "#ed7953"
             ],
             [
              0.7777777777777778,
              "#fb9f3a"
             ],
             [
              0.8888888888888888,
              "#fdca26"
             ],
             [
              1,
              "#f0f921"
             ]
            ],
            "type": "histogram2d"
           }
          ],
          "histogram2dcontour": [
           {
            "colorbar": {
             "outlinewidth": 0,
             "ticks": ""
            },
            "colorscale": [
             [
              0,
              "#0d0887"
             ],
             [
              0.1111111111111111,
              "#46039f"
             ],
             [
              0.2222222222222222,
              "#7201a8"
             ],
             [
              0.3333333333333333,
              "#9c179e"
             ],
             [
              0.4444444444444444,
              "#bd3786"
             ],
             [
              0.5555555555555556,
              "#d8576b"
             ],
             [
              0.6666666666666666,
              "#ed7953"
             ],
             [
              0.7777777777777778,
              "#fb9f3a"
             ],
             [
              0.8888888888888888,
              "#fdca26"
             ],
             [
              1,
              "#f0f921"
             ]
            ],
            "type": "histogram2dcontour"
           }
          ],
          "mesh3d": [
           {
            "colorbar": {
             "outlinewidth": 0,
             "ticks": ""
            },
            "type": "mesh3d"
           }
          ],
          "parcoords": [
           {
            "line": {
             "colorbar": {
              "outlinewidth": 0,
              "ticks": ""
             }
            },
            "type": "parcoords"
           }
          ],
          "pie": [
           {
            "automargin": true,
            "type": "pie"
           }
          ],
          "scatter": [
           {
            "fillpattern": {
             "fillmode": "overlay",
             "size": 10,
             "solidity": 0.2
            },
            "type": "scatter"
           }
          ],
          "scatter3d": [
           {
            "line": {
             "colorbar": {
              "outlinewidth": 0,
              "ticks": ""
             }
            },
            "marker": {
             "colorbar": {
              "outlinewidth": 0,
              "ticks": ""
             }
            },
            "type": "scatter3d"
           }
          ],
          "scattercarpet": [
           {
            "marker": {
             "colorbar": {
              "outlinewidth": 0,
              "ticks": ""
             }
            },
            "type": "scattercarpet"
           }
          ],
          "scattergeo": [
           {
            "marker": {
             "colorbar": {
              "outlinewidth": 0,
              "ticks": ""
             }
            },
            "type": "scattergeo"
           }
          ],
          "scattergl": [
           {
            "marker": {
             "colorbar": {
              "outlinewidth": 0,
              "ticks": ""
             }
            },
            "type": "scattergl"
           }
          ],
          "scattermap": [
           {
            "marker": {
             "colorbar": {
              "outlinewidth": 0,
              "ticks": ""
             }
            },
            "type": "scattermap"
           }
          ],
          "scattermapbox": [
           {
            "marker": {
             "colorbar": {
              "outlinewidth": 0,
              "ticks": ""
             }
            },
            "type": "scattermapbox"
           }
          ],
          "scatterpolar": [
           {
            "marker": {
             "colorbar": {
              "outlinewidth": 0,
              "ticks": ""
             }
            },
            "type": "scatterpolar"
           }
          ],
          "scatterpolargl": [
           {
            "marker": {
             "colorbar": {
              "outlinewidth": 0,
              "ticks": ""
             }
            },
            "type": "scatterpolargl"
           }
          ],
          "scatterternary": [
           {
            "marker": {
             "colorbar": {
              "outlinewidth": 0,
              "ticks": ""
             }
            },
            "type": "scatterternary"
           }
          ],
          "surface": [
           {
            "colorbar": {
             "outlinewidth": 0,
             "ticks": ""
            },
            "colorscale": [
             [
              0,
              "#0d0887"
             ],
             [
              0.1111111111111111,
              "#46039f"
             ],
             [
              0.2222222222222222,
              "#7201a8"
             ],
             [
              0.3333333333333333,
              "#9c179e"
             ],
             [
              0.4444444444444444,
              "#bd3786"
             ],
             [
              0.5555555555555556,
              "#d8576b"
             ],
             [
              0.6666666666666666,
              "#ed7953"
             ],
             [
              0.7777777777777778,
              "#fb9f3a"
             ],
             [
              0.8888888888888888,
              "#fdca26"
             ],
             [
              1,
              "#f0f921"
             ]
            ],
            "type": "surface"
           }
          ],
          "table": [
           {
            "cells": {
             "fill": {
              "color": "#EBF0F8"
             },
             "line": {
              "color": "white"
             }
            },
            "header": {
             "fill": {
              "color": "#C8D4E3"
             },
             "line": {
              "color": "white"
             }
            },
            "type": "table"
           }
          ]
         },
         "layout": {
          "annotationdefaults": {
           "arrowcolor": "#2a3f5f",
           "arrowhead": 0,
           "arrowwidth": 1
          },
          "autotypenumbers": "strict",
          "coloraxis": {
           "colorbar": {
            "outlinewidth": 0,
            "ticks": ""
           }
          },
          "colorscale": {
           "diverging": [
            [
             0,
             "#8e0152"
            ],
            [
             0.1,
             "#c51b7d"
            ],
            [
             0.2,
             "#de77ae"
            ],
            [
             0.3,
             "#f1b6da"
            ],
            [
             0.4,
             "#fde0ef"
            ],
            [
             0.5,
             "#f7f7f7"
            ],
            [
             0.6,
             "#e6f5d0"
            ],
            [
             0.7,
             "#b8e186"
            ],
            [
             0.8,
             "#7fbc41"
            ],
            [
             0.9,
             "#4d9221"
            ],
            [
             1,
             "#276419"
            ]
           ],
           "sequential": [
            [
             0,
             "#0d0887"
            ],
            [
             0.1111111111111111,
             "#46039f"
            ],
            [
             0.2222222222222222,
             "#7201a8"
            ],
            [
             0.3333333333333333,
             "#9c179e"
            ],
            [
             0.4444444444444444,
             "#bd3786"
            ],
            [
             0.5555555555555556,
             "#d8576b"
            ],
            [
             0.6666666666666666,
             "#ed7953"
            ],
            [
             0.7777777777777778,
             "#fb9f3a"
            ],
            [
             0.8888888888888888,
             "#fdca26"
            ],
            [
             1,
             "#f0f921"
            ]
           ],
           "sequentialminus": [
            [
             0,
             "#0d0887"
            ],
            [
             0.1111111111111111,
             "#46039f"
            ],
            [
             0.2222222222222222,
             "#7201a8"
            ],
            [
             0.3333333333333333,
             "#9c179e"
            ],
            [
             0.4444444444444444,
             "#bd3786"
            ],
            [
             0.5555555555555556,
             "#d8576b"
            ],
            [
             0.6666666666666666,
             "#ed7953"
            ],
            [
             0.7777777777777778,
             "#fb9f3a"
            ],
            [
             0.8888888888888888,
             "#fdca26"
            ],
            [
             1,
             "#f0f921"
            ]
           ]
          },
          "colorway": [
           "#636efa",
           "#EF553B",
           "#00cc96",
           "#ab63fa",
           "#FFA15A",
           "#19d3f3",
           "#FF6692",
           "#B6E880",
           "#FF97FF",
           "#FECB52"
          ],
          "font": {
           "color": "#2a3f5f"
          },
          "geo": {
           "bgcolor": "white",
           "lakecolor": "white",
           "landcolor": "#E5ECF6",
           "showlakes": true,
           "showland": true,
           "subunitcolor": "white"
          },
          "hoverlabel": {
           "align": "left"
          },
          "hovermode": "closest",
          "mapbox": {
           "style": "light"
          },
          "paper_bgcolor": "white",
          "plot_bgcolor": "#E5ECF6",
          "polar": {
           "angularaxis": {
            "gridcolor": "white",
            "linecolor": "white",
            "ticks": ""
           },
           "bgcolor": "#E5ECF6",
           "radialaxis": {
            "gridcolor": "white",
            "linecolor": "white",
            "ticks": ""
           }
          },
          "scene": {
           "xaxis": {
            "backgroundcolor": "#E5ECF6",
            "gridcolor": "white",
            "gridwidth": 2,
            "linecolor": "white",
            "showbackground": true,
            "ticks": "",
            "zerolinecolor": "white"
           },
           "yaxis": {
            "backgroundcolor": "#E5ECF6",
            "gridcolor": "white",
            "gridwidth": 2,
            "linecolor": "white",
            "showbackground": true,
            "ticks": "",
            "zerolinecolor": "white"
           },
           "zaxis": {
            "backgroundcolor": "#E5ECF6",
            "gridcolor": "white",
            "gridwidth": 2,
            "linecolor": "white",
            "showbackground": true,
            "ticks": "",
            "zerolinecolor": "white"
           }
          },
          "shapedefaults": {
           "line": {
            "color": "#2a3f5f"
           }
          },
          "ternary": {
           "aaxis": {
            "gridcolor": "white",
            "linecolor": "white",
            "ticks": ""
           },
           "baxis": {
            "gridcolor": "white",
            "linecolor": "white",
            "ticks": ""
           },
           "bgcolor": "#E5ECF6",
           "caxis": {
            "gridcolor": "white",
            "linecolor": "white",
            "ticks": ""
           }
          },
          "title": {
           "x": 0.05
          },
          "xaxis": {
           "automargin": true,
           "gridcolor": "white",
           "linecolor": "white",
           "ticks": "",
           "title": {
            "standoff": 15
           },
           "zerolinecolor": "white",
           "zerolinewidth": 2
          },
          "yaxis": {
           "automargin": true,
           "gridcolor": "white",
           "linecolor": "white",
           "ticks": "",
           "title": {
            "standoff": 15
           },
           "zerolinecolor": "white",
           "zerolinewidth": 2
          }
         }
        },
        "title": {
         "text": "Composition of Controversy Levels by Sector",
         "x": 0.5,
         "y": 0.9
        },
        "width": 1000,
        "xaxis": {
         "anchor": "y",
         "categoryarray": [
          "Consumer Defensive",
          "Utilities",
          "Consumer Cyclical",
          "Communication Services",
          "Healthcare",
          "Energy",
          "Basic Materials",
          "Industrials",
          "Financial Services",
          "Technology",
          "Real Estate"
         ],
         "categoryorder": "array",
         "domain": [
          0,
          1
         ],
         "title": {
          "text": "Sector"
         }
        },
        "yaxis": {
         "anchor": "x",
         "domain": [
          0,
          1
         ],
         "showgrid": false,
         "tickformat": ".0%",
         "title": {
          "text": "Percentage of Companies"
         }
        }
       }
      }
     },
     "metadata": {},
     "output_type": "display_data"
    }
   ],
   "source": [
    "#bar charts of risk and controvery levels\n",
    "import ipywidgets as widgets\n",
    "from IPython.display import display, clear_output\n",
    "levels = df2_cleaned[['Controversy Level', 'ESG Risk Level', 'Sector']]\n",
    "\n",
    "# Remove \"Controversy Level=\" from values in the column\n",
    "levels[\"Controversy Level\"] = levels[\"Controversy Level\"].str.replace(\"Controversy Level\", \"\", regex=False)\n",
    "df_controversy_lvl = levels.groupby([\"Sector\", \"Controversy Level\"]).size().reset_index(name=\"Count\")\n",
    "df_controversy_lvl[\"Proportion\"] = df_controversy_lvl.groupby(\"Sector\")[\"Count\"].transform(lambda x: x / x.sum())\n",
    "df_controversy_lvl[\"Controversy Level\"] = (df_controversy_lvl[\"Controversy Level\"].astype(\"category\")).str.replace(\"Controversy Level\", \"\", regex=False).str.strip()\n",
    "\n",
    "low_controversy = df_controversy_lvl[df_controversy_lvl[\"Controversy Level\"] == \"Low\"][[\"Sector\", \"Proportion\"]]\n",
    "sorted_sectors = low_controversy.sort_values(by=\"Proportion\", ascending=True)[\"Sector\"].tolist()\n",
    "\n",
    "def plot_controversy_level():\n",
    "    fig1 = px.bar(\n",
    "        df_controversy_lvl, \n",
    "        x=\"Sector\", \n",
    "        y=\"Proportion\",  # Use proportion instead of count\n",
    "        color=\"Controversy Level\", \n",
    "        title=\"Composition of Controversy Levels by Sector\",\n",
    "        barmode=\"stack\",\n",
    "        text=df_controversy_lvl[\"Proportion\"].apply(lambda x: f\"{x:.0%}\"),\n",
    "        color_discrete_map=custom_colors,\n",
    "        category_orders={\"Sector\": sorted_sectors,\n",
    "            \"Controversy Level\": [\"Severe\", \"Significant\", \"High\", \"Moderate\", \"Low\", \"None\"]}\n",
    "    )\n",
    "\n",
    "    fig1.update_layout(\n",
    "        width=1000,  \n",
    "        height=600, \n",
    "        title_x=0.5, \n",
    "        title_y=0.9,\n",
    "        margin=dict(l=100, r=100, t=100, b=100),  \n",
    "        legend_title_text=\"Controversy Level\"  \n",
    "    )\n",
    "\n",
    "    # Format y-axis as percentage\n",
    "    fig1.update_yaxes(showgrid = False, tickformat=\".0%\", title=\"Percentage of Companies\")\n",
    "\n",
    "    fig1.show()\n",
    "\n",
    "plot_controversy_level()"
   ]
  },
  {
   "cell_type": "markdown",
   "metadata": {},
   "source": [
    "## Sectors with Higher Concentration of Companies with Significatn Controversy Level\n",
    "Consumer Defensive, "
   ]
  },
  {
   "cell_type": "code",
   "execution_count": 210,
   "metadata": {},
   "outputs": [
    {
     "data": {
      "image/png": "[encoded data removed]",
      "text/plain": [
       "<Figure size 800x600 with 2 Axes>"
      ]
     },
     "metadata": {},
     "output_type": "display_data"
    },
    {
     "data": {
      "image/png": "[encoded data removed]",
      "text/plain": [
       "<Figure size 1250x1250 with 30 Axes>"
      ]
     },
     "metadata": {},
     "output_type": "display_data"
    }
   ],
   "source": [
    "# Select relevant columns for controversy score and ESG risk scores\n",
    "columns_of_interest = ['Controversy Score', 'Environment Risk Score', 'Governance Risk Score', 'Social Risk Score', 'Total ESG Risk score']\n",
    "\n",
    "# Subset the dataframe to the columns of interest\n",
    "df_correlate = df2_cleaned[columns_of_interest]\n",
    "\n",
    "\n",
    "# Drop rows with missing values (if any)\n",
    "df_correlate_cleaned = df_correlate.dropna()\n",
    "\n",
    "# Compute Pearson correlation matrix\n",
    "correlation_matrix = df_correlate_cleaned.corr(method='pearson')\n",
    "\n",
    "# Visualize the correlation matrix using a heatmap\n",
    "plt.figure(figsize=(8, 6))\n",
    "sns.heatmap(correlation_matrix, annot=True, cmap='coolwarm', fmt=\".2f\", linewidths=0.5)\n",
    "plt.title(\"Correlation Matrix Between Controversy Score and ESG Risk Scores\")\n",
    "plt.show()\n",
    "\n",
    "# Scatter plot of Controversy Score vs. ESG Risk Scores\n",
    "sns.pairplot(df_correlate_cleaned, kind=\"scatter\")\n",
    "plt.show()\n",
    "\n"
   ]
  },
  {
   "cell_type": "markdown",
   "metadata": {},
   "source": [
    "## "
   ]
  },
  {
   "cell_type": "code",
   "execution_count": null,
   "metadata": {},
   "outputs": [
    {
     "data": {
      "application/vnd.plotly.v1+json": {
       "config": {
        "plotlyServerURL": "https://plot.ly"
       },
       "data": [
        {
         "hovertemplate": "Sector=Basic Materials<br>Industry=%{x}<br>Average Total ESG Risk Score=%{y}<extra></extra>",
         "legendgroup": "Basic Materials",
         "marker": {
          "color": "rgb(228,26,28)",
          "pattern": {
           "shape": ""
          }
         },
         "name": "Basic Materials",
         "orientation": "v",
         "showlegend": true,
         "textposition": "auto",
         "type": "bar",
         "x": [
          "Agricultural Inputs",
          "Building Materials",
          "Chemicals",
          "Copper",
          "Gold",
          "Specialty Chemicals",
          "Steel"
         ],
         "xaxis": "x",
         "y": {
          "bdata": "q6qqqqoqP0A0MzMzM7M9QJqZmZmZGTpAmpmZmZmZP0AAAAAAAIA0QJQ+6ZM+aTdAMzMzMzNzQEA=",
          "dtype": "f8"
         },
         "yaxis": "y"
        },
        {
         "hovertemplate": "Sector=Communication Services<br>Industry=%{x}<br>Average Total ESG Risk Score=%{y}<extra></extra>",
         "legendgroup": "Communication Services",
         "marker": {
          "color": "rgb(55,126,184)",
          "pattern": {
           "shape": ""
          }
         },
         "name": "Communication Services",
         "orientation": "v",
         "showlegend": true,
         "textposition": "auto",
         "type": "bar",
         "x": [
          "Advertising Agencies",
          "Electronic Gaming & Multimedia",
          "Entertainment",
          "Internet Content & Information",
          "Telecom Services"
         ],
         "xaxis": "x",
         "y": {
          "bdata": "mpmZmZmZKkCamZmZmZkqQMzMzMzMTC1AZmZmZmYmPUAAAAAAAAA3QA==",
          "dtype": "f8"
         },
         "yaxis": "y"
        },
        {
         "hovertemplate": "Sector=Consumer Cyclical<br>Industry=%{x}<br>Average Total ESG Risk Score=%{y}<extra></extra>",
         "legendgroup": "Consumer Cyclical",
         "marker": {
          "color": "rgb(77,175,74)",
          "pattern": {
           "shape": ""
          }
         },
         "name": "Consumer Cyclical",
         "orientation": "v",
         "showlegend": true,
         "textposition": "auto",
         "type": "bar",
         "x": [
          "Apparel Manufacturing",
          "Apparel Retail",
          "Auto & Truck Dealerships",
          "Auto Manufacturers",
          "Auto Parts",
          "Footwear & Accessories",
          "Furnishings, Fixtures & Appliances",
          "Home Improvement Retail",
          "Internet Retail",
          "Leisure",
          "Lodging",
          "Luxury Goods",
          "Packaging & Containers",
          "Personal Services",
          "Residential Construction",
          "Resorts & Casinos",
          "Restaurants",
          "Specialty Retail",
          "Travel Services"
         ],
         "xaxis": "x",
         "y": {
          "bdata": "MzMzMzMzLUAAAAAAAIAwQDMzMzMzMyhA3d3d3d1dOUDMzMzMzAwoQJqZmZmZmTNAMzMzMzMzLEBmZmZmZmYoQJqZmZmZGThAZmZmZmZmHEAAAAAAAIAzQJqZmZmZmS1ANDMzMzPTMUDNzMzMzEwzQGZmZmZmBjZAERERERERN0AzMzMzM7M4QAAAAAAAgDBAFa5H4XqUN0A=",
          "dtype": "f8"
         },
         "yaxis": "y"
        },
        {
         "hovertemplate": "Sector=Consumer Defensive<br>Industry=%{x}<br>Average Total ESG Risk Score=%{y}<extra></extra>",
         "legendgroup": "Consumer Defensive",
         "marker": {
          "color": "rgb(152,78,163)",
          "pattern": {
           "shape": ""
          }
         },
         "name": "Consumer Defensive",
         "orientation": "v",
         "showlegend": true,
         "textposition": "auto",
         "type": "bar",
         "x": [
          "Beverages - Brewers",
          "Beverages - Non-Alcoholic",
          "Beverages - Wineries & Distilleries",
          "Confectioners",
          "Discount Stores",
          "Farm Products",
          "Food Distribution",
          "Grocery Stores",
          "Household & Personal Products",
          "Packaged Foods",
          "Tobacco"
         ],
         "xaxis": "x",
         "y": {
          "bdata": "ZmZmZmZmNUDNzMzMzEw4QDMzMzMzszhAAAAAAAAAOECkcD0K1yM0QERERERExEBAzczMzMzML0DNzMzMzEw1QM3MzMzMDDlAMzMzMzMDPEBmZmZmZuY9QA==",
          "dtype": "f8"
         },
         "yaxis": "y"
        },
        {
         "hovertemplate": "Sector=Energy<br>Industry=%{x}<br>Average Total ESG Risk Score=%{y}<extra></extra>",
         "legendgroup": "Energy",
         "marker": {
          "color": "rgb(255,127,0)",
          "pattern": {
           "shape": ""
          }
         },
         "name": "Energy",
         "orientation": "v",
         "showlegend": true,
         "textposition": "auto",
         "type": "bar",
         "x": [
          "Oil & Gas E&P",
          "Oil & Gas Equipment & Services",
          "Oil & Gas Integrated",
          "Oil & Gas Midstream",
          "Oil & Gas Refining & Marketing"
         ],
         "xaxis": "x",
         "y": {
          "bdata": "5DiO4zgOQkA0MzMzM/M2QM3MzMzMjENAZmZmZmbGOECrqqqqqmpAQA==",
          "dtype": "f8"
         },
         "yaxis": "y"
        }
       ],
       "layout": {
        "barmode": "group",
        "legend": {
         "title": {
          "text": "Sector"
         },
         "tracegroupgap": 0
        },
        "margin": {
         "b": 150,
         "l": 100,
         "r": 100,
         "t": 50
        },
        "template": {
         "data": {
          "bar": [
           {
            "error_x": {
             "color": "#2a3f5f"
            },
            "error_y": {
             "color": "#2a3f5f"
            },
            "marker": {
             "line": {
              "color": "#E5ECF6",
              "width": 0.5
             },
             "pattern": {
              "fillmode": "overlay",
              "size": 10,
              "solidity": 0.2
             }
            },
            "type": "bar"
           }
          ],
          "barpolar": [
           {
            "marker": {
             "line": {
              "color": "#E5ECF6",
              "width": 0.5
             },
             "pattern": {
              "fillmode": "overlay",
              "size": 10,
              "solidity": 0.2
             }
            },
            "type": "barpolar"
           }
          ],
          "carpet": [
           {
            "aaxis": {
             "endlinecolor": "#2a3f5f",
             "gridcolor": "white",
             "linecolor": "white",
             "minorgridcolor": "white",
             "startlinecolor": "#2a3f5f"
            },
            "baxis": {
             "endlinecolor": "#2a3f5f",
             "gridcolor": "white",
             "linecolor": "white",
             "minorgridcolor": "white",
             "startlinecolor": "#2a3f5f"
            },
            "type": "carpet"
           }
          ],
          "choropleth": [
           {
            "colorbar": {
             "outlinewidth": 0,
             "ticks": ""
            },
            "type": "choropleth"
           }
          ],
          "contour": [
           {
            "colorbar": {
             "outlinewidth": 0,
             "ticks": ""
            },
            "colorscale": [
             [
              0,
              "#0d0887"
             ],
             [
              0.1111111111111111,
              "#46039f"
             ],
             [
              0.2222222222222222,
              "#7201a8"
             ],
             [
              0.3333333333333333,
              "#9c179e"
             ],
             [
              0.4444444444444444,
              "#bd3786"
             ],
             [
              0.5555555555555556,
              "#d8576b"
             ],
             [
              0.6666666666666666,
              "#ed7953"
             ],
             [
              0.7777777777777778,
              "#fb9f3a"
             ],
             [
              0.8888888888888888,
              "#fdca26"
             ],
             [
              1,
              "#f0f921"
             ]
            ],
            "type": "contour"
           }
          ],
          "contourcarpet": [
           {
            "colorbar": {
             "outlinewidth": 0,
             "ticks": ""
            },
            "type": "contourcarpet"
           }
          ],
          "heatmap": [
           {
            "colorbar": {
             "outlinewidth": 0,
             "ticks": ""
            },
            "colorscale": [
             [
              0,
              "#0d0887"
             ],
             [
              0.1111111111111111,
              "#46039f"
             ],
             [
              0.2222222222222222,
              "#7201a8"
             ],
             [
              0.3333333333333333,
              "#9c179e"
             ],
             [
              0.4444444444444444,
              "#bd3786"
             ],
             [
              0.5555555555555556,
              "#d8576b"
             ],
             [
              0.6666666666666666,
              "#ed7953"
             ],
             [
              0.7777777777777778,
              "#fb9f3a"
             ],
             [
              0.8888888888888888,
              "#fdca26"
             ],
             [
              1,
              "#f0f921"
             ]
            ],
            "type": "heatmap"
           }
          ],
          "histogram": [
           {
            "marker": {
             "pattern": {
              "fillmode": "overlay",
              "size": 10,
              "solidity": 0.2
             }
            },
            "type": "histogram"
           }
          ],
          "histogram2d": [
           {
            "colorbar": {
             "outlinewidth": 0,
             "ticks": ""
            },
            "colorscale": [
             [
              0,
              "#0d0887"
             ],
             [
              0.1111111111111111,
              "#46039f"
             ],
             [
              0.2222222222222222,
              "#7201a8"
             ],
             [
              0.3333333333333333,
              "#9c179e"
             ],
             [
              0.4444444444444444,
              "#bd3786"
             ],
             [
              0.5555555555555556,
              "#d8576b"
             ],
             [
              0.6666666666666666,
              "#ed7953"
             ],
             [
              0.7777777777777778,
              "#fb9f3a"
             ],
             [
              0.8888888888888888,
              "#fdca26"
             ],
             [
              1,
              "#f0f921"
             ]
            ],
            "type": "histogram2d"
           }
          ],
          "histogram2dcontour": [
           {
            "colorbar": {
             "outlinewidth": 0,
             "ticks": ""
            },
            "colorscale": [
             [
              0,
              "#0d0887"
             ],
             [
              0.1111111111111111,
              "#46039f"
             ],
             [
              0.2222222222222222,
              "#7201a8"
             ],
             [
              0.3333333333333333,
              "#9c179e"
             ],
             [
              0.4444444444444444,
              "#bd3786"
             ],
             [
              0.5555555555555556,
              "#d8576b"
             ],
             [
              0.6666666666666666,
              "#ed7953"
             ],
             [
              0.7777777777777778,
              "#fb9f3a"
             ],
             [
              0.8888888888888888,
              "#fdca26"
             ],
             [
              1,
              "#f0f921"
             ]
            ],
            "type": "histogram2dcontour"
           }
          ],
          "mesh3d": [
           {
            "colorbar": {
             "outlinewidth": 0,
             "ticks": ""
            },
            "type": "mesh3d"
           }
          ],
          "parcoords": [
           {
            "line": {
             "colorbar": {
              "outlinewidth": 0,
              "ticks": ""
             }
            },
            "type": "parcoords"
           }
          ],
          "pie": [
           {
            "automargin": true,
            "type": "pie"
           }
          ],
          "scatter": [
           {
            "fillpattern": {
             "fillmode": "overlay",
             "size": 10,
             "solidity": 0.2
            },
            "type": "scatter"
           }
          ],
          "scatter3d": [
           {
            "line": {
             "colorbar": {
              "outlinewidth": 0,
              "ticks": ""
             }
            },
            "marker": {
             "colorbar": {
              "outlinewidth": 0,
              "ticks": ""
             }
            },
            "type": "scatter3d"
           }
          ],
          "scattercarpet": [
           {
            "marker": {
             "colorbar": {
              "outlinewidth": 0,
              "ticks": ""
             }
            },
            "type": "scattercarpet"
           }
          ],
          "scattergeo": [
           {
            "marker": {
             "colorbar": {
              "outlinewidth": 0,
              "ticks": ""
             }
            },
            "type": "scattergeo"
           }
          ],
          "scattergl": [
           {
            "marker": {
             "colorbar": {
              "outlinewidth": 0,
              "ticks": ""
             }
            },
            "type": "scattergl"
           }
          ],
          "scattermap": [
           {
            "marker": {
             "colorbar": {
              "outlinewidth": 0,
              "ticks": ""
             }
            },
            "type": "scattermap"
           }
          ],
          "scattermapbox": [
           {
            "marker": {
             "colorbar": {
              "outlinewidth": 0,
              "ticks": ""
             }
            },
            "type": "scattermapbox"
           }
          ],
          "scatterpolar": [
           {
            "marker": {
             "colorbar": {
              "outlinewidth": 0,
              "ticks": ""
             }
            },
            "type": "scatterpolar"
           }
          ],
          "scatterpolargl": [
           {
            "marker": {
             "colorbar": {
              "outlinewidth": 0,
              "ticks": ""
             }
            },
            "type": "scatterpolargl"
           }
          ],
          "scatterternary": [
           {
            "marker": {
             "colorbar": {
              "outlinewidth": 0,
              "ticks": ""
             }
            },
            "type": "scatterternary"
           }
          ],
          "surface": [
           {
            "colorbar": {
             "outlinewidth": 0,
             "ticks": ""
            },
            "colorscale": [
             [
              0,
              "#0d0887"
             ],
             [
              0.1111111111111111,
              "#46039f"
             ],
             [
              0.2222222222222222,
              "#7201a8"
             ],
             [
              0.3333333333333333,
              "#9c179e"
             ],
             [
              0.4444444444444444,
              "#bd3786"
             ],
             [
              0.5555555555555556,
              "#d8576b"
             ],
             [
              0.6666666666666666,
              "#ed7953"
             ],
             [
              0.7777777777777778,
              "#fb9f3a"
             ],
             [
              0.8888888888888888,
              "#fdca26"
             ],
             [
              1,
              "#f0f921"
             ]
            ],
            "type": "surface"
           }
          ],
          "table": [
           {
            "cells": {
             "fill": {
              "color": "#EBF0F8"
             },
             "line": {
              "color": "white"
             }
            },
            "header": {
             "fill": {
              "color": "#C8D4E3"
             },
             "line": {
              "color": "white"
             }
            },
            "type": "table"
           }
          ]
         },
         "layout": {
          "annotationdefaults": {
           "arrowcolor": "#2a3f5f",
           "arrowhead": 0,
           "arrowwidth": 1
          },
          "autotypenumbers": "strict",
          "coloraxis": {
           "colorbar": {
            "outlinewidth": 0,
            "ticks": ""
           }
          },
          "colorscale": {
           "diverging": [
            [
             0,
             "#8e0152"
            ],
            [
             0.1,
             "#c51b7d"
            ],
            [
             0.2,
             "#de77ae"
            ],
            [
             0.3,
             "#f1b6da"
            ],
            [
             0.4,
             "#fde0ef"
            ],
            [
             0.5,
             "#f7f7f7"
            ],
            [
             0.6,
             "#e6f5d0"
            ],
            [
             0.7,
             "#b8e186"
            ],
            [
             0.8,
             "#7fbc41"
            ],
            [
             0.9,
             "#4d9221"
            ],
            [
             1,
             "#276419"
            ]
           ],
           "sequential": [
            [
             0,
             "#0d0887"
            ],
            [
             0.1111111111111111,
             "#46039f"
            ],
            [
             0.2222222222222222,
             "#7201a8"
            ],
            [
             0.3333333333333333,
             "#9c179e"
            ],
            [
             0.4444444444444444,
             "#bd3786"
            ],
            [
             0.5555555555555556,
             "#d8576b"
            ],
            [
             0.6666666666666666,
             "#ed7953"
            ],
            [
             0.7777777777777778,
             "#fb9f3a"
            ],
            [
             0.8888888888888888,
             "#fdca26"
            ],
            [
             1,
             "#f0f921"
            ]
           ],
           "sequentialminus": [
            [
             0,
             "#0d0887"
            ],
            [
             0.1111111111111111,
             "#46039f"
            ],
            [
             0.2222222222222222,
             "#7201a8"
            ],
            [
             0.3333333333333333,
             "#9c179e"
            ],
            [
             0.4444444444444444,
             "#bd3786"
            ],
            [
             0.5555555555555556,
             "#d8576b"
            ],
            [
             0.6666666666666666,
             "#ed7953"
            ],
            [
             0.7777777777777778,
             "#fb9f3a"
            ],
            [
             0.8888888888888888,
             "#fdca26"
            ],
            [
             1,
             "#f0f921"
            ]
           ]
          },
          "colorway": [
           "#636efa",
           "#EF553B",
           "#00cc96",
           "#ab63fa",
           "#FFA15A",
           "#19d3f3",
           "#FF6692",
           "#B6E880",
           "#FF97FF",
           "#FECB52"
          ],
          "font": {
           "color": "#2a3f5f"
          },
          "geo": {
           "bgcolor": "white",
           "lakecolor": "white",
           "landcolor": "#E5ECF6",
           "showlakes": true,
           "showland": true,
           "subunitcolor": "white"
          },
          "hoverlabel": {
           "align": "left"
          },
          "hovermode": "closest",
          "mapbox": {
           "style": "light"
          },
          "paper_bgcolor": "white",
          "plot_bgcolor": "#E5ECF6",
          "polar": {
           "angularaxis": {
            "gridcolor": "white",
            "linecolor": "white",
            "ticks": ""
           },
           "bgcolor": "#E5ECF6",
           "radialaxis": {
            "gridcolor": "white",
            "linecolor": "white",
            "ticks": ""
           }
          },
          "scene": {
           "xaxis": {
            "backgroundcolor": "#E5ECF6",
            "gridcolor": "white",
            "gridwidth": 2,
            "linecolor": "white",
            "showbackground": true,
            "ticks": "",
            "zerolinecolor": "white"
           },
           "yaxis": {
            "backgroundcolor": "#E5ECF6",
            "gridcolor": "white",
            "gridwidth": 2,
            "linecolor": "white",
            "showbackground": true,
            "ticks": "",
            "zerolinecolor": "white"
           },
           "zaxis": {
            "backgroundcolor": "#E5ECF6",
            "gridcolor": "white",
            "gridwidth": 2,
            "linecolor": "white",
            "showbackground": true,
            "ticks": "",
            "zerolinecolor": "white"
           }
          },
          "shapedefaults": {
           "line": {
            "color": "#2a3f5f"
           }
          },
          "ternary": {
           "aaxis": {
            "gridcolor": "white",
            "linecolor": "white",
            "ticks": ""
           },
           "baxis": {
            "gridcolor": "white",
            "linecolor": "white",
            "ticks": ""
           },
           "bgcolor": "#E5ECF6",
           "caxis": {
            "gridcolor": "white",
            "linecolor": "white",
            "ticks": ""
           }
          },
          "title": {
           "x": 0.05
          },
          "xaxis": {
           "automargin": true,
           "gridcolor": "white",
           "linecolor": "white",
           "ticks": "",
           "title": {
            "standoff": 15
           },
           "zerolinecolor": "white",
           "zerolinewidth": 2
          },
          "yaxis": {
           "automargin": true,
           "gridcolor": "white",
           "linecolor": "white",
           "ticks": "",
           "title": {
            "standoff": 15
           },
           "zerolinecolor": "white",
           "zerolinewidth": 2
          }
         }
        },
        "title": {
         "text": "Average Total ESG Risk Scores by Industry in Top 5 Sectors with Highest Controversy",
         "x": 0.5
        },
        "xaxis": {
         "anchor": "y",
         "categoryarray": [
          "Basic Materials",
          "Communication Services",
          "Consumer Cyclical",
          "Consumer Defensive",
          "Energy"
         ],
         "categoryorder": "array",
         "domain": [
          0,
          1
         ],
         "tickangle": -45,
         "title": {
          "text": "Industry"
         }
        },
        "yaxis": {
         "anchor": "x",
         "domain": [
          0,
          1
         ],
         "title": {
          "text": "Average Total ESG Risk Score"
         }
        }
       }
      }
     },
     "metadata": {},
     "output_type": "display_data"
    }
   ],
   "source": [
    "significant_controversy = df2_cleaned[df2_cleaned['Controversy Level'] == 'Significant']\n",
    "\n",
    "# Group by sector and calculate the proportion of significant controversy\n",
    "sector_controversy_proportion = significant_controversy.groupby('Sector').size() / df2_cleaned.groupby('Sector').size()\n",
    "\n",
    "# Get top 5 sectors with the highest proportion of significant controversy\n",
    "top_5_sectors = sector_controversy_proportion.nlargest(5).index.tolist()\n",
    "\n",
    "# Step 2: For each of these top 5 sectors, calculate the average Total ESG Risk score for industries within those sectors\n",
    "df_top_sectors = df2_cleaned[df2_cleaned['Sector'].isin(top_5_sectors)]\n",
    "industry_avg_esg = df_top_sectors.groupby(['Sector', 'Industry'])['Total ESG Risk score'].mean().reset_index()\n",
    "\n",
    "# Step 3: Plot the bar chart of industries within top 5 sectors and their respective average Total ESG Risk scores\n",
    "fig = px.bar(industry_avg_esg,\n",
    "             x='Industry',\n",
    "             y='Total ESG Risk score',\n",
    "             color='Sector',\n",
    "             title=\"Average Total ESG Risk Scores by Industry in Top 5 Sectors witH Companies \",\n",
    "             labels={'Total ESG Risk score': 'Average Total ESG Risk Score'},\n",
    "             color_discrete_sequence=px.colors.qualitative.Set1)\n",
    "\n",
    "# Sorting industries by Sector\n",
    "fig.update_layout(\n",
    "    xaxis_tickangle=-45,\n",
    "    barmode='group',\n",
    "    xaxis={'categoryorder': 'array', 'categoryarray': industry_avg_esg['Sector'].unique()},\n",
    "    margin=dict(t=50, b=150, l=100, r=100),\n",
    "    title=dict(x=0.5)\n",
    ")\n",
    "\n",
    "fig.show()"
   ]
  },
  {
   "cell_type": "code",
   "execution_count": null,
   "metadata": {},
   "outputs": [
    {
     "data": {
      "application/vnd.plotly.v1+json": {
       "config": {
        "plotlyServerURL": "https://plot.ly"
       },
       "data": [
        {
         "hovertemplate": "Company Size Category=%{x}<br>Count=%{text}<extra></extra>",
         "legendgroup": "0-1000",
         "marker": {
          "color": "rgb(102,194,165)",
          "pattern": {
           "shape": ""
          }
         },
         "name": "0-1000",
         "orientation": "v",
         "showlegend": true,
         "text": {
          "bdata": "AAAAAAAAKEA=",
          "dtype": "f8"
         },
         "textposition": "outside",
         "type": "bar",
         "x": [
          "0-1000"
         ],
         "xaxis": "x",
         "y": {
          "bdata": "DA==",
          "dtype": "i1"
         },
         "yaxis": "y"
        },
        {
         "hovertemplate": "Company Size Category=%{x}<br>Count=%{text}<extra></extra>",
         "legendgroup": "1000 - 5000",
         "marker": {
          "color": "rgb(252,141,98)",
          "pattern": {
           "shape": ""
          }
         },
         "name": "1000 - 5000",
         "orientation": "v",
         "showlegend": true,
         "text": {
          "bdata": "AAAAAAAAPEA=",
          "dtype": "f8"
         },
         "textposition": "outside",
         "type": "bar",
         "x": [
          "1000 - 5000"
         ],
         "xaxis": "x",
         "y": {
          "bdata": "HA==",
          "dtype": "i1"
         },
         "yaxis": "y"
        },
        {
         "hovertemplate": "Company Size Category=%{x}<br>Count=%{text}<extra></extra>",
         "legendgroup": "5000-10000",
         "marker": {
          "color": "rgb(141,160,203)",
          "pattern": {
           "shape": ""
          }
         },
         "name": "5000-10000",
         "orientation": "v",
         "showlegend": true,
         "text": {
          "bdata": "AAAAAACAS0A=",
          "dtype": "f8"
         },
         "textposition": "outside",
         "type": "bar",
         "x": [
          "5000-10000"
         ],
         "xaxis": "x",
         "y": {
          "bdata": "Nw==",
          "dtype": "i1"
         },
         "yaxis": "y"
        },
        {
         "hovertemplate": "Company Size Category=%{x}<br>Count=%{text}<extra></extra>",
         "legendgroup": "10000-20000",
         "marker": {
          "color": "rgb(231,138,195)",
          "pattern": {
           "shape": ""
          }
         },
         "name": "10000-20000",
         "orientation": "v",
         "showlegend": true,
         "text": {
          "bdata": "AAAAAADAWEA=",
          "dtype": "f8"
         },
         "textposition": "outside",
         "type": "bar",
         "x": [
          "10000-20000"
         ],
         "xaxis": "x",
         "y": {
          "bdata": "Yw==",
          "dtype": "i1"
         },
         "yaxis": "y"
        },
        {
         "hovertemplate": "Company Size Category=%{x}<br>Count=%{text}<extra></extra>",
         "legendgroup": "20000-50000",
         "marker": {
          "color": "rgb(166,216,84)",
          "pattern": {
           "shape": ""
          }
         },
         "name": "20000-50000",
         "orientation": "v",
         "showlegend": true,
         "text": {
          "bdata": "AAAAAACAWUA=",
          "dtype": "f8"
         },
         "textposition": "outside",
         "type": "bar",
         "x": [
          "20000-50000"
         ],
         "xaxis": "x",
         "y": {
          "bdata": "Zg==",
          "dtype": "i1"
         },
         "yaxis": "y"
        },
        {
         "hovertemplate": "Company Size Category=%{x}<br>Count=%{text}<extra></extra>",
         "legendgroup": "50000-80000",
         "marker": {
          "color": "rgb(255,217,47)",
          "pattern": {
           "shape": ""
          }
         },
         "name": "50000-80000",
         "orientation": "v",
         "showlegend": true,
         "text": {
          "bdata": "AAAAAACAR0A=",
          "dtype": "f8"
         },
         "textposition": "outside",
         "type": "bar",
         "x": [
          "50000-80000"
         ],
         "xaxis": "x",
         "y": {
          "bdata": "Lw==",
          "dtype": "i1"
         },
         "yaxis": "y"
        },
        {
         "hovertemplate": "Company Size Category=%{x}<br>Count=%{text}<extra></extra>",
         "legendgroup": "80000-110000",
         "marker": {
          "color": "rgb(229,196,148)",
          "pattern": {
           "shape": ""
          }
         },
         "name": "80000-110000",
         "orientation": "v",
         "showlegend": true,
         "text": {
          "bdata": "AAAAAAAAPkA=",
          "dtype": "f8"
         },
         "textposition": "outside",
         "type": "bar",
         "x": [
          "80000-110000"
         ],
         "xaxis": "x",
         "y": {
          "bdata": "Hg==",
          "dtype": "i1"
         },
         "yaxis": "y"
        },
        {
         "hovertemplate": "Company Size Category=%{x}<br>Count=%{text}<extra></extra>",
         "legendgroup": "110000-150000",
         "marker": {
          "color": "rgb(179,179,179)",
          "pattern": {
           "shape": ""
          }
         },
         "name": "110000-150000",
         "orientation": "v",
         "showlegend": true,
         "text": {
          "bdata": "AAAAAAAALkA=",
          "dtype": "f8"
         },
         "textposition": "outside",
         "type": "bar",
         "x": [
          "110000-150000"
         ],
         "xaxis": "x",
         "y": {
          "bdata": "Dw==",
          "dtype": "i1"
         },
         "yaxis": "y"
        },
        {
         "hovertemplate": "Company Size Category=%{x}<br>Count=%{text}<extra></extra>",
         "legendgroup": "150000-300000",
         "marker": {
          "color": "rgb(102,194,165)",
          "pattern": {
           "shape": ""
          }
         },
         "name": "150000-300000",
         "orientation": "v",
         "showlegend": true,
         "text": {
          "bdata": "AAAAAAAAM0A=",
          "dtype": "f8"
         },
         "textposition": "outside",
         "type": "bar",
         "x": [
          "150000-300000"
         ],
         "xaxis": "x",
         "y": {
          "bdata": "Ew==",
          "dtype": "i1"
         },
         "yaxis": "y"
        },
        {
         "hovertemplate": "Company Size Category=%{x}<br>Count=%{text}<extra></extra>",
         "legendgroup": "300000-500000",
         "marker": {
          "color": "rgb(252,141,98)",
          "pattern": {
           "shape": ""
          }
         },
         "name": "300000-500000",
         "orientation": "v",
         "showlegend": true,
         "text": {
          "bdata": "AAAAAAAALkA=",
          "dtype": "f8"
         },
         "textposition": "outside",
         "type": "bar",
         "x": [
          "300000-500000"
         ],
         "xaxis": "x",
         "y": {
          "bdata": "Dw==",
          "dtype": "i1"
         },
         "yaxis": "y"
        },
        {
         "hovertemplate": "Company Size Category=%{x}<br>Count=%{text}<extra></extra>",
         "legendgroup": "500000+",
         "marker": {
          "color": "rgb(141,160,203)",
          "pattern": {
           "shape": ""
          }
         },
         "name": "500000+",
         "orientation": "v",
         "showlegend": true,
         "text": {
          "bdata": "AAAAAAAAEEA=",
          "dtype": "f8"
         },
         "textposition": "outside",
         "type": "bar",
         "x": [
          "500000+"
         ],
         "xaxis": "x",
         "y": {
          "bdata": "BA==",
          "dtype": "i1"
         },
         "yaxis": "y"
        }
       ],
       "layout": {
        "bargap": 0.2,
        "barmode": "relative",
        "height": 500,
        "legend": {
         "title": {
          "text": "Company Size Category"
         },
         "tracegroupgap": 0
        },
        "template": {
         "data": {
          "bar": [
           {
            "error_x": {
             "color": "#2a3f5f"
            },
            "error_y": {
             "color": "#2a3f5f"
            },
            "marker": {
             "line": {
              "color": "#E5ECF6",
              "width": 0.5
             },
             "pattern": {
              "fillmode": "overlay",
              "size": 10,
              "solidity": 0.2
             }
            },
            "type": "bar"
           }
          ],
          "barpolar": [
           {
            "marker": {
             "line": {
              "color": "#E5ECF6",
              "width": 0.5
             },
             "pattern": {
              "fillmode": "overlay",
              "size": 10,
              "solidity": 0.2
             }
            },
            "type": "barpolar"
           }
          ],
          "carpet": [
           {
            "aaxis": {
             "endlinecolor": "#2a3f5f",
             "gridcolor": "white",
             "linecolor": "white",
             "minorgridcolor": "white",
             "startlinecolor": "#2a3f5f"
            },
            "baxis": {
             "endlinecolor": "#2a3f5f",
             "gridcolor": "white",
             "linecolor": "white",
             "minorgridcolor": "white",
             "startlinecolor": "#2a3f5f"
            },
            "type": "carpet"
           }
          ],
          "choropleth": [
           {
            "colorbar": {
             "outlinewidth": 0,
             "ticks": ""
            },
            "type": "choropleth"
           }
          ],
          "contour": [
           {
            "colorbar": {
             "outlinewidth": 0,
             "ticks": ""
            },
            "colorscale": [
             [
              0,
              "#0d0887"
             ],
             [
              0.1111111111111111,
              "#46039f"
             ],
             [
              0.2222222222222222,
              "#7201a8"
             ],
             [
              0.3333333333333333,
              "#9c179e"
             ],
             [
              0.4444444444444444,
              "#bd3786"
             ],
             [
              0.5555555555555556,
              "#d8576b"
             ],
             [
              0.6666666666666666,
              "#ed7953"
             ],
             [
              0.7777777777777778,
              "#fb9f3a"
             ],
             [
              0.8888888888888888,
              "#fdca26"
             ],
             [
              1,
              "#f0f921"
             ]
            ],
            "type": "contour"
           }
          ],
          "contourcarpet": [
           {
            "colorbar": {
             "outlinewidth": 0,
             "ticks": ""
            },
            "type": "contourcarpet"
           }
          ],
          "heatmap": [
           {
            "colorbar": {
             "outlinewidth": 0,
             "ticks": ""
            },
            "colorscale": [
             [
              0,
              "#0d0887"
             ],
             [
              0.1111111111111111,
              "#46039f"
             ],
             [
              0.2222222222222222,
              "#7201a8"
             ],
             [
              0.3333333333333333,
              "#9c179e"
             ],
             [
              0.4444444444444444,
              "#bd3786"
             ],
             [
              0.5555555555555556,
              "#d8576b"
             ],
             [
              0.6666666666666666,
              "#ed7953"
             ],
             [
              0.7777777777777778,
              "#fb9f3a"
             ],
             [
              0.8888888888888888,
              "#fdca26"
             ],
             [
              1,
              "#f0f921"
             ]
            ],
            "type": "heatmap"
           }
          ],
          "histogram": [
           {
            "marker": {
             "pattern": {
              "fillmode": "overlay",
              "size": 10,
              "solidity": 0.2
             }
            },
            "type": "histogram"
           }
          ],
          "histogram2d": [
           {
            "colorbar": {
             "outlinewidth": 0,
             "ticks": ""
            },
            "colorscale": [
             [
              0,
              "#0d0887"
             ],
             [
              0.1111111111111111,
              "#46039f"
             ],
             [
              0.2222222222222222,
              "#7201a8"
             ],
             [
              0.3333333333333333,
              "#9c179e"
             ],
             [
              0.4444444444444444,
              "#bd3786"
             ],
             [
              0.5555555555555556,
              "#d8576b"
             ],
             [
              0.6666666666666666,
              "#ed7953"
             ],
             [
              0.7777777777777778,
              "#fb9f3a"
             ],
             [
              0.8888888888888888,
              "#fdca26"
             ],
             [
              1,
              "#f0f921"
             ]
            ],
            "type": "histogram2d"
           }
          ],
          "histogram2dcontour": [
           {
            "colorbar": {
             "outlinewidth": 0,
             "ticks": ""
            },
            "colorscale": [
             [
              0,
              "#0d0887"
             ],
             [
              0.1111111111111111,
              "#46039f"
             ],
             [
              0.2222222222222222,
              "#7201a8"
             ],
             [
              0.3333333333333333,
              "#9c179e"
             ],
             [
              0.4444444444444444,
              "#bd3786"
             ],
             [
              0.5555555555555556,
              "#d8576b"
             ],
             [
              0.6666666666666666,
              "#ed7953"
             ],
             [
              0.7777777777777778,
              "#fb9f3a"
             ],
             [
              0.8888888888888888,
              "#fdca26"
             ],
             [
              1,
              "#f0f921"
             ]
            ],
            "type": "histogram2dcontour"
           }
          ],
          "mesh3d": [
           {
            "colorbar": {
             "outlinewidth": 0,
             "ticks": ""
            },
            "type": "mesh3d"
           }
          ],
          "parcoords": [
           {
            "line": {
             "colorbar": {
              "outlinewidth": 0,
              "ticks": ""
             }
            },
            "type": "parcoords"
           }
          ],
          "pie": [
           {
            "automargin": true,
            "type": "pie"
           }
          ],
          "scatter": [
           {
            "fillpattern": {
             "fillmode": "overlay",
             "size": 10,
             "solidity": 0.2
            },
            "type": "scatter"
           }
          ],
          "scatter3d": [
           {
            "line": {
             "colorbar": {
              "outlinewidth": 0,
              "ticks": ""
             }
            },
            "marker": {
             "colorbar": {
              "outlinewidth": 0,
              "ticks": ""
             }
            },
            "type": "scatter3d"
           }
          ],
          "scattercarpet": [
           {
            "marker": {
             "colorbar": {
              "outlinewidth": 0,
              "ticks": ""
             }
            },
            "type": "scattercarpet"
           }
          ],
          "scattergeo": [
           {
            "marker": {
             "colorbar": {
              "outlinewidth": 0,
              "ticks": ""
             }
            },
            "type": "scattergeo"
           }
          ],
          "scattergl": [
           {
            "marker": {
             "colorbar": {
              "outlinewidth": 0,
              "ticks": ""
             }
            },
            "type": "scattergl"
           }
          ],
          "scattermap": [
           {
            "marker": {
             "colorbar": {
              "outlinewidth": 0,
              "ticks": ""
             }
            },
            "type": "scattermap"
           }
          ],
          "scattermapbox": [
           {
            "marker": {
             "colorbar": {
              "outlinewidth": 0,
              "ticks": ""
             }
            },
            "type": "scattermapbox"
           }
          ],
          "scatterpolar": [
           {
            "marker": {
             "colorbar": {
              "outlinewidth": 0,
              "ticks": ""
             }
            },
            "type": "scatterpolar"
           }
          ],
          "scatterpolargl": [
           {
            "marker": {
             "colorbar": {
              "outlinewidth": 0,
              "ticks": ""
             }
            },
            "type": "scatterpolargl"
           }
          ],
          "scatterternary": [
           {
            "marker": {
             "colorbar": {
              "outlinewidth": 0,
              "ticks": ""
             }
            },
            "type": "scatterternary"
           }
          ],
          "surface": [
           {
            "colorbar": {
             "outlinewidth": 0,
             "ticks": ""
            },
            "colorscale": [
             [
              0,
              "#0d0887"
             ],
             [
              0.1111111111111111,
              "#46039f"
             ],
             [
              0.2222222222222222,
              "#7201a8"
             ],
             [
              0.3333333333333333,
              "#9c179e"
             ],
             [
              0.4444444444444444,
              "#bd3786"
             ],
             [
              0.5555555555555556,
              "#d8576b"
             ],
             [
              0.6666666666666666,
              "#ed7953"
             ],
             [
              0.7777777777777778,
              "#fb9f3a"
             ],
             [
              0.8888888888888888,
              "#fdca26"
             ],
             [
              1,
              "#f0f921"
             ]
            ],
            "type": "surface"
           }
          ],
          "table": [
           {
            "cells": {
             "fill": {
              "color": "#EBF0F8"
             },
             "line": {
              "color": "white"
             }
            },
            "header": {
             "fill": {
              "color": "#C8D4E3"
             },
             "line": {
              "color": "white"
             }
            },
            "type": "table"
           }
          ]
         },
         "layout": {
          "annotationdefaults": {
           "arrowcolor": "#2a3f5f",
           "arrowhead": 0,
           "arrowwidth": 1
          },
          "autotypenumbers": "strict",
          "coloraxis": {
           "colorbar": {
            "outlinewidth": 0,
            "ticks": ""
           }
          },
          "colorscale": {
           "diverging": [
            [
             0,
             "#8e0152"
            ],
            [
             0.1,
             "#c51b7d"
            ],
            [
             0.2,
             "#de77ae"
            ],
            [
             0.3,
             "#f1b6da"
            ],
            [
             0.4,
             "#fde0ef"
            ],
            [
             0.5,
             "#f7f7f7"
            ],
            [
             0.6,
             "#e6f5d0"
            ],
            [
             0.7,
             "#b8e186"
            ],
            [
             0.8,
             "#7fbc41"
            ],
            [
             0.9,
             "#4d9221"
            ],
            [
             1,
             "#276419"
            ]
           ],
           "sequential": [
            [
             0,
             "#0d0887"
            ],
            [
             0.1111111111111111,
             "#46039f"
            ],
            [
             0.2222222222222222,
             "#7201a8"
            ],
            [
             0.3333333333333333,
             "#9c179e"
            ],
            [
             0.4444444444444444,
             "#bd3786"
            ],
            [
             0.5555555555555556,
             "#d8576b"
            ],
            [
             0.6666666666666666,
             "#ed7953"
            ],
            [
             0.7777777777777778,
             "#fb9f3a"
            ],
            [
             0.8888888888888888,
             "#fdca26"
            ],
            [
             1,
             "#f0f921"
            ]
           ],
           "sequentialminus": [
            [
             0,
             "#0d0887"
            ],
            [
             0.1111111111111111,
             "#46039f"
            ],
            [
             0.2222222222222222,
             "#7201a8"
            ],
            [
             0.3333333333333333,
             "#9c179e"
            ],
            [
             0.4444444444444444,
             "#bd3786"
            ],
            [
             0.5555555555555556,
             "#d8576b"
            ],
            [
             0.6666666666666666,
             "#ed7953"
            ],
            [
             0.7777777777777778,
             "#fb9f3a"
            ],
            [
             0.8888888888888888,
             "#fdca26"
            ],
            [
             1,
             "#f0f921"
            ]
           ]
          },
          "colorway": [
           "#636efa",
           "#EF553B",
           "#00cc96",
           "#ab63fa",
           "#FFA15A",
           "#19d3f3",
           "#FF6692",
           "#B6E880",
           "#FF97FF",
           "#FECB52"
          ],
          "font": {
           "color": "#2a3f5f"
          },
          "geo": {
           "bgcolor": "white",
           "lakecolor": "white",
           "landcolor": "#E5ECF6",
           "showlakes": true,
           "showland": true,
           "subunitcolor": "white"
          },
          "hoverlabel": {
           "align": "left"
          },
          "hovermode": "closest",
          "mapbox": {
           "style": "light"
          },
          "paper_bgcolor": "white",
          "plot_bgcolor": "#E5ECF6",
          "polar": {
           "angularaxis": {
            "gridcolor": "white",
            "linecolor": "white",
            "ticks": ""
           },
           "bgcolor": "#E5ECF6",
           "radialaxis": {
            "gridcolor": "white",
            "linecolor": "white",
            "ticks": ""
           }
          },
          "scene": {
           "xaxis": {
            "backgroundcolor": "#E5ECF6",
            "gridcolor": "white",
            "gridwidth": 2,
            "linecolor": "white",
            "showbackground": true,
            "ticks": "",
            "zerolinecolor": "white"
           },
           "yaxis": {
            "backgroundcolor": "#E5ECF6",
            "gridcolor": "white",
            "gridwidth": 2,
            "linecolor": "white",
            "showbackground": true,
            "ticks": "",
            "zerolinecolor": "white"
           },
           "zaxis": {
            "backgroundcolor": "#E5ECF6",
            "gridcolor": "white",
            "gridwidth": 2,
            "linecolor": "white",
            "showbackground": true,
            "ticks": "",
            "zerolinecolor": "white"
           }
          },
          "shapedefaults": {
           "line": {
            "color": "#2a3f5f"
           }
          },
          "ternary": {
           "aaxis": {
            "gridcolor": "white",
            "linecolor": "white",
            "ticks": ""
           },
           "baxis": {
            "gridcolor": "white",
            "linecolor": "white",
            "ticks": ""
           },
           "bgcolor": "#E5ECF6",
           "caxis": {
            "gridcolor": "white",
            "linecolor": "white",
            "ticks": ""
           }
          },
          "title": {
           "x": 0.05
          },
          "xaxis": {
           "automargin": true,
           "gridcolor": "white",
           "linecolor": "white",
           "ticks": "",
           "title": {
            "standoff": 15
           },
           "zerolinecolor": "white",
           "zerolinewidth": 2
          },
          "yaxis": {
           "automargin": true,
           "gridcolor": "white",
           "linecolor": "white",
           "ticks": "",
           "title": {
            "standoff": 15
           },
           "zerolinecolor": "white",
           "zerolinewidth": 2
          }
         }
        },
        "title": {
         "text": "Distribution of Companies by Number of Employees"
        },
        "width": 800,
        "xaxis": {
         "anchor": "y",
         "categoryarray": [
          "0-1000",
          "1000 - 5000",
          "5000-10000",
          "10000-20000",
          "20000-50000",
          "50000-80000",
          "80000-110000",
          "110000-150000",
          "150000-300000",
          "300000-500000",
          "500000+"
         ],
         "categoryorder": "array",
         "domain": [
          0,
          1
         ],
         "title": {
          "text": "Company Size Category"
         }
        },
        "yaxis": {
         "anchor": "x",
         "domain": [
          0,
          1
         ],
         "title": {
          "text": "Number of Companies"
         }
        }
       }
      }
     },
     "metadata": {},
     "output_type": "display_data"
    }
   ],
   "source": [
    "\n",
    "data = df2_cleaned[[\"Full Time Employees\", \"ESG Risk Percentile\"]]\n",
    "data = data[data[\"Full Time Employees\"].astype(str) != \"NA\"]\n",
    "data[\"Full Time Employees\"] = data[\"Full Time Employees\"].astype(str).str.replace(\",\", \"\").astype(float)\n",
    "\n",
    "\n",
    "bins = [0, 1000, 5000, 10000, 20000, 50000, 80000, 110000, 150000, 300000, 500000, float(\"inf\")]\n",
    "labels = [\"0-1000\", \"1000 - 5000\", \"5000-10000\", \"10000-20000\", \"20000-50000\", \"50000-80000\", \"80000-110000\", \"110000-150000\", \"150000-300000\", \"300000-500000\", \"500000+\"]\n",
    "\n",
    "data[\"Company Size Category\"] = pd.cut(data[\"Full Time Employees\"], bins=bins, labels=labels, right=False)\n",
    "size_counts = data[\"Company Size Category\"].value_counts().reset_index()\n",
    "size_counts.columns = [\"Company Size Category\", \"Count\"]\n",
    "\n",
    "size_counts[\"Company Size Category\"] = pd.Categorical(size_counts[\"Company Size Category\"], categories=labels, ordered=True)\n",
    "size_counts = size_counts.sort_values(\"Company Size Category\")\n",
    "\n",
    "fig = px.bar(\n",
    "    size_counts, \n",
    "    x=\"Company Size Category\", \n",
    "    y=\"Count\", \n",
    "    title=\"Distribution of Companies by Number of Employees\",\n",
    "    text=size_counts[\"Count\"],  # Display count on bars\n",
    "    color=\"Company Size Category\",  # Use different colors for categories\n",
    "    color_discrete_sequence=px.colors.qualitative.Set2  # Custom color palette\n",
    ")\n",
    "\n",
    "# Adjust layout\n",
    "fig.update_traces(textposition=\"outside\")  # Show text outside bars\n",
    "fig.update_layout(\n",
    "    xaxis_title=\"Company Size Category\", \n",
    "    yaxis_title=\"Number of Companies\",\n",
    "    bargap=0.2,  # Space between bars\n",
    "    width=800,  # Increase figure width\n",
    "    height=500   # Increase figure height\n",
    ")\n",
    "\n",
    "fig.show()\n",
    "\n",
    "\n"
   ]
  }
 ],
 "metadata": {
  "kernelspec": {
   "display_name": "Python 3",
   "language": "python",
   "name": "python3"
  },
  "language_info": {
   "codemirror_mode": {
    "name": "ipython",
    "version": 3
   },
   "file_extension": ".py",
   "mimetype": "text/x-python",
   "name": "python",
   "nbconvert_exporter": "python",
   "pygments_lexer": "ipython3",
   "version": "3.11.3"
  }
 },
 "nbformat": 4,
 "nbformat_minor": 2
}
