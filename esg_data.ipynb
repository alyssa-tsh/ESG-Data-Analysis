{
 "cells": [
  {
   "cell_type": "code",
   "execution_count": 1,
   "metadata": {},
   "outputs": [
    {
     "name": "stdout",
     "output_type": "stream",
     "text": [
      "  ticker                           name currency  \\\n",
      "0    dis                 Walt Disney Co      USD   \n",
      "1     gm              General Motors Co      USD   \n",
      "2    gww                WW Grainger Inc      USD   \n",
      "3    mhk          Mohawk Industries Inc      USD   \n",
      "4    lyv  Live Nation Entertainment Inc      USD   \n",
      "\n",
      "                        exchange                            industry  \\\n",
      "0  NEW YORK STOCK EXCHANGE, INC.                               Media   \n",
      "1  NEW YORK STOCK EXCHANGE, INC.                         Automobiles   \n",
      "2  NEW YORK STOCK EXCHANGE, INC.  Trading Companies and Distributors   \n",
      "3  NEW YORK STOCK EXCHANGE, INC.                   Consumer products   \n",
      "4  NEW YORK STOCK EXCHANGE, INC.                               Media   \n",
      "\n",
      "                                                logo  \\\n",
      "0  https://static.finnhub.io/logo/ef50b4a2b263c84...   \n",
      "1  https://static.finnhub.io/logo/9253db78-80c9-1...   \n",
      "2  https://static.finnhub.io/logo/f153dcda-80eb-1...   \n",
      "3  https://static.finnhub.io/logo/26868a62-80ec-1...   \n",
      "4  https://static.finnhub.io/logo/1cd144d2-80ec-1...   \n",
      "\n",
      "                                     weburl environment_grade  \\\n",
      "0         https://thewaltdisneycompany.com/                 A   \n",
      "1                       https://www.gm.com/                 A   \n",
      "2                 https://www.grainger.com/                 B   \n",
      "3                    https://mohawkind.com/                 A   \n",
      "4  https://www.livenationentertainment.com/               BBB   \n",
      "\n",
      "  environment_level social_grade  ... governance_grade governance_level  \\\n",
      "0              High           BB  ...               BB           Medium   \n",
      "1              High           BB  ...                B           Medium   \n",
      "2            Medium           BB  ...                B           Medium   \n",
      "3              High            B  ...               BB           Medium   \n",
      "4              High           BB  ...                B           Medium   \n",
      "\n",
      "  environment_score  social_score  governance_score  total_score  \\\n",
      "0               510           316               321         1147   \n",
      "1               510           303               255         1068   \n",
      "2               255           385               240          880   \n",
      "3               570           298               303         1171   \n",
      "4               492           310               250         1052   \n",
      "\n",
      "   last_processing_date total_grade total_level      cik  \n",
      "0            19-04-2022         BBB        High  1744489  \n",
      "1            17-04-2022         BBB        High  1467858  \n",
      "2            19-04-2022          BB      Medium   277135  \n",
      "3            18-04-2022         BBB        High   851968  \n",
      "4            18-04-2022         BBB        High  1335258  \n",
      "\n",
      "[5 rows x 21 columns]\n",
      "<class 'pandas.core.frame.DataFrame'>\n",
      "RangeIndex: 722 entries, 0 to 721\n",
      "Data columns (total 21 columns):\n",
      " #   Column                Non-Null Count  Dtype \n",
      "---  ------                --------------  ----- \n",
      " 0   ticker                722 non-null    object\n",
      " 1   name                  722 non-null    object\n",
      " 2   currency              722 non-null    object\n",
      " 3   exchange              722 non-null    object\n",
      " 4   industry              709 non-null    object\n",
      " 5   logo                  702 non-null    object\n",
      " 6   weburl                706 non-null    object\n",
      " 7   environment_grade     722 non-null    object\n",
      " 8   environment_level     722 non-null    object\n",
      " 9   social_grade          722 non-null    object\n",
      " 10  social_level          722 non-null    object\n",
      " 11  governance_grade      722 non-null    object\n",
      " 12  governance_level      722 non-null    object\n",
      " 13  environment_score     722 non-null    int64 \n",
      " 14  social_score          722 non-null    int64 \n",
      " 15  governance_score      722 non-null    int64 \n",
      " 16  total_score           722 non-null    int64 \n",
      " 17  last_processing_date  722 non-null    object\n",
      " 18  total_grade           722 non-null    object\n",
      " 19  total_level           722 non-null    object\n",
      " 20  cik                   722 non-null    int64 \n",
      "dtypes: int64(5), object(16)\n",
      "memory usage: 118.6+ KB\n",
      "None\n",
      "  Symbol                      Name  \\\n",
      "0   ENPH      Enphase Energy, Inc.   \n",
      "1    EMN  Eastman Chemical Company   \n",
      "2    DPZ       Domino's Pizza Inc.   \n",
      "3    DAY            Dayforce, Inc.   \n",
      "4    DVA               Davita Inc.   \n",
      "\n",
      "                                             Address             Sector  \\\n",
      "0  47281 Bayside Parkway\\nFremont, CA 94538\\nUnit...         Technology   \n",
      "1  200 South Wilcox Drive\\nKingsport, TN 37662\\nU...    Basic Materials   \n",
      "2  30 Frank Lloyd Wright Drive\\nAnn Arbor, MI 481...  Consumer Cyclical   \n",
      "3  3311 East Old Shakopee Road\\nMinneapolis, MN 5...         Technology   \n",
      "4  2000 16th Street\\nDenver, CO 80202\\nUnited States         Healthcare   \n",
      "\n",
      "                  Industry Full Time Employees  \\\n",
      "0                    Solar               3,157   \n",
      "1      Specialty Chemicals              14,000   \n",
      "2              Restaurants               6,500   \n",
      "3   Software - Application               9,084   \n",
      "4  Medical Care Facilities              70,000   \n",
      "\n",
      "                                         Description  Total ESG Risk score  \\\n",
      "0  Enphase Energy, Inc., together with its subsid...                   NaN   \n",
      "1  Eastman Chemical Company operates as a special...                  25.3   \n",
      "2  Domino's Pizza, Inc., through its subsidiaries...                  29.2   \n",
      "3  Dayforce Inc., together with its subsidiaries,...                   NaN   \n",
      "4  DaVita Inc. provides kidney dialysis services ...                  22.6   \n",
      "\n",
      "   Environment Risk Score  Governance Risk Score  Social Risk Score  \\\n",
      "0                     NaN                    NaN                NaN   \n",
      "1                    12.8                    6.6                5.8   \n",
      "2                    10.6                    6.3               12.2   \n",
      "3                     NaN                    NaN                NaN   \n",
      "4                     0.1                    8.4               14.1   \n",
      "\n",
      "            Controversy Level  Controversy Score ESG Risk Percentile  \\\n",
      "0                         NaN                NaN                 NaN   \n",
      "1  Moderate Controversy Level                2.0     50th percentile   \n",
      "2  Moderate Controversy Level                2.0     66th percentile   \n",
      "3                         NaN                NaN                 NaN   \n",
      "4  Moderate Controversy Level                2.0     38th percentile   \n",
      "\n",
      "  ESG Risk Level  \n",
      "0            NaN  \n",
      "1         Medium  \n",
      "2         Medium  \n",
      "3            NaN  \n",
      "4         Medium  \n",
      "<class 'pandas.core.frame.DataFrame'>\n",
      "RangeIndex: 503 entries, 0 to 502\n",
      "Data columns (total 15 columns):\n",
      " #   Column                  Non-Null Count  Dtype  \n",
      "---  ------                  --------------  -----  \n",
      " 0   Symbol                  503 non-null    object \n",
      " 1   Name                    503 non-null    object \n",
      " 2   Address                 502 non-null    object \n",
      " 3   Sector                  502 non-null    object \n",
      " 4   Industry                502 non-null    object \n",
      " 5   Full Time Employees     498 non-null    object \n",
      " 6   Description             502 non-null    object \n",
      " 7   Total ESG Risk score    430 non-null    float64\n",
      " 8   Environment Risk Score  430 non-null    float64\n",
      " 9   Governance Risk Score   430 non-null    float64\n",
      " 10  Social Risk Score       430 non-null    float64\n",
      " 11  Controversy Level       430 non-null    object \n",
      " 12  Controversy Score       403 non-null    float64\n",
      " 13  ESG Risk Percentile     430 non-null    object \n",
      " 14  ESG Risk Level          430 non-null    object \n",
      "dtypes: float64(5), object(10)\n",
      "memory usage: 59.1+ KB\n",
      "None\n"
     ]
    }
   ],
   "source": [
    "import pandas as pd\n",
    "\n",
    "#df1: esg data --> score & level data of companies\n",
    "df1 = pd.read_csv('datasets/esg_data.csv')\n",
    "print(df1.head())\n",
    "print(df1.info())\n",
    "\n",
    "#df2: risk ratings of US companies based on esg scores\n",
    "df2 = pd.read_csv('datasets/SP_500_ESG_Risk_Ratings.csv')\n",
    "print(df2.head())\n",
    "print(df2.info())\n",
    "\n",
    "\n",
    "\n"
   ]
  },
  {
   "cell_type": "code",
   "execution_count": 2,
   "metadata": {},
   "outputs": [
    {
     "name": "stdout",
     "output_type": "stream",
     "text": [
      "Numerical Columns Summary:\n",
      "                   count           mean            std     min        25%  \\\n",
      "environment_score  722.0     404.806094     145.103870   200.0     240.00   \n",
      "social_score       722.0     292.182825      57.017406   160.0     243.00   \n",
      "governance_score   722.0     278.761773      47.031536    75.0     235.00   \n",
      "total_score        722.0     975.750693     218.751796   600.0     763.00   \n",
      "cik                722.0  989792.497230  581681.496480  1800.0  723157.25   \n",
      "\n",
      "                         50%         75%        max  \n",
      "environment_score      483.0      518.75      719.0  \n",
      "social_score           302.0      322.75      667.0  \n",
      "governance_score       300.0      310.00      475.0  \n",
      "total_score           1046.0     1144.00     1536.0  \n",
      "cik                1046189.0  1470094.25  1914023.0  \n"
     ]
    }
   ],
   "source": [
    "#Data Summary Statistics for df1\n",
    "\n",
    "import pandas as pd\n",
    "\n",
    "def compute_summary_statistics(df):\n",
    "    # Select numerical and categorical columns\n",
    "    num_cols = df1.select_dtypes(include=['int64', 'float64']).columns\n",
    "    # Compute summary statistics\n",
    "    num_summary = df[num_cols].describe().T  # Transpose for better readability\n",
    "    # Display results\n",
    "    print(\"Numerical Columns Summary:\")\n",
    "    print(num_summary)\n",
    "   \n",
    "\n",
    "compute_summary_statistics(df1)\n",
    "\n"
   ]
  },
  {
   "cell_type": "code",
   "execution_count": 3,
   "metadata": {},
   "outputs": [
    {
     "data": {
      "application/vnd.plotly.v1+json": {
       "config": {
        "plotlyServerURL": "https://plot.ly"
       },
       "data": [
        {
         "domain": {
          "x": [
           0,
           1
          ],
          "y": [
           0,
           1
          ]
         },
         "hovertemplate": "total_level=%{label}<br>count=%{value}<extra></extra>",
         "labels": [
          "High",
          "Medium"
         ],
         "legendgroup": "",
         "name": "",
         "showlegend": true,
         "type": "pie",
         "values": {
          "bdata": "wwEPAQ==",
          "dtype": "i2"
         }
        }
       ],
       "layout": {
        "legend": {
         "tracegroupgap": 0
        },
        "template": {
         "data": {
          "bar": [
           {
            "error_x": {
             "color": "#2a3f5f"
            },
            "error_y": {
             "color": "#2a3f5f"
            },
            "marker": {
             "line": {
              "color": "#E5ECF6",
              "width": 0.5
             },
             "pattern": {
              "fillmode": "overlay",
              "size": 10,
              "solidity": 0.2
             }
            },
            "type": "bar"
           }
          ],
          "barpolar": [
           {
            "marker": {
             "line": {
              "color": "#E5ECF6",
              "width": 0.5
             },
             "pattern": {
              "fillmode": "overlay",
              "size": 10,
              "solidity": 0.2
             }
            },
            "type": "barpolar"
           }
          ],
          "carpet": [
           {
            "aaxis": {
             "endlinecolor": "#2a3f5f",
             "gridcolor": "white",
             "linecolor": "white",
             "minorgridcolor": "white",
             "startlinecolor": "#2a3f5f"
            },
            "baxis": {
             "endlinecolor": "#2a3f5f",
             "gridcolor": "white",
             "linecolor": "white",
             "minorgridcolor": "white",
             "startlinecolor": "#2a3f5f"
            },
            "type": "carpet"
           }
          ],
          "choropleth": [
           {
            "colorbar": {
             "outlinewidth": 0,
             "ticks": ""
            },
            "type": "choropleth"
           }
          ],
          "contour": [
           {
            "colorbar": {
             "outlinewidth": 0,
             "ticks": ""
            },
            "colorscale": [
             [
              0,
              "#0d0887"
             ],
             [
              0.1111111111111111,
              "#46039f"
             ],
             [
              0.2222222222222222,
              "#7201a8"
             ],
             [
              0.3333333333333333,
              "#9c179e"
             ],
             [
              0.4444444444444444,
              "#bd3786"
             ],
             [
              0.5555555555555556,
              "#d8576b"
             ],
             [
              0.6666666666666666,
              "#ed7953"
             ],
             [
              0.7777777777777778,
              "#fb9f3a"
             ],
             [
              0.8888888888888888,
              "#fdca26"
             ],
             [
              1,
              "#f0f921"
             ]
            ],
            "type": "contour"
           }
          ],
          "contourcarpet": [
           {
            "colorbar": {
             "outlinewidth": 0,
             "ticks": ""
            },
            "type": "contourcarpet"
           }
          ],
          "heatmap": [
           {
            "colorbar": {
             "outlinewidth": 0,
             "ticks": ""
            },
            "colorscale": [
             [
              0,
              "#0d0887"
             ],
             [
              0.1111111111111111,
              "#46039f"
             ],
             [
              0.2222222222222222,
              "#7201a8"
             ],
             [
              0.3333333333333333,
              "#9c179e"
             ],
             [
              0.4444444444444444,
              "#bd3786"
             ],
             [
              0.5555555555555556,
              "#d8576b"
             ],
             [
              0.6666666666666666,
              "#ed7953"
             ],
             [
              0.7777777777777778,
              "#fb9f3a"
             ],
             [
              0.8888888888888888,
              "#fdca26"
             ],
             [
              1,
              "#f0f921"
             ]
            ],
            "type": "heatmap"
           }
          ],
          "histogram": [
           {
            "marker": {
             "pattern": {
              "fillmode": "overlay",
              "size": 10,
              "solidity": 0.2
             }
            },
            "type": "histogram"
           }
          ],
          "histogram2d": [
           {
            "colorbar": {
             "outlinewidth": 0,
             "ticks": ""
            },
            "colorscale": [
             [
              0,
              "#0d0887"
             ],
             [
              0.1111111111111111,
              "#46039f"
             ],
             [
              0.2222222222222222,
              "#7201a8"
             ],
             [
              0.3333333333333333,
              "#9c179e"
             ],
             [
              0.4444444444444444,
              "#bd3786"
             ],
             [
              0.5555555555555556,
              "#d8576b"
             ],
             [
              0.6666666666666666,
              "#ed7953"
             ],
             [
              0.7777777777777778,
              "#fb9f3a"
             ],
             [
              0.8888888888888888,
              "#fdca26"
             ],
             [
              1,
              "#f0f921"
             ]
            ],
            "type": "histogram2d"
           }
          ],
          "histogram2dcontour": [
           {
            "colorbar": {
             "outlinewidth": 0,
             "ticks": ""
            },
            "colorscale": [
             [
              0,
              "#0d0887"
             ],
             [
              0.1111111111111111,
              "#46039f"
             ],
             [
              0.2222222222222222,
              "#7201a8"
             ],
             [
              0.3333333333333333,
              "#9c179e"
             ],
             [
              0.4444444444444444,
              "#bd3786"
             ],
             [
              0.5555555555555556,
              "#d8576b"
             ],
             [
              0.6666666666666666,
              "#ed7953"
             ],
             [
              0.7777777777777778,
              "#fb9f3a"
             ],
             [
              0.8888888888888888,
              "#fdca26"
             ],
             [
              1,
              "#f0f921"
             ]
            ],
            "type": "histogram2dcontour"
           }
          ],
          "mesh3d": [
           {
            "colorbar": {
             "outlinewidth": 0,
             "ticks": ""
            },
            "type": "mesh3d"
           }
          ],
          "parcoords": [
           {
            "line": {
             "colorbar": {
              "outlinewidth": 0,
              "ticks": ""
             }
            },
            "type": "parcoords"
           }
          ],
          "pie": [
           {
            "automargin": true,
            "type": "pie"
           }
          ],
          "scatter": [
           {
            "fillpattern": {
             "fillmode": "overlay",
             "size": 10,
             "solidity": 0.2
            },
            "type": "scatter"
           }
          ],
          "scatter3d": [
           {
            "line": {
             "colorbar": {
              "outlinewidth": 0,
              "ticks": ""
             }
            },
            "marker": {
             "colorbar": {
              "outlinewidth": 0,
              "ticks": ""
             }
            },
            "type": "scatter3d"
           }
          ],
          "scattercarpet": [
           {
            "marker": {
             "colorbar": {
              "outlinewidth": 0,
              "ticks": ""
             }
            },
            "type": "scattercarpet"
           }
          ],
          "scattergeo": [
           {
            "marker": {
             "colorbar": {
              "outlinewidth": 0,
              "ticks": ""
             }
            },
            "type": "scattergeo"
           }
          ],
          "scattergl": [
           {
            "marker": {
             "colorbar": {
              "outlinewidth": 0,
              "ticks": ""
             }
            },
            "type": "scattergl"
           }
          ],
          "scattermap": [
           {
            "marker": {
             "colorbar": {
              "outlinewidth": 0,
              "ticks": ""
             }
            },
            "type": "scattermap"
           }
          ],
          "scattermapbox": [
           {
            "marker": {
             "colorbar": {
              "outlinewidth": 0,
              "ticks": ""
             }
            },
            "type": "scattermapbox"
           }
          ],
          "scatterpolar": [
           {
            "marker": {
             "colorbar": {
              "outlinewidth": 0,
              "ticks": ""
             }
            },
            "type": "scatterpolar"
           }
          ],
          "scatterpolargl": [
           {
            "marker": {
             "colorbar": {
              "outlinewidth": 0,
              "ticks": ""
             }
            },
            "type": "scatterpolargl"
           }
          ],
          "scatterternary": [
           {
            "marker": {
             "colorbar": {
              "outlinewidth": 0,
              "ticks": ""
             }
            },
            "type": "scatterternary"
           }
          ],
          "surface": [
           {
            "colorbar": {
             "outlinewidth": 0,
             "ticks": ""
            },
            "colorscale": [
             [
              0,
              "#0d0887"
             ],
             [
              0.1111111111111111,
              "#46039f"
             ],
             [
              0.2222222222222222,
              "#7201a8"
             ],
             [
              0.3333333333333333,
              "#9c179e"
             ],
             [
              0.4444444444444444,
              "#bd3786"
             ],
             [
              0.5555555555555556,
              "#d8576b"
             ],
             [
              0.6666666666666666,
              "#ed7953"
             ],
             [
              0.7777777777777778,
              "#fb9f3a"
             ],
             [
              0.8888888888888888,
              "#fdca26"
             ],
             [
              1,
              "#f0f921"
             ]
            ],
            "type": "surface"
           }
          ],
          "table": [
           {
            "cells": {
             "fill": {
              "color": "#EBF0F8"
             },
             "line": {
              "color": "white"
             }
            },
            "header": {
             "fill": {
              "color": "#C8D4E3"
             },
             "line": {
              "color": "white"
             }
            },
            "type": "table"
           }
          ]
         },
         "layout": {
          "annotationdefaults": {
           "arrowcolor": "#2a3f5f",
           "arrowhead": 0,
           "arrowwidth": 1
          },
          "autotypenumbers": "strict",
          "coloraxis": {
           "colorbar": {
            "outlinewidth": 0,
            "ticks": ""
           }
          },
          "colorscale": {
           "diverging": [
            [
             0,
             "#8e0152"
            ],
            [
             0.1,
             "#c51b7d"
            ],
            [
             0.2,
             "#de77ae"
            ],
            [
             0.3,
             "#f1b6da"
            ],
            [
             0.4,
             "#fde0ef"
            ],
            [
             0.5,
             "#f7f7f7"
            ],
            [
             0.6,
             "#e6f5d0"
            ],
            [
             0.7,
             "#b8e186"
            ],
            [
             0.8,
             "#7fbc41"
            ],
            [
             0.9,
             "#4d9221"
            ],
            [
             1,
             "#276419"
            ]
           ],
           "sequential": [
            [
             0,
             "#0d0887"
            ],
            [
             0.1111111111111111,
             "#46039f"
            ],
            [
             0.2222222222222222,
             "#7201a8"
            ],
            [
             0.3333333333333333,
             "#9c179e"
            ],
            [
             0.4444444444444444,
             "#bd3786"
            ],
            [
             0.5555555555555556,
             "#d8576b"
            ],
            [
             0.6666666666666666,
             "#ed7953"
            ],
            [
             0.7777777777777778,
             "#fb9f3a"
            ],
            [
             0.8888888888888888,
             "#fdca26"
            ],
            [
             1,
             "#f0f921"
            ]
           ],
           "sequentialminus": [
            [
             0,
             "#0d0887"
            ],
            [
             0.1111111111111111,
             "#46039f"
            ],
            [
             0.2222222222222222,
             "#7201a8"
            ],
            [
             0.3333333333333333,
             "#9c179e"
            ],
            [
             0.4444444444444444,
             "#bd3786"
            ],
            [
             0.5555555555555556,
             "#d8576b"
            ],
            [
             0.6666666666666666,
             "#ed7953"
            ],
            [
             0.7777777777777778,
             "#fb9f3a"
            ],
            [
             0.8888888888888888,
             "#fdca26"
            ],
            [
             1,
             "#f0f921"
            ]
           ]
          },
          "colorway": [
           "#636efa",
           "#EF553B",
           "#00cc96",
           "#ab63fa",
           "#FFA15A",
           "#19d3f3",
           "#FF6692",
           "#B6E880",
           "#FF97FF",
           "#FECB52"
          ],
          "font": {
           "color": "#2a3f5f"
          },
          "geo": {
           "bgcolor": "white",
           "lakecolor": "white",
           "landcolor": "#E5ECF6",
           "showlakes": true,
           "showland": true,
           "subunitcolor": "white"
          },
          "hoverlabel": {
           "align": "left"
          },
          "hovermode": "closest",
          "mapbox": {
           "style": "light"
          },
          "paper_bgcolor": "white",
          "plot_bgcolor": "#E5ECF6",
          "polar": {
           "angularaxis": {
            "gridcolor": "white",
            "linecolor": "white",
            "ticks": ""
           },
           "bgcolor": "#E5ECF6",
           "radialaxis": {
            "gridcolor": "white",
            "linecolor": "white",
            "ticks": ""
           }
          },
          "scene": {
           "xaxis": {
            "backgroundcolor": "#E5ECF6",
            "gridcolor": "white",
            "gridwidth": 2,
            "linecolor": "white",
            "showbackground": true,
            "ticks": "",
            "zerolinecolor": "white"
           },
           "yaxis": {
            "backgroundcolor": "#E5ECF6",
            "gridcolor": "white",
            "gridwidth": 2,
            "linecolor": "white",
            "showbackground": true,
            "ticks": "",
            "zerolinecolor": "white"
           },
           "zaxis": {
            "backgroundcolor": "#E5ECF6",
            "gridcolor": "white",
            "gridwidth": 2,
            "linecolor": "white",
            "showbackground": true,
            "ticks": "",
            "zerolinecolor": "white"
           }
          },
          "shapedefaults": {
           "line": {
            "color": "#2a3f5f"
           }
          },
          "ternary": {
           "aaxis": {
            "gridcolor": "white",
            "linecolor": "white",
            "ticks": ""
           },
           "baxis": {
            "gridcolor": "white",
            "linecolor": "white",
            "ticks": ""
           },
           "bgcolor": "#E5ECF6",
           "caxis": {
            "gridcolor": "white",
            "linecolor": "white",
            "ticks": ""
           }
          },
          "title": {
           "x": 0.05
          },
          "xaxis": {
           "automargin": true,
           "gridcolor": "white",
           "linecolor": "white",
           "ticks": "",
           "title": {
            "standoff": 15
           },
           "zerolinecolor": "white",
           "zerolinewidth": 2
          },
          "yaxis": {
           "automargin": true,
           "gridcolor": "white",
           "linecolor": "white",
           "ticks": "",
           "title": {
            "standoff": 15
           },
           "zerolinecolor": "white",
           "zerolinewidth": 2
          }
         }
        },
        "title": {
         "text": "Distribution of Total ESG Level"
        }
       }
      }
     },
     "metadata": {},
     "output_type": "display_data"
    }
   ],
   "source": [
    "#EDA on df1\n",
    "import plotly.express as px\n",
    "import matplotlib as plt\n",
    "import pandas as pd\n",
    "\n",
    "industry_counts = df1['total_level'].value_counts().reset_index()\n",
    "industry_counts.columns = ['total_level', 'count']\n",
    "fig = px.pie(industry_counts, names='total_level', values='count', title='Distribution of Total ESG Level')\n",
    "fig.show()\n"
   ]
  },
  {
   "cell_type": "code",
   "execution_count": 4,
   "metadata": {},
   "outputs": [
    {
     "data": {
      "application/vnd.plotly.v1+json": {
       "config": {
        "plotlyServerURL": "https://plot.ly"
       },
       "data": [
        {
         "bingroup": "x",
         "hovertemplate": "Total Grade=BBB<br>Total Score=%{x}<br>count=%{y}<extra></extra>",
         "legendgroup": "BBB",
         "marker": {
          "color": "#636efa",
          "line": {
           "color": "black",
           "width": 0.5
          },
          "pattern": {
           "shape": ""
          }
         },
         "name": "BBB",
         "nbinsx": 20,
         "orientation": "v",
         "showlegend": true,
         "type": "histogram",
         "x": {
          "bdata": "ewQsBJMEHASaBP8DqAPoA2kEZwQ5BMcDnwSFA7kDyANMBJEE6ANYBKkDTARMBDIE1gM0BLADfAShAycETwReBD4EeQRqBIkETgS4A1YEBgRMBFIEGgTqA3YEjAR2BL0DfwQXBJYETwRMBI0ELAR5BEwEdARmBDwEUwRgBPQDTAR+BGcEhwRMBLEDiARbBGUEdwRVBJIEcwRMBOgDlwToA/EDeASDBH4EiARxBIQEqwQ2BH4EQAR5BOED6ANMBIcDTAToA3QEgQSpAw0EYgRgBGUE3QOcBKAEHgQ1BJ4EfwQaBJsEywNzBJAEbwQ1BBkESgRcBGgEwQNMBKQEawQBBK0EmAR+BF4E6ANlBGQEXwSJBMkDgQR2BJMEWwR4BG8EcASQBKIElQSKBEwETARwBI8EIgRZBH4EcgRMBGcE6ANMBJAEYAR8BJoEJwQVBIUETQSKA1MEqwNWBAMEzwNMBIQENgSKBE8ENgRrBF8ESwR0BDMEHARRBK4DWwRMBGoEkgQrBGsEiQQ+BFwEswOABCUEVgRABEwETARFBEwEcwTzA+gDTASHBLkDQgSnBFIEngRMBKUEJwRMBEwETQSXBLoDagSgBJUEiASaBKIEkgSFBGgEqgRDBGEEKwRMBHEEagSoBGoEdAR1BGsEegRgBIUDogSfA4MEUwRFBEIE7QOUA2EEnQToA0wEggSdBFgE7wOBBFcE1AOFBOMDTAQSBD4EoAOsA1oE9ANyBN0DbARnBJMEjARrBJwEPgSNBFgETwSCBK0EegRgBIwDKQRIBJYDlQSXBHQEqAQmBIgEbQQOBDsEbQTNA7UDgARjBI4E6ANMBOYDlQRWBLYDDwRABJoD5AOvBJoEpQNnBO0DUgRnBDkEyAOrBKMDrQOSAyEEngR2BKUERwRNBI0EJAT+A1AElwOQA98DVQS7A3oErAP6A6cD9wO+AwkEZwTzA6IDcQShA3QEIAS3A3IETARpBA==",
          "dtype": "i2"
         },
         "xaxis": "x",
         "yaxis": "y"
        },
        {
         "bingroup": "x",
         "hovertemplate": "Total Grade=BB<br>Total Score=%{x}<br>count=%{y}<extra></extra>",
         "legendgroup": "BB",
         "marker": {
          "color": "#EF553B",
          "line": {
           "color": "black",
           "width": 0.5
          },
          "pattern": {
           "shape": ""
          }
         },
         "name": "BB",
         "nbinsx": 20,
         "orientation": "v",
         "showlegend": true,
         "type": "histogram",
         "x": {
          "bdata": "cAMRA3sDNQOCA/0CSAMjAw0DUwNPAywDSQM4AzgDMANkAzIDVAMgAwkDTAMBA38DQwNfA/sCIQMBAzEDIAMHAwADAgNNA/gCLAN1A1QDgwMFA3sDgwNKA28DIgMqA/ACfAMUA1UDaQODA/kCBgMdAysDRgMSAzsDGANkA/ECBAN7AzwDWANGAzMDAQM7A4EDZwNhA0ID9wLzAvsC7wIAA3YDKAMBA4MD9gJtA/sCAwMpAzQD7gJRAzoDGwPvAjQDMQMCAxgD7wL6Av0CSwMzAw==",
          "dtype": "i2"
         },
         "xaxis": "x",
         "yaxis": "y"
        },
        {
         "bingroup": "x",
         "hovertemplate": "Total Grade=A<br>Total Score=%{x}<br>count=%{y}<extra></extra>",
         "legendgroup": "A",
         "marker": {
          "color": "#00cc96",
          "line": {
           "color": "black",
           "width": 0.5
          },
          "pattern": {
           "shape": ""
          }
         },
         "name": "A",
         "nbinsx": 20,
         "orientation": "v",
         "showlegend": true,
         "type": "histogram",
         "x": {
          "bdata": "5wTDBdcEtgSyBJkF2wT2BP0FwASJBSAFvwQABQEFywTNBN0EtwTFBKIFCgXnBEQFAgW0BLcEGgXIBM0E8wQOBd0E+AVOBfUEZQUHBe4E+gT0BNoEgAXQBIQF7AR0BeIEtQSBBdwEwgS5BN0EXQUaBdYEPAW0BNoEAAbCBBQFDAXuBIsFhQXrBOoE2wQPBT8FygSxBPwE6AS2BMkEuAS5BFMF2wSwBA==",
          "dtype": "i2"
         },
         "xaxis": "x",
         "yaxis": "y"
        },
        {
         "bingroup": "x",
         "hovertemplate": "Total Grade=B<br>Total Score=%{x}<br>count=%{y}<extra></extra>",
         "legendgroup": "B",
         "marker": {
          "color": "#ab63fa",
          "line": {
           "color": "black",
           "width": 0.5
          },
          "pattern": {
           "shape": ""
          }
         },
         "name": "B",
         "nbinsx": 20,
         "orientation": "v",
         "showlegend": true,
         "type": "histogram",
         "x": {
          "bdata": "YALqAuUCXQJcAsgCXgKTAukCfQLBAugC2wKLAuYCjgKRAuECowJtAsICvwLAAoMC4wJYAlgCrQJfAosCugJrAnQCvwKQAuYCoQKAAnsCeQJoAtEC6gLXApsCswLnAmACbgJvAnoCpwLeArUCpgKSApoCdgKMAo0CvQLMAnUChwJ1At8CWAJyAqcCmAK3AsUCtgJhAtYCnQKYAt8CcgJYAlkC1QJqArgCpAKSAu0CrQKlAoYCWAJYAuUCfgKQAn0CigKPAmICywKoAugC3AJ8AscCjQKHAmcCnAK6ApACYgKCAsMCogKSAmcC0gJvAusCWAJsArkC6wKyAuwCgALNArQCXwKuAtEChQKyAoECbQLhAqEC3AJ4As0CiwJYAo0CkQKUAnYC1AKbAskC6wLMAp0CaQJoAnYCegJ7AtYCbAJtAoYCWAKJAusCZwJ5Ag==",
          "dtype": "i2"
         },
         "xaxis": "x",
         "yaxis": "y"
        }
       ],
       "layout": {
        "barmode": "relative",
        "legend": {
         "orientation": "h",
         "title": {
          "text": "Grade"
         },
         "tracegroupgap": 0,
         "x": 0.5,
         "xanchor": "center",
         "y": 1.05,
         "yanchor": "bottom"
        },
        "plot_bgcolor": "rgb(245, 245, 245)",
        "template": {
         "data": {
          "bar": [
           {
            "error_x": {
             "color": "#2a3f5f"
            },
            "error_y": {
             "color": "#2a3f5f"
            },
            "marker": {
             "line": {
              "color": "#E5ECF6",
              "width": 0.5
             },
             "pattern": {
              "fillmode": "overlay",
              "size": 10,
              "solidity": 0.2
             }
            },
            "type": "bar"
           }
          ],
          "barpolar": [
           {
            "marker": {
             "line": {
              "color": "#E5ECF6",
              "width": 0.5
             },
             "pattern": {
              "fillmode": "overlay",
              "size": 10,
              "solidity": 0.2
             }
            },
            "type": "barpolar"
           }
          ],
          "carpet": [
           {
            "aaxis": {
             "endlinecolor": "#2a3f5f",
             "gridcolor": "white",
             "linecolor": "white",
             "minorgridcolor": "white",
             "startlinecolor": "#2a3f5f"
            },
            "baxis": {
             "endlinecolor": "#2a3f5f",
             "gridcolor": "white",
             "linecolor": "white",
             "minorgridcolor": "white",
             "startlinecolor": "#2a3f5f"
            },
            "type": "carpet"
           }
          ],
          "choropleth": [
           {
            "colorbar": {
             "outlinewidth": 0,
             "ticks": ""
            },
            "type": "choropleth"
           }
          ],
          "contour": [
           {
            "colorbar": {
             "outlinewidth": 0,
             "ticks": ""
            },
            "colorscale": [
             [
              0,
              "#0d0887"
             ],
             [
              0.1111111111111111,
              "#46039f"
             ],
             [
              0.2222222222222222,
              "#7201a8"
             ],
             [
              0.3333333333333333,
              "#9c179e"
             ],
             [
              0.4444444444444444,
              "#bd3786"
             ],
             [
              0.5555555555555556,
              "#d8576b"
             ],
             [
              0.6666666666666666,
              "#ed7953"
             ],
             [
              0.7777777777777778,
              "#fb9f3a"
             ],
             [
              0.8888888888888888,
              "#fdca26"
             ],
             [
              1,
              "#f0f921"
             ]
            ],
            "type": "contour"
           }
          ],
          "contourcarpet": [
           {
            "colorbar": {
             "outlinewidth": 0,
             "ticks": ""
            },
            "type": "contourcarpet"
           }
          ],
          "heatmap": [
           {
            "colorbar": {
             "outlinewidth": 0,
             "ticks": ""
            },
            "colorscale": [
             [
              0,
              "#0d0887"
             ],
             [
              0.1111111111111111,
              "#46039f"
             ],
             [
              0.2222222222222222,
              "#7201a8"
             ],
             [
              0.3333333333333333,
              "#9c179e"
             ],
             [
              0.4444444444444444,
              "#bd3786"
             ],
             [
              0.5555555555555556,
              "#d8576b"
             ],
             [
              0.6666666666666666,
              "#ed7953"
             ],
             [
              0.7777777777777778,
              "#fb9f3a"
             ],
             [
              0.8888888888888888,
              "#fdca26"
             ],
             [
              1,
              "#f0f921"
             ]
            ],
            "type": "heatmap"
           }
          ],
          "histogram": [
           {
            "marker": {
             "pattern": {
              "fillmode": "overlay",
              "size": 10,
              "solidity": 0.2
             }
            },
            "type": "histogram"
           }
          ],
          "histogram2d": [
           {
            "colorbar": {
             "outlinewidth": 0,
             "ticks": ""
            },
            "colorscale": [
             [
              0,
              "#0d0887"
             ],
             [
              0.1111111111111111,
              "#46039f"
             ],
             [
              0.2222222222222222,
              "#7201a8"
             ],
             [
              0.3333333333333333,
              "#9c179e"
             ],
             [
              0.4444444444444444,
              "#bd3786"
             ],
             [
              0.5555555555555556,
              "#d8576b"
             ],
             [
              0.6666666666666666,
              "#ed7953"
             ],
             [
              0.7777777777777778,
              "#fb9f3a"
             ],
             [
              0.8888888888888888,
              "#fdca26"
             ],
             [
              1,
              "#f0f921"
             ]
            ],
            "type": "histogram2d"
           }
          ],
          "histogram2dcontour": [
           {
            "colorbar": {
             "outlinewidth": 0,
             "ticks": ""
            },
            "colorscale": [
             [
              0,
              "#0d0887"
             ],
             [
              0.1111111111111111,
              "#46039f"
             ],
             [
              0.2222222222222222,
              "#7201a8"
             ],
             [
              0.3333333333333333,
              "#9c179e"
             ],
             [
              0.4444444444444444,
              "#bd3786"
             ],
             [
              0.5555555555555556,
              "#d8576b"
             ],
             [
              0.6666666666666666,
              "#ed7953"
             ],
             [
              0.7777777777777778,
              "#fb9f3a"
             ],
             [
              0.8888888888888888,
              "#fdca26"
             ],
             [
              1,
              "#f0f921"
             ]
            ],
            "type": "histogram2dcontour"
           }
          ],
          "mesh3d": [
           {
            "colorbar": {
             "outlinewidth": 0,
             "ticks": ""
            },
            "type": "mesh3d"
           }
          ],
          "parcoords": [
           {
            "line": {
             "colorbar": {
              "outlinewidth": 0,
              "ticks": ""
             }
            },
            "type": "parcoords"
           }
          ],
          "pie": [
           {
            "automargin": true,
            "type": "pie"
           }
          ],
          "scatter": [
           {
            "fillpattern": {
             "fillmode": "overlay",
             "size": 10,
             "solidity": 0.2
            },
            "type": "scatter"
           }
          ],
          "scatter3d": [
           {
            "line": {
             "colorbar": {
              "outlinewidth": 0,
              "ticks": ""
             }
            },
            "marker": {
             "colorbar": {
              "outlinewidth": 0,
              "ticks": ""
             }
            },
            "type": "scatter3d"
           }
          ],
          "scattercarpet": [
           {
            "marker": {
             "colorbar": {
              "outlinewidth": 0,
              "ticks": ""
             }
            },
            "type": "scattercarpet"
           }
          ],
          "scattergeo": [
           {
            "marker": {
             "colorbar": {
              "outlinewidth": 0,
              "ticks": ""
             }
            },
            "type": "scattergeo"
           }
          ],
          "scattergl": [
           {
            "marker": {
             "colorbar": {
              "outlinewidth": 0,
              "ticks": ""
             }
            },
            "type": "scattergl"
           }
          ],
          "scattermap": [
           {
            "marker": {
             "colorbar": {
              "outlinewidth": 0,
              "ticks": ""
             }
            },
            "type": "scattermap"
           }
          ],
          "scattermapbox": [
           {
            "marker": {
             "colorbar": {
              "outlinewidth": 0,
              "ticks": ""
             }
            },
            "type": "scattermapbox"
           }
          ],
          "scatterpolar": [
           {
            "marker": {
             "colorbar": {
              "outlinewidth": 0,
              "ticks": ""
             }
            },
            "type": "scatterpolar"
           }
          ],
          "scatterpolargl": [
           {
            "marker": {
             "colorbar": {
              "outlinewidth": 0,
              "ticks": ""
             }
            },
            "type": "scatterpolargl"
           }
          ],
          "scatterternary": [
           {
            "marker": {
             "colorbar": {
              "outlinewidth": 0,
              "ticks": ""
             }
            },
            "type": "scatterternary"
           }
          ],
          "surface": [
           {
            "colorbar": {
             "outlinewidth": 0,
             "ticks": ""
            },
            "colorscale": [
             [
              0,
              "#0d0887"
             ],
             [
              0.1111111111111111,
              "#46039f"
             ],
             [
              0.2222222222222222,
              "#7201a8"
             ],
             [
              0.3333333333333333,
              "#9c179e"
             ],
             [
              0.4444444444444444,
              "#bd3786"
             ],
             [
              0.5555555555555556,
              "#d8576b"
             ],
             [
              0.6666666666666666,
              "#ed7953"
             ],
             [
              0.7777777777777778,
              "#fb9f3a"
             ],
             [
              0.8888888888888888,
              "#fdca26"
             ],
             [
              1,
              "#f0f921"
             ]
            ],
            "type": "surface"
           }
          ],
          "table": [
           {
            "cells": {
             "fill": {
              "color": "#EBF0F8"
             },
             "line": {
              "color": "white"
             }
            },
            "header": {
             "fill": {
              "color": "#C8D4E3"
             },
             "line": {
              "color": "white"
             }
            },
            "type": "table"
           }
          ]
         },
         "layout": {
          "annotationdefaults": {
           "arrowcolor": "#2a3f5f",
           "arrowhead": 0,
           "arrowwidth": 1
          },
          "autotypenumbers": "strict",
          "coloraxis": {
           "colorbar": {
            "outlinewidth": 0,
            "ticks": ""
           }
          },
          "colorscale": {
           "diverging": [
            [
             0,
             "#8e0152"
            ],
            [
             0.1,
             "#c51b7d"
            ],
            [
             0.2,
             "#de77ae"
            ],
            [
             0.3,
             "#f1b6da"
            ],
            [
             0.4,
             "#fde0ef"
            ],
            [
             0.5,
             "#f7f7f7"
            ],
            [
             0.6,
             "#e6f5d0"
            ],
            [
             0.7,
             "#b8e186"
            ],
            [
             0.8,
             "#7fbc41"
            ],
            [
             0.9,
             "#4d9221"
            ],
            [
             1,
             "#276419"
            ]
           ],
           "sequential": [
            [
             0,
             "#0d0887"
            ],
            [
             0.1111111111111111,
             "#46039f"
            ],
            [
             0.2222222222222222,
             "#7201a8"
            ],
            [
             0.3333333333333333,
             "#9c179e"
            ],
            [
             0.4444444444444444,
             "#bd3786"
            ],
            [
             0.5555555555555556,
             "#d8576b"
            ],
            [
             0.6666666666666666,
             "#ed7953"
            ],
            [
             0.7777777777777778,
             "#fb9f3a"
            ],
            [
             0.8888888888888888,
             "#fdca26"
            ],
            [
             1,
             "#f0f921"
            ]
           ],
           "sequentialminus": [
            [
             0,
             "#0d0887"
            ],
            [
             0.1111111111111111,
             "#46039f"
            ],
            [
             0.2222222222222222,
             "#7201a8"
            ],
            [
             0.3333333333333333,
             "#9c179e"
            ],
            [
             0.4444444444444444,
             "#bd3786"
            ],
            [
             0.5555555555555556,
             "#d8576b"
            ],
            [
             0.6666666666666666,
             "#ed7953"
            ],
            [
             0.7777777777777778,
             "#fb9f3a"
            ],
            [
             0.8888888888888888,
             "#fdca26"
            ],
            [
             1,
             "#f0f921"
            ]
           ]
          },
          "colorway": [
           "#636efa",
           "#EF553B",
           "#00cc96",
           "#ab63fa",
           "#FFA15A",
           "#19d3f3",
           "#FF6692",
           "#B6E880",
           "#FF97FF",
           "#FECB52"
          ],
          "font": {
           "color": "#2a3f5f"
          },
          "geo": {
           "bgcolor": "white",
           "lakecolor": "white",
           "landcolor": "#E5ECF6",
           "showlakes": true,
           "showland": true,
           "subunitcolor": "white"
          },
          "hoverlabel": {
           "align": "left"
          },
          "hovermode": "closest",
          "mapbox": {
           "style": "light"
          },
          "paper_bgcolor": "white",
          "plot_bgcolor": "#E5ECF6",
          "polar": {
           "angularaxis": {
            "gridcolor": "white",
            "linecolor": "white",
            "ticks": ""
           },
           "bgcolor": "#E5ECF6",
           "radialaxis": {
            "gridcolor": "white",
            "linecolor": "white",
            "ticks": ""
           }
          },
          "scene": {
           "xaxis": {
            "backgroundcolor": "#E5ECF6",
            "gridcolor": "white",
            "gridwidth": 2,
            "linecolor": "white",
            "showbackground": true,
            "ticks": "",
            "zerolinecolor": "white"
           },
           "yaxis": {
            "backgroundcolor": "#E5ECF6",
            "gridcolor": "white",
            "gridwidth": 2,
            "linecolor": "white",
            "showbackground": true,
            "ticks": "",
            "zerolinecolor": "white"
           },
           "zaxis": {
            "backgroundcolor": "#E5ECF6",
            "gridcolor": "white",
            "gridwidth": 2,
            "linecolor": "white",
            "showbackground": true,
            "ticks": "",
            "zerolinecolor": "white"
           }
          },
          "shapedefaults": {
           "line": {
            "color": "#2a3f5f"
           }
          },
          "ternary": {
           "aaxis": {
            "gridcolor": "white",
            "linecolor": "white",
            "ticks": ""
           },
           "baxis": {
            "gridcolor": "white",
            "linecolor": "white",
            "ticks": ""
           },
           "bgcolor": "#E5ECF6",
           "caxis": {
            "gridcolor": "white",
            "linecolor": "white",
            "ticks": ""
           }
          },
          "title": {
           "x": 0.05
          },
          "xaxis": {
           "automargin": true,
           "gridcolor": "white",
           "linecolor": "white",
           "ticks": "",
           "title": {
            "standoff": 15
           },
           "zerolinecolor": "white",
           "zerolinewidth": 2
          },
          "yaxis": {
           "automargin": true,
           "gridcolor": "white",
           "linecolor": "white",
           "ticks": "",
           "title": {
            "standoff": 15
           },
           "zerolinecolor": "white",
           "zerolinewidth": 2
          }
         }
        },
        "title": {
         "text": "Distribution of Total Scores by Grade"
        },
        "xaxis": {
         "anchor": "y",
         "domain": [
          0,
          1
         ],
         "title": {
          "text": "Total Score"
         }
        },
        "yaxis": {
         "anchor": "x",
         "domain": [
          0,
          1
         ],
         "title": {
          "text": "Frequency"
         }
        }
       }
      }
     },
     "metadata": {},
     "output_type": "display_data"
    }
   ],
   "source": [
    "import plotly.express as px\n",
    "\n",
    "# Scatter plot: total_score vs total_grade, with point size following the total_score\n",
    "import plotly.express as px\n",
    "\n",
    "# Create a faceted histogram of total_score by total_grade\n",
    "fig = px.histogram(df1, x='total_score', color='total_grade', \n",
    "                   title='Distribution of Total Scores by Grade',\n",
    "                   labels={'total_score': 'Total Score', 'total_grade': 'Total Grade'},\n",
    "                   nbins=20, \n",
    "                   )  \n",
    "\n",
    "fig.update_layout(\n",
    "    plot_bgcolor = 'rgb(245, 245, 245)',\n",
    "    yaxis_title = 'Frequency',\n",
    "    legend=dict(\n",
    "        orientation='h',  # Horizontal legend\n",
    "        yanchor='bottom',  # Anchor legend to the bottom\n",
    "        y=1.05,  # Position it slightly above the plot area\n",
    "        xanchor='center',  # Center the legend horizontally\n",
    "        x=0.5,  # Center the legend horizontally\n",
    "        title = 'Grade'\n",
    "    )\n",
    ")\n",
    "\n",
    "fig.update_traces(marker=dict(line=dict(color='black', width=0.5)))  \n",
    "\n",
    "# Show the plot\n",
    "fig.show()\n"
   ]
  },
  {
   "cell_type": "code",
   "execution_count": 12,
   "metadata": {},
   "outputs": [
    {
     "name": "stdout",
     "output_type": "stream",
     "text": [
      "<class 'pandas.core.frame.DataFrame'>\n",
      "Index: 430 entries, 1 to 502\n",
      "Data columns (total 15 columns):\n",
      " #   Column                  Non-Null Count  Dtype  \n",
      "---  ------                  --------------  -----  \n",
      " 0   Symbol                  430 non-null    object \n",
      " 1   Name                    430 non-null    object \n",
      " 2   Address                 430 non-null    object \n",
      " 3   Sector                  430 non-null    object \n",
      " 4   Industry                430 non-null    object \n",
      " 5   Full Time Employees     426 non-null    object \n",
      " 6   Description             430 non-null    object \n",
      " 7   Total ESG Risk score    430 non-null    float64\n",
      " 8   Environment Risk Score  430 non-null    float64\n",
      " 9   Governance Risk Score   430 non-null    float64\n",
      " 10  Social Risk Score       430 non-null    float64\n",
      " 11  Controversy Level       430 non-null    object \n",
      " 12  Controversy Score       403 non-null    float64\n",
      " 13  ESG Risk Percentile     430 non-null    object \n",
      " 14  ESG Risk Level          430 non-null    object \n",
      "dtypes: float64(5), object(10)\n",
      "memory usage: 53.8+ KB\n",
      "None\n",
      "                    column    dtype  instances  unique  sum_null\n",
      "0                   Symbol   object        430     430         0\n",
      "1                     Name   object        430     430         0\n",
      "2                  Address   object        430     430         0\n",
      "3                   Sector   object        430      11         0\n",
      "4                 Industry   object        430     110         0\n",
      "5      Full Time Employees   object        430     346         0\n",
      "6              Description   object        430     430         0\n",
      "7     Total ESG Risk score  float64        430     213         0\n",
      "8   Environment Risk Score  float64        430     146         0\n",
      "9    Governance Risk Score  float64        430      91         0\n",
      "10       Social Risk Score  float64        430     145         0\n",
      "11       Controversy Level   object        430       6         0\n",
      "12       Controversy Score   object        430       6         0\n",
      "13     ESG Risk Percentile   object        430      89         0\n",
      "14          ESG Risk Level   object        430       5         0\n"
     ]
    }
   ],
   "source": [
    "#Clean 2nd Dataset First\n",
    "import plotly.express as px\n",
    "import plotly.graph_objects as go\n",
    "\n",
    "df2_cleaned = df2.dropna(subset = ['Sector', 'Total ESG Risk score'])\n",
    "print(df2_cleaned.info())\n",
    "\n",
    "\n",
    "def inspect_data(data):\n",
    "    return pd.DataFrame(\n",
    "        {\n",
    "        \"column\": data.columns,\n",
    "        \"dtype\": data.dtypes.values,\n",
    "        \"instances\": data.count().values,\n",
    "        \"unique\": data.nunique().values,\n",
    "        \"sum_null\": data.isnull().sum().values,\n",
    "        }\n",
    "    )\n",
    "df2_cleaned = df2_cleaned.fillna(\"NA\")\n",
    "\n",
    "df2_info = inspect_data(df2_cleaned)\n",
    "print(df2_info)\n",
    "\n",
    "\n",
    "\n",
    "# from dash import Dash, dcc, html\n",
    "# import dash_ag_grid as dag\n",
    "\n",
    "# app = Dash(__name__)\n",
    "\n",
    "\n",
    "\n",
    "# app.layout = html.Div([\n",
    "#     dag.AgGrid(\n",
    "#         id=\"table\",\n",
    "#         rowData=df.to_dict(\"records\"),\n",
    "#         columnDefs=column_defs,\n",
    "#     )\n",
    "# ])\n",
    "\n",
    "# if __name__ == \"__main__\":\n",
    "#     app.run_server(debug=True)\n",
    "\n"
   ]
  },
  {
   "cell_type": "code",
   "execution_count": 130,
   "metadata": {},
   "outputs": [
    {
     "data": {
      "application/vnd.plotly.v1+json": {
       "config": {
        "plotlyServerURL": "https://plot.ly"
       },
       "data": [
        {
         "bingroup": "x",
         "hovertemplate": "ESG Score=%{x}<br>count=%{y}<extra></extra>",
         "legendgroup": "",
         "marker": {
          "color": "#89ac46",
          "line": {
           "color": "grey",
           "width": 0.5
          },
          "opacity": 0.7,
          "pattern": {
           "shape": ""
          }
         },
         "name": "",
         "nbinsx": 25,
         "orientation": "v",
         "showlegend": false,
         "type": "histogram",
         "x": {
          "bdata": "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",
          "dtype": "f8"
         },
         "xaxis": "x",
         "yaxis": "y"
        },
        {
         "line": {
          "color": "#89ac46",
          "dash": "solid",
          "width": 2
         },
         "marker": {
          "line": {
           "color": "grey",
           "width": 0.5
          }
         },
         "mode": "lines",
         "name": "Total ESG Risk score KDE",
         "showlegend": false,
         "type": "scatter",
         "x": {
          "bdata": "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",
          "dtype": "f8"
         },
         "y": {
          "bdata": "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",
          "dtype": "f8"
         },
         "yaxis": "y2"
        }
       ],
       "layout": {
        "annotations": [
         {
          "showarrow": false,
          "text": "Mean: 21.53",
          "x": 21.53372093023256,
          "xanchor": "left",
          "xref": "x",
          "y": 1,
          "yanchor": "top",
          "yref": "y domain"
         },
         {
          "showarrow": false,
          "text": "Median: 21.05",
          "x": 21.05,
          "xanchor": "right",
          "xref": "x",
          "y": 0,
          "yanchor": "bottom",
          "yref": "y domain"
         }
        ],
        "barmode": "relative",
        "font": {
         "color": "black",
         "family": "Arial",
         "size": 12
        },
        "height": 500,
        "legend": {
         "tracegroupgap": 0
        },
        "shapes": [
         {
          "line": {
           "color": "red",
           "dash": "dash",
           "width": 2
          },
          "type": "line",
          "x0": 21.53372093023256,
          "x1": 21.53372093023256,
          "xref": "x",
          "y0": 0,
          "y1": 1,
          "yref": "y domain"
         },
         {
          "line": {
           "color": "blue",
           "dash": "dot",
           "width": 2
          },
          "type": "line",
          "x0": 21.05,
          "x1": 21.05,
          "xref": "x",
          "y0": 0,
          "y1": 1,
          "yref": "y domain"
         }
        ],
        "showlegend": false,
        "template": {
         "data": {
          "bar": [
           {
            "error_x": {
             "color": "#2a3f5f"
            },
            "error_y": {
             "color": "#2a3f5f"
            },
            "marker": {
             "line": {
              "color": "#E5ECF6",
              "width": 0.5
             },
             "pattern": {
              "fillmode": "overlay",
              "size": 10,
              "solidity": 0.2
             }
            },
            "type": "bar"
           }
          ],
          "barpolar": [
           {
            "marker": {
             "line": {
              "color": "#E5ECF6",
              "width": 0.5
             },
             "pattern": {
              "fillmode": "overlay",
              "size": 10,
              "solidity": 0.2
             }
            },
            "type": "barpolar"
           }
          ],
          "carpet": [
           {
            "aaxis": {
             "endlinecolor": "#2a3f5f",
             "gridcolor": "white",
             "linecolor": "white",
             "minorgridcolor": "white",
             "startlinecolor": "#2a3f5f"
            },
            "baxis": {
             "endlinecolor": "#2a3f5f",
             "gridcolor": "white",
             "linecolor": "white",
             "minorgridcolor": "white",
             "startlinecolor": "#2a3f5f"
            },
            "type": "carpet"
           }
          ],
          "choropleth": [
           {
            "colorbar": {
             "outlinewidth": 0,
             "ticks": ""
            },
            "type": "choropleth"
           }
          ],
          "contour": [
           {
            "colorbar": {
             "outlinewidth": 0,
             "ticks": ""
            },
            "colorscale": [
             [
              0,
              "#0d0887"
             ],
             [
              0.1111111111111111,
              "#46039f"
             ],
             [
              0.2222222222222222,
              "#7201a8"
             ],
             [
              0.3333333333333333,
              "#9c179e"
             ],
             [
              0.4444444444444444,
              "#bd3786"
             ],
             [
              0.5555555555555556,
              "#d8576b"
             ],
             [
              0.6666666666666666,
              "#ed7953"
             ],
             [
              0.7777777777777778,
              "#fb9f3a"
             ],
             [
              0.8888888888888888,
              "#fdca26"
             ],
             [
              1,
              "#f0f921"
             ]
            ],
            "type": "contour"
           }
          ],
          "contourcarpet": [
           {
            "colorbar": {
             "outlinewidth": 0,
             "ticks": ""
            },
            "type": "contourcarpet"
           }
          ],
          "heatmap": [
           {
            "colorbar": {
             "outlinewidth": 0,
             "ticks": ""
            },
            "colorscale": [
             [
              0,
              "#0d0887"
             ],
             [
              0.1111111111111111,
              "#46039f"
             ],
             [
              0.2222222222222222,
              "#7201a8"
             ],
             [
              0.3333333333333333,
              "#9c179e"
             ],
             [
              0.4444444444444444,
              "#bd3786"
             ],
             [
              0.5555555555555556,
              "#d8576b"
             ],
             [
              0.6666666666666666,
              "#ed7953"
             ],
             [
              0.7777777777777778,
              "#fb9f3a"
             ],
             [
              0.8888888888888888,
              "#fdca26"
             ],
             [
              1,
              "#f0f921"
             ]
            ],
            "type": "heatmap"
           }
          ],
          "histogram": [
           {
            "marker": {
             "pattern": {
              "fillmode": "overlay",
              "size": 10,
              "solidity": 0.2
             }
            },
            "type": "histogram"
           }
          ],
          "histogram2d": [
           {
            "colorbar": {
             "outlinewidth": 0,
             "ticks": ""
            },
            "colorscale": [
             [
              0,
              "#0d0887"
             ],
             [
              0.1111111111111111,
              "#46039f"
             ],
             [
              0.2222222222222222,
              "#7201a8"
             ],
             [
              0.3333333333333333,
              "#9c179e"
             ],
             [
              0.4444444444444444,
              "#bd3786"
             ],
             [
              0.5555555555555556,
              "#d8576b"
             ],
             [
              0.6666666666666666,
              "#ed7953"
             ],
             [
              0.7777777777777778,
              "#fb9f3a"
             ],
             [
              0.8888888888888888,
              "#fdca26"
             ],
             [
              1,
              "#f0f921"
             ]
            ],
            "type": "histogram2d"
           }
          ],
          "histogram2dcontour": [
           {
            "colorbar": {
             "outlinewidth": 0,
             "ticks": ""
            },
            "colorscale": [
             [
              0,
              "#0d0887"
             ],
             [
              0.1111111111111111,
              "#46039f"
             ],
             [
              0.2222222222222222,
              "#7201a8"
             ],
             [
              0.3333333333333333,
              "#9c179e"
             ],
             [
              0.4444444444444444,
              "#bd3786"
             ],
             [
              0.5555555555555556,
              "#d8576b"
             ],
             [
              0.6666666666666666,
              "#ed7953"
             ],
             [
              0.7777777777777778,
              "#fb9f3a"
             ],
             [
              0.8888888888888888,
              "#fdca26"
             ],
             [
              1,
              "#f0f921"
             ]
            ],
            "type": "histogram2dcontour"
           }
          ],
          "mesh3d": [
           {
            "colorbar": {
             "outlinewidth": 0,
             "ticks": ""
            },
            "type": "mesh3d"
           }
          ],
          "parcoords": [
           {
            "line": {
             "colorbar": {
              "outlinewidth": 0,
              "ticks": ""
             }
            },
            "type": "parcoords"
           }
          ],
          "pie": [
           {
            "automargin": true,
            "type": "pie"
           }
          ],
          "scatter": [
           {
            "fillpattern": {
             "fillmode": "overlay",
             "size": 10,
             "solidity": 0.2
            },
            "type": "scatter"
           }
          ],
          "scatter3d": [
           {
            "line": {
             "colorbar": {
              "outlinewidth": 0,
              "ticks": ""
             }
            },
            "marker": {
             "colorbar": {
              "outlinewidth": 0,
              "ticks": ""
             }
            },
            "type": "scatter3d"
           }
          ],
          "scattercarpet": [
           {
            "marker": {
             "colorbar": {
              "outlinewidth": 0,
              "ticks": ""
             }
            },
            "type": "scattercarpet"
           }
          ],
          "scattergeo": [
           {
            "marker": {
             "colorbar": {
              "outlinewidth": 0,
              "ticks": ""
             }
            },
            "type": "scattergeo"
           }
          ],
          "scattergl": [
           {
            "marker": {
             "colorbar": {
              "outlinewidth": 0,
              "ticks": ""
             }
            },
            "type": "scattergl"
           }
          ],
          "scattermap": [
           {
            "marker": {
             "colorbar": {
              "outlinewidth": 0,
              "ticks": ""
             }
            },
            "type": "scattermap"
           }
          ],
          "scattermapbox": [
           {
            "marker": {
             "colorbar": {
              "outlinewidth": 0,
              "ticks": ""
             }
            },
            "type": "scattermapbox"
           }
          ],
          "scatterpolar": [
           {
            "marker": {
             "colorbar": {
              "outlinewidth": 0,
              "ticks": ""
             }
            },
            "type": "scatterpolar"
           }
          ],
          "scatterpolargl": [
           {
            "marker": {
             "colorbar": {
              "outlinewidth": 0,
              "ticks": ""
             }
            },
            "type": "scatterpolargl"
           }
          ],
          "scatterternary": [
           {
            "marker": {
             "colorbar": {
              "outlinewidth": 0,
              "ticks": ""
             }
            },
            "type": "scatterternary"
           }
          ],
          "surface": [
           {
            "colorbar": {
             "outlinewidth": 0,
             "ticks": ""
            },
            "colorscale": [
             [
              0,
              "#0d0887"
             ],
             [
              0.1111111111111111,
              "#46039f"
             ],
             [
              0.2222222222222222,
              "#7201a8"
             ],
             [
              0.3333333333333333,
              "#9c179e"
             ],
             [
              0.4444444444444444,
              "#bd3786"
             ],
             [
              0.5555555555555556,
              "#d8576b"
             ],
             [
              0.6666666666666666,
              "#ed7953"
             ],
             [
              0.7777777777777778,
              "#fb9f3a"
             ],
             [
              0.8888888888888888,
              "#fdca26"
             ],
             [
              1,
              "#f0f921"
             ]
            ],
            "type": "surface"
           }
          ],
          "table": [
           {
            "cells": {
             "fill": {
              "color": "#EBF0F8"
             },
             "line": {
              "color": "white"
             }
            },
            "header": {
             "fill": {
              "color": "#C8D4E3"
             },
             "line": {
              "color": "white"
             }
            },
            "type": "table"
           }
          ]
         },
         "layout": {
          "annotationdefaults": {
           "arrowcolor": "#2a3f5f",
           "arrowhead": 0,
           "arrowwidth": 1
          },
          "autotypenumbers": "strict",
          "coloraxis": {
           "colorbar": {
            "outlinewidth": 0,
            "ticks": ""
           }
          },
          "colorscale": {
           "diverging": [
            [
             0,
             "#8e0152"
            ],
            [
             0.1,
             "#c51b7d"
            ],
            [
             0.2,
             "#de77ae"
            ],
            [
             0.3,
             "#f1b6da"
            ],
            [
             0.4,
             "#fde0ef"
            ],
            [
             0.5,
             "#f7f7f7"
            ],
            [
             0.6,
             "#e6f5d0"
            ],
            [
             0.7,
             "#b8e186"
            ],
            [
             0.8,
             "#7fbc41"
            ],
            [
             0.9,
             "#4d9221"
            ],
            [
             1,
             "#276419"
            ]
           ],
           "sequential": [
            [
             0,
             "#0d0887"
            ],
            [
             0.1111111111111111,
             "#46039f"
            ],
            [
             0.2222222222222222,
             "#7201a8"
            ],
            [
             0.3333333333333333,
             "#9c179e"
            ],
            [
             0.4444444444444444,
             "#bd3786"
            ],
            [
             0.5555555555555556,
             "#d8576b"
            ],
            [
             0.6666666666666666,
             "#ed7953"
            ],
            [
             0.7777777777777778,
             "#fb9f3a"
            ],
            [
             0.8888888888888888,
             "#fdca26"
            ],
            [
             1,
             "#f0f921"
            ]
           ],
           "sequentialminus": [
            [
             0,
             "#0d0887"
            ],
            [
             0.1111111111111111,
             "#46039f"
            ],
            [
             0.2222222222222222,
             "#7201a8"
            ],
            [
             0.3333333333333333,
             "#9c179e"
            ],
            [
             0.4444444444444444,
             "#bd3786"
            ],
            [
             0.5555555555555556,
             "#d8576b"
            ],
            [
             0.6666666666666666,
             "#ed7953"
            ],
            [
             0.7777777777777778,
             "#fb9f3a"
            ],
            [
             0.8888888888888888,
             "#fdca26"
            ],
            [
             1,
             "#f0f921"
            ]
           ]
          },
          "colorway": [
           "#636efa",
           "#EF553B",
           "#00cc96",
           "#ab63fa",
           "#FFA15A",
           "#19d3f3",
           "#FF6692",
           "#B6E880",
           "#FF97FF",
           "#FECB52"
          ],
          "font": {
           "color": "#2a3f5f"
          },
          "geo": {
           "bgcolor": "white",
           "lakecolor": "white",
           "landcolor": "#E5ECF6",
           "showlakes": true,
           "showland": true,
           "subunitcolor": "white"
          },
          "hoverlabel": {
           "align": "left"
          },
          "hovermode": "closest",
          "mapbox": {
           "style": "light"
          },
          "paper_bgcolor": "white",
          "plot_bgcolor": "#E5ECF6",
          "polar": {
           "angularaxis": {
            "gridcolor": "white",
            "linecolor": "white",
            "ticks": ""
           },
           "bgcolor": "#E5ECF6",
           "radialaxis": {
            "gridcolor": "white",
            "linecolor": "white",
            "ticks": ""
           }
          },
          "scene": {
           "xaxis": {
            "backgroundcolor": "#E5ECF6",
            "gridcolor": "white",
            "gridwidth": 2,
            "linecolor": "white",
            "showbackground": true,
            "ticks": "",
            "zerolinecolor": "white"
           },
           "yaxis": {
            "backgroundcolor": "#E5ECF6",
            "gridcolor": "white",
            "gridwidth": 2,
            "linecolor": "white",
            "showbackground": true,
            "ticks": "",
            "zerolinecolor": "white"
           },
           "zaxis": {
            "backgroundcolor": "#E5ECF6",
            "gridcolor": "white",
            "gridwidth": 2,
            "linecolor": "white",
            "showbackground": true,
            "ticks": "",
            "zerolinecolor": "white"
           }
          },
          "shapedefaults": {
           "line": {
            "color": "#2a3f5f"
           }
          },
          "ternary": {
           "aaxis": {
            "gridcolor": "white",
            "linecolor": "white",
            "ticks": ""
           },
           "baxis": {
            "gridcolor": "white",
            "linecolor": "white",
            "ticks": ""
           },
           "bgcolor": "#E5ECF6",
           "caxis": {
            "gridcolor": "white",
            "linecolor": "white",
            "ticks": ""
           }
          },
          "title": {
           "x": 0.05
          },
          "xaxis": {
           "automargin": true,
           "gridcolor": "white",
           "linecolor": "white",
           "ticks": "",
           "title": {
            "standoff": 15
           },
           "zerolinecolor": "white",
           "zerolinewidth": 2
          },
          "yaxis": {
           "automargin": true,
           "gridcolor": "white",
           "linecolor": "white",
           "ticks": "",
           "title": {
            "standoff": 15
           },
           "zerolinecolor": "white",
           "zerolinewidth": 2
          }
         }
        },
        "title": {
         "font": {
          "size": 20
         },
         "text": "Distribution of Total ESG Risk score",
         "x": 0.5
        },
        "width": 800,
        "xaxis": {
         "anchor": "y",
         "domain": [
          0,
          1
         ],
         "showgrid": false,
         "title": {
          "text": "ESG Score"
         }
        },
        "yaxis": {
         "anchor": "x",
         "domain": [
          0,
          1
         ],
         "showgrid": false,
         "showticklabels": true,
         "title": {
          "text": "Percentage of Scores"
         }
        },
        "yaxis2": {
         "overlaying": "y",
         "showgrid": false,
         "side": "right",
         "title": {
          "text": "Density"
         }
        }
       }
      }
     },
     "metadata": {},
     "output_type": "display_data"
    },
    {
     "data": {
      "application/vnd.plotly.v1+json": {
       "config": {
        "plotlyServerURL": "https://plot.ly"
       },
       "data": [
        {
         "bingroup": "x",
         "hovertemplate": "ESG Score=%{x}<br>count=%{y}<extra></extra>",
         "legendgroup": "",
         "marker": {
          "color": "#d3e671",
          "line": {
           "color": "grey",
           "width": 0.5
          },
          "opacity": 0.7,
          "pattern": {
           "shape": ""
          }
         },
         "name": "",
         "nbinsx": 25,
         "orientation": "v",
         "showlegend": false,
         "type": "histogram",
         "x": {
          "bdata": "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",
          "dtype": "f8"
         },
         "xaxis": "x",
         "yaxis": "y"
        },
        {
         "line": {
          "color": "#d3e671",
          "dash": "solid",
          "width": 2
         },
         "marker": {
          "line": {
           "color": "grey",
           "width": 0.5
          }
         },
         "mode": "lines",
         "name": "Environment Risk Score KDE",
         "showlegend": false,
         "type": "scatter",
         "x": {
          "bdata": "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",
          "dtype": "f8"
         },
         "y": {
          "bdata": "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",
          "dtype": "f8"
         },
         "yaxis": "y2"
        }
       ],
       "layout": {
        "annotations": [
         {
          "showarrow": false,
          "text": "Mean: 5.74",
          "x": 5.739767441860465,
          "xanchor": "left",
          "xref": "x",
          "y": 1,
          "yanchor": "top",
          "yref": "y domain"
         },
         {
          "showarrow": false,
          "text": "Median: 4.05",
          "x": 4.05,
          "xanchor": "right",
          "xref": "x",
          "y": 0,
          "yanchor": "bottom",
          "yref": "y domain"
         }
        ],
        "barmode": "relative",
        "font": {
         "color": "black",
         "family": "Arial",
         "size": 12
        },
        "height": 500,
        "legend": {
         "tracegroupgap": 0
        },
        "shapes": [
         {
          "line": {
           "color": "red",
           "dash": "dash",
           "width": 2
          },
          "type": "line",
          "x0": 5.739767441860465,
          "x1": 5.739767441860465,
          "xref": "x",
          "y0": 0,
          "y1": 1,
          "yref": "y domain"
         },
         {
          "line": {
           "color": "blue",
           "dash": "dot",
           "width": 2
          },
          "type": "line",
          "x0": 4.05,
          "x1": 4.05,
          "xref": "x",
          "y0": 0,
          "y1": 1,
          "yref": "y domain"
         }
        ],
        "showlegend": false,
        "template": {
         "data": {
          "bar": [
           {
            "error_x": {
             "color": "#2a3f5f"
            },
            "error_y": {
             "color": "#2a3f5f"
            },
            "marker": {
             "line": {
              "color": "#E5ECF6",
              "width": 0.5
             },
             "pattern": {
              "fillmode": "overlay",
              "size": 10,
              "solidity": 0.2
             }
            },
            "type": "bar"
           }
          ],
          "barpolar": [
           {
            "marker": {
             "line": {
              "color": "#E5ECF6",
              "width": 0.5
             },
             "pattern": {
              "fillmode": "overlay",
              "size": 10,
              "solidity": 0.2
             }
            },
            "type": "barpolar"
           }
          ],
          "carpet": [
           {
            "aaxis": {
             "endlinecolor": "#2a3f5f",
             "gridcolor": "white",
             "linecolor": "white",
             "minorgridcolor": "white",
             "startlinecolor": "#2a3f5f"
            },
            "baxis": {
             "endlinecolor": "#2a3f5f",
             "gridcolor": "white",
             "linecolor": "white",
             "minorgridcolor": "white",
             "startlinecolor": "#2a3f5f"
            },
            "type": "carpet"
           }
          ],
          "choropleth": [
           {
            "colorbar": {
             "outlinewidth": 0,
             "ticks": ""
            },
            "type": "choropleth"
           }
          ],
          "contour": [
           {
            "colorbar": {
             "outlinewidth": 0,
             "ticks": ""
            },
            "colorscale": [
             [
              0,
              "#0d0887"
             ],
             [
              0.1111111111111111,
              "#46039f"
             ],
             [
              0.2222222222222222,
              "#7201a8"
             ],
             [
              0.3333333333333333,
              "#9c179e"
             ],
             [
              0.4444444444444444,
              "#bd3786"
             ],
             [
              0.5555555555555556,
              "#d8576b"
             ],
             [
              0.6666666666666666,
              "#ed7953"
             ],
             [
              0.7777777777777778,
              "#fb9f3a"
             ],
             [
              0.8888888888888888,
              "#fdca26"
             ],
             [
              1,
              "#f0f921"
             ]
            ],
            "type": "contour"
           }
          ],
          "contourcarpet": [
           {
            "colorbar": {
             "outlinewidth": 0,
             "ticks": ""
            },
            "type": "contourcarpet"
           }
          ],
          "heatmap": [
           {
            "colorbar": {
             "outlinewidth": 0,
             "ticks": ""
            },
            "colorscale": [
             [
              0,
              "#0d0887"
             ],
             [
              0.1111111111111111,
              "#46039f"
             ],
             [
              0.2222222222222222,
              "#7201a8"
             ],
             [
              0.3333333333333333,
              "#9c179e"
             ],
             [
              0.4444444444444444,
              "#bd3786"
             ],
             [
              0.5555555555555556,
              "#d8576b"
             ],
             [
              0.6666666666666666,
              "#ed7953"
             ],
             [
              0.7777777777777778,
              "#fb9f3a"
             ],
             [
              0.8888888888888888,
              "#fdca26"
             ],
             [
              1,
              "#f0f921"
             ]
            ],
            "type": "heatmap"
           }
          ],
          "histogram": [
           {
            "marker": {
             "pattern": {
              "fillmode": "overlay",
              "size": 10,
              "solidity": 0.2
             }
            },
            "type": "histogram"
           }
          ],
          "histogram2d": [
           {
            "colorbar": {
             "outlinewidth": 0,
             "ticks": ""
            },
            "colorscale": [
             [
              0,
              "#0d0887"
             ],
             [
              0.1111111111111111,
              "#46039f"
             ],
             [
              0.2222222222222222,
              "#7201a8"
             ],
             [
              0.3333333333333333,
              "#9c179e"
             ],
             [
              0.4444444444444444,
              "#bd3786"
             ],
             [
              0.5555555555555556,
              "#d8576b"
             ],
             [
              0.6666666666666666,
              "#ed7953"
             ],
             [
              0.7777777777777778,
              "#fb9f3a"
             ],
             [
              0.8888888888888888,
              "#fdca26"
             ],
             [
              1,
              "#f0f921"
             ]
            ],
            "type": "histogram2d"
           }
          ],
          "histogram2dcontour": [
           {
            "colorbar": {
             "outlinewidth": 0,
             "ticks": ""
            },
            "colorscale": [
             [
              0,
              "#0d0887"
             ],
             [
              0.1111111111111111,
              "#46039f"
             ],
             [
              0.2222222222222222,
              "#7201a8"
             ],
             [
              0.3333333333333333,
              "#9c179e"
             ],
             [
              0.4444444444444444,
              "#bd3786"
             ],
             [
              0.5555555555555556,
              "#d8576b"
             ],
             [
              0.6666666666666666,
              "#ed7953"
             ],
             [
              0.7777777777777778,
              "#fb9f3a"
             ],
             [
              0.8888888888888888,
              "#fdca26"
             ],
             [
              1,
              "#f0f921"
             ]
            ],
            "type": "histogram2dcontour"
           }
          ],
          "mesh3d": [
           {
            "colorbar": {
             "outlinewidth": 0,
             "ticks": ""
            },
            "type": "mesh3d"
           }
          ],
          "parcoords": [
           {
            "line": {
             "colorbar": {
              "outlinewidth": 0,
              "ticks": ""
             }
            },
            "type": "parcoords"
           }
          ],
          "pie": [
           {
            "automargin": true,
            "type": "pie"
           }
          ],
          "scatter": [
           {
            "fillpattern": {
             "fillmode": "overlay",
             "size": 10,
             "solidity": 0.2
            },
            "type": "scatter"
           }
          ],
          "scatter3d": [
           {
            "line": {
             "colorbar": {
              "outlinewidth": 0,
              "ticks": ""
             }
            },
            "marker": {
             "colorbar": {
              "outlinewidth": 0,
              "ticks": ""
             }
            },
            "type": "scatter3d"
           }
          ],
          "scattercarpet": [
           {
            "marker": {
             "colorbar": {
              "outlinewidth": 0,
              "ticks": ""
             }
            },
            "type": "scattercarpet"
           }
          ],
          "scattergeo": [
           {
            "marker": {
             "colorbar": {
              "outlinewidth": 0,
              "ticks": ""
             }
            },
            "type": "scattergeo"
           }
          ],
          "scattergl": [
           {
            "marker": {
             "colorbar": {
              "outlinewidth": 0,
              "ticks": ""
             }
            },
            "type": "scattergl"
           }
          ],
          "scattermap": [
           {
            "marker": {
             "colorbar": {
              "outlinewidth": 0,
              "ticks": ""
             }
            },
            "type": "scattermap"
           }
          ],
          "scattermapbox": [
           {
            "marker": {
             "colorbar": {
              "outlinewidth": 0,
              "ticks": ""
             }
            },
            "type": "scattermapbox"
           }
          ],
          "scatterpolar": [
           {
            "marker": {
             "colorbar": {
              "outlinewidth": 0,
              "ticks": ""
             }
            },
            "type": "scatterpolar"
           }
          ],
          "scatterpolargl": [
           {
            "marker": {
             "colorbar": {
              "outlinewidth": 0,
              "ticks": ""
             }
            },
            "type": "scatterpolargl"
           }
          ],
          "scatterternary": [
           {
            "marker": {
             "colorbar": {
              "outlinewidth": 0,
              "ticks": ""
             }
            },
            "type": "scatterternary"
           }
          ],
          "surface": [
           {
            "colorbar": {
             "outlinewidth": 0,
             "ticks": ""
            },
            "colorscale": [
             [
              0,
              "#0d0887"
             ],
             [
              0.1111111111111111,
              "#46039f"
             ],
             [
              0.2222222222222222,
              "#7201a8"
             ],
             [
              0.3333333333333333,
              "#9c179e"
             ],
             [
              0.4444444444444444,
              "#bd3786"
             ],
             [
              0.5555555555555556,
              "#d8576b"
             ],
             [
              0.6666666666666666,
              "#ed7953"
             ],
             [
              0.7777777777777778,
              "#fb9f3a"
             ],
             [
              0.8888888888888888,
              "#fdca26"
             ],
             [
              1,
              "#f0f921"
             ]
            ],
            "type": "surface"
           }
          ],
          "table": [
           {
            "cells": {
             "fill": {
              "color": "#EBF0F8"
             },
             "line": {
              "color": "white"
             }
            },
            "header": {
             "fill": {
              "color": "#C8D4E3"
             },
             "line": {
              "color": "white"
             }
            },
            "type": "table"
           }
          ]
         },
         "layout": {
          "annotationdefaults": {
           "arrowcolor": "#2a3f5f",
           "arrowhead": 0,
           "arrowwidth": 1
          },
          "autotypenumbers": "strict",
          "coloraxis": {
           "colorbar": {
            "outlinewidth": 0,
            "ticks": ""
           }
          },
          "colorscale": {
           "diverging": [
            [
             0,
             "#8e0152"
            ],
            [
             0.1,
             "#c51b7d"
            ],
            [
             0.2,
             "#de77ae"
            ],
            [
             0.3,
             "#f1b6da"
            ],
            [
             0.4,
             "#fde0ef"
            ],
            [
             0.5,
             "#f7f7f7"
            ],
            [
             0.6,
             "#e6f5d0"
            ],
            [
             0.7,
             "#b8e186"
            ],
            [
             0.8,
             "#7fbc41"
            ],
            [
             0.9,
             "#4d9221"
            ],
            [
             1,
             "#276419"
            ]
           ],
           "sequential": [
            [
             0,
             "#0d0887"
            ],
            [
             0.1111111111111111,
             "#46039f"
            ],
            [
             0.2222222222222222,
             "#7201a8"
            ],
            [
             0.3333333333333333,
             "#9c179e"
            ],
            [
             0.4444444444444444,
             "#bd3786"
            ],
            [
             0.5555555555555556,
             "#d8576b"
            ],
            [
             0.6666666666666666,
             "#ed7953"
            ],
            [
             0.7777777777777778,
             "#fb9f3a"
            ],
            [
             0.8888888888888888,
             "#fdca26"
            ],
            [
             1,
             "#f0f921"
            ]
           ],
           "sequentialminus": [
            [
             0,
             "#0d0887"
            ],
            [
             0.1111111111111111,
             "#46039f"
            ],
            [
             0.2222222222222222,
             "#7201a8"
            ],
            [
             0.3333333333333333,
             "#9c179e"
            ],
            [
             0.4444444444444444,
             "#bd3786"
            ],
            [
             0.5555555555555556,
             "#d8576b"
            ],
            [
             0.6666666666666666,
             "#ed7953"
            ],
            [
             0.7777777777777778,
             "#fb9f3a"
            ],
            [
             0.8888888888888888,
             "#fdca26"
            ],
            [
             1,
             "#f0f921"
            ]
           ]
          },
          "colorway": [
           "#636efa",
           "#EF553B",
           "#00cc96",
           "#ab63fa",
           "#FFA15A",
           "#19d3f3",
           "#FF6692",
           "#B6E880",
           "#FF97FF",
           "#FECB52"
          ],
          "font": {
           "color": "#2a3f5f"
          },
          "geo": {
           "bgcolor": "white",
           "lakecolor": "white",
           "landcolor": "#E5ECF6",
           "showlakes": true,
           "showland": true,
           "subunitcolor": "white"
          },
          "hoverlabel": {
           "align": "left"
          },
          "hovermode": "closest",
          "mapbox": {
           "style": "light"
          },
          "paper_bgcolor": "white",
          "plot_bgcolor": "#E5ECF6",
          "polar": {
           "angularaxis": {
            "gridcolor": "white",
            "linecolor": "white",
            "ticks": ""
           },
           "bgcolor": "#E5ECF6",
           "radialaxis": {
            "gridcolor": "white",
            "linecolor": "white",
            "ticks": ""
           }
          },
          "scene": {
           "xaxis": {
            "backgroundcolor": "#E5ECF6",
            "gridcolor": "white",
            "gridwidth": 2,
            "linecolor": "white",
            "showbackground": true,
            "ticks": "",
            "zerolinecolor": "white"
           },
           "yaxis": {
            "backgroundcolor": "#E5ECF6",
            "gridcolor": "white",
            "gridwidth": 2,
            "linecolor": "white",
            "showbackground": true,
            "ticks": "",
            "zerolinecolor": "white"
           },
           "zaxis": {
            "backgroundcolor": "#E5ECF6",
            "gridcolor": "white",
            "gridwidth": 2,
            "linecolor": "white",
            "showbackground": true,
            "ticks": "",
            "zerolinecolor": "white"
           }
          },
          "shapedefaults": {
           "line": {
            "color": "#2a3f5f"
           }
          },
          "ternary": {
           "aaxis": {
            "gridcolor": "white",
            "linecolor": "white",
            "ticks": ""
           },
           "baxis": {
            "gridcolor": "white",
            "linecolor": "white",
            "ticks": ""
           },
           "bgcolor": "#E5ECF6",
           "caxis": {
            "gridcolor": "white",
            "linecolor": "white",
            "ticks": ""
           }
          },
          "title": {
           "x": 0.05
          },
          "xaxis": {
           "automargin": true,
           "gridcolor": "white",
           "linecolor": "white",
           "ticks": "",
           "title": {
            "standoff": 15
           },
           "zerolinecolor": "white",
           "zerolinewidth": 2
          },
          "yaxis": {
           "automargin": true,
           "gridcolor": "white",
           "linecolor": "white",
           "ticks": "",
           "title": {
            "standoff": 15
           },
           "zerolinecolor": "white",
           "zerolinewidth": 2
          }
         }
        },
        "title": {
         "font": {
          "size": 20
         },
         "text": "Distribution of Environment Risk Score",
         "x": 0.5
        },
        "width": 800,
        "xaxis": {
         "anchor": "y",
         "domain": [
          0,
          1
         ],
         "showgrid": false,
         "title": {
          "text": "ESG Score"
         }
        },
        "yaxis": {
         "anchor": "x",
         "domain": [
          0,
          1
         ],
         "showgrid": false,
         "showticklabels": true,
         "title": {
          "text": "Percentage of Scores"
         }
        },
        "yaxis2": {
         "overlaying": "y",
         "showgrid": false,
         "side": "right",
         "title": {
          "text": "Density"
         }
        }
       }
      }
     },
     "metadata": {},
     "output_type": "display_data"
    },
    {
     "data": {
      "application/vnd.plotly.v1+json": {
       "config": {
        "plotlyServerURL": "https://plot.ly"
       },
       "data": [
        {
         "bingroup": "x",
         "hovertemplate": "ESG Score=%{x}<br>count=%{y}<extra></extra>",
         "legendgroup": "",
         "marker": {
          "color": "#f8ed8c",
          "line": {
           "color": "grey",
           "width": 0.5
          },
          "opacity": 0.7,
          "pattern": {
           "shape": ""
          }
         },
         "name": "",
         "nbinsx": 25,
         "orientation": "v",
         "showlegend": false,
         "type": "histogram",
         "x": {
          "bdata": "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",
          "dtype": "f8"
         },
         "xaxis": "x",
         "yaxis": "y"
        },
        {
         "line": {
          "color": "#f8ed8c",
          "dash": "solid",
          "width": 2
         },
         "marker": {
          "line": {
           "color": "grey",
           "width": 0.5
          }
         },
         "mode": "lines",
         "name": "Governance Risk Score KDE",
         "showlegend": false,
         "type": "scatter",
         "x": {
          "bdata": "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",
          "dtype": "f8"
         },
         "y": {
          "bdata": "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",
          "dtype": "f8"
         },
         "yaxis": "y2"
        }
       ],
       "layout": {
        "annotations": [
         {
          "showarrow": false,
          "text": "Mean: 6.73",
          "x": 6.725116279069768,
          "xanchor": "left",
          "xref": "x",
          "y": 1,
          "yanchor": "top",
          "yref": "y domain"
         },
         {
          "showarrow": false,
          "text": "Median: 6.10",
          "x": 6.1,
          "xanchor": "right",
          "xref": "x",
          "y": 0,
          "yanchor": "bottom",
          "yref": "y domain"
         }
        ],
        "barmode": "relative",
        "font": {
         "color": "black",
         "family": "Arial",
         "size": 12
        },
        "height": 500,
        "legend": {
         "tracegroupgap": 0
        },
        "shapes": [
         {
          "line": {
           "color": "red",
           "dash": "dash",
           "width": 2
          },
          "type": "line",
          "x0": 6.725116279069768,
          "x1": 6.725116279069768,
          "xref": "x",
          "y0": 0,
          "y1": 1,
          "yref": "y domain"
         },
         {
          "line": {
           "color": "blue",
           "dash": "dot",
           "width": 2
          },
          "type": "line",
          "x0": 6.1,
          "x1": 6.1,
          "xref": "x",
          "y0": 0,
          "y1": 1,
          "yref": "y domain"
         }
        ],
        "showlegend": false,
        "template": {
         "data": {
          "bar": [
           {
            "error_x": {
             "color": "#2a3f5f"
            },
            "error_y": {
             "color": "#2a3f5f"
            },
            "marker": {
             "line": {
              "color": "#E5ECF6",
              "width": 0.5
             },
             "pattern": {
              "fillmode": "overlay",
              "size": 10,
              "solidity": 0.2
             }
            },
            "type": "bar"
           }
          ],
          "barpolar": [
           {
            "marker": {
             "line": {
              "color": "#E5ECF6",
              "width": 0.5
             },
             "pattern": {
              "fillmode": "overlay",
              "size": 10,
              "solidity": 0.2
             }
            },
            "type": "barpolar"
           }
          ],
          "carpet": [
           {
            "aaxis": {
             "endlinecolor": "#2a3f5f",
             "gridcolor": "white",
             "linecolor": "white",
             "minorgridcolor": "white",
             "startlinecolor": "#2a3f5f"
            },
            "baxis": {
             "endlinecolor": "#2a3f5f",
             "gridcolor": "white",
             "linecolor": "white",
             "minorgridcolor": "white",
             "startlinecolor": "#2a3f5f"
            },
            "type": "carpet"
           }
          ],
          "choropleth": [
           {
            "colorbar": {
             "outlinewidth": 0,
             "ticks": ""
            },
            "type": "choropleth"
           }
          ],
          "contour": [
           {
            "colorbar": {
             "outlinewidth": 0,
             "ticks": ""
            },
            "colorscale": [
             [
              0,
              "#0d0887"
             ],
             [
              0.1111111111111111,
              "#46039f"
             ],
             [
              0.2222222222222222,
              "#7201a8"
             ],
             [
              0.3333333333333333,
              "#9c179e"
             ],
             [
              0.4444444444444444,
              "#bd3786"
             ],
             [
              0.5555555555555556,
              "#d8576b"
             ],
             [
              0.6666666666666666,
              "#ed7953"
             ],
             [
              0.7777777777777778,
              "#fb9f3a"
             ],
             [
              0.8888888888888888,
              "#fdca26"
             ],
             [
              1,
              "#f0f921"
             ]
            ],
            "type": "contour"
           }
          ],
          "contourcarpet": [
           {
            "colorbar": {
             "outlinewidth": 0,
             "ticks": ""
            },
            "type": "contourcarpet"
           }
          ],
          "heatmap": [
           {
            "colorbar": {
             "outlinewidth": 0,
             "ticks": ""
            },
            "colorscale": [
             [
              0,
              "#0d0887"
             ],
             [
              0.1111111111111111,
              "#46039f"
             ],
             [
              0.2222222222222222,
              "#7201a8"
             ],
             [
              0.3333333333333333,
              "#9c179e"
             ],
             [
              0.4444444444444444,
              "#bd3786"
             ],
             [
              0.5555555555555556,
              "#d8576b"
             ],
             [
              0.6666666666666666,
              "#ed7953"
             ],
             [
              0.7777777777777778,
              "#fb9f3a"
             ],
             [
              0.8888888888888888,
              "#fdca26"
             ],
             [
              1,
              "#f0f921"
             ]
            ],
            "type": "heatmap"
           }
          ],
          "histogram": [
           {
            "marker": {
             "pattern": {
              "fillmode": "overlay",
              "size": 10,
              "solidity": 0.2
             }
            },
            "type": "histogram"
           }
          ],
          "histogram2d": [
           {
            "colorbar": {
             "outlinewidth": 0,
             "ticks": ""
            },
            "colorscale": [
             [
              0,
              "#0d0887"
             ],
             [
              0.1111111111111111,
              "#46039f"
             ],
             [
              0.2222222222222222,
              "#7201a8"
             ],
             [
              0.3333333333333333,
              "#9c179e"
             ],
             [
              0.4444444444444444,
              "#bd3786"
             ],
             [
              0.5555555555555556,
              "#d8576b"
             ],
             [
              0.6666666666666666,
              "#ed7953"
             ],
             [
              0.7777777777777778,
              "#fb9f3a"
             ],
             [
              0.8888888888888888,
              "#fdca26"
             ],
             [
              1,
              "#f0f921"
             ]
            ],
            "type": "histogram2d"
           }
          ],
          "histogram2dcontour": [
           {
            "colorbar": {
             "outlinewidth": 0,
             "ticks": ""
            },
            "colorscale": [
             [
              0,
              "#0d0887"
             ],
             [
              0.1111111111111111,
              "#46039f"
             ],
             [
              0.2222222222222222,
              "#7201a8"
             ],
             [
              0.3333333333333333,
              "#9c179e"
             ],
             [
              0.4444444444444444,
              "#bd3786"
             ],
             [
              0.5555555555555556,
              "#d8576b"
             ],
             [
              0.6666666666666666,
              "#ed7953"
             ],
             [
              0.7777777777777778,
              "#fb9f3a"
             ],
             [
              0.8888888888888888,
              "#fdca26"
             ],
             [
              1,
              "#f0f921"
             ]
            ],
            "type": "histogram2dcontour"
           }
          ],
          "mesh3d": [
           {
            "colorbar": {
             "outlinewidth": 0,
             "ticks": ""
            },
            "type": "mesh3d"
           }
          ],
          "parcoords": [
           {
            "line": {
             "colorbar": {
              "outlinewidth": 0,
              "ticks": ""
             }
            },
            "type": "parcoords"
           }
          ],
          "pie": [
           {
            "automargin": true,
            "type": "pie"
           }
          ],
          "scatter": [
           {
            "fillpattern": {
             "fillmode": "overlay",
             "size": 10,
             "solidity": 0.2
            },
            "type": "scatter"
           }
          ],
          "scatter3d": [
           {
            "line": {
             "colorbar": {
              "outlinewidth": 0,
              "ticks": ""
             }
            },
            "marker": {
             "colorbar": {
              "outlinewidth": 0,
              "ticks": ""
             }
            },
            "type": "scatter3d"
           }
          ],
          "scattercarpet": [
           {
            "marker": {
             "colorbar": {
              "outlinewidth": 0,
              "ticks": ""
             }
            },
            "type": "scattercarpet"
           }
          ],
          "scattergeo": [
           {
            "marker": {
             "colorbar": {
              "outlinewidth": 0,
              "ticks": ""
             }
            },
            "type": "scattergeo"
           }
          ],
          "scattergl": [
           {
            "marker": {
             "colorbar": {
              "outlinewidth": 0,
              "ticks": ""
             }
            },
            "type": "scattergl"
           }
          ],
          "scattermap": [
           {
            "marker": {
             "colorbar": {
              "outlinewidth": 0,
              "ticks": ""
             }
            },
            "type": "scattermap"
           }
          ],
          "scattermapbox": [
           {
            "marker": {
             "colorbar": {
              "outlinewidth": 0,
              "ticks": ""
             }
            },
            "type": "scattermapbox"
           }
          ],
          "scatterpolar": [
           {
            "marker": {
             "colorbar": {
              "outlinewidth": 0,
              "ticks": ""
             }
            },
            "type": "scatterpolar"
           }
          ],
          "scatterpolargl": [
           {
            "marker": {
             "colorbar": {
              "outlinewidth": 0,
              "ticks": ""
             }
            },
            "type": "scatterpolargl"
           }
          ],
          "scatterternary": [
           {
            "marker": {
             "colorbar": {
              "outlinewidth": 0,
              "ticks": ""
             }
            },
            "type": "scatterternary"
           }
          ],
          "surface": [
           {
            "colorbar": {
             "outlinewidth": 0,
             "ticks": ""
            },
            "colorscale": [
             [
              0,
              "#0d0887"
             ],
             [
              0.1111111111111111,
              "#46039f"
             ],
             [
              0.2222222222222222,
              "#7201a8"
             ],
             [
              0.3333333333333333,
              "#9c179e"
             ],
             [
              0.4444444444444444,
              "#bd3786"
             ],
             [
              0.5555555555555556,
              "#d8576b"
             ],
             [
              0.6666666666666666,
              "#ed7953"
             ],
             [
              0.7777777777777778,
              "#fb9f3a"
             ],
             [
              0.8888888888888888,
              "#fdca26"
             ],
             [
              1,
              "#f0f921"
             ]
            ],
            "type": "surface"
           }
          ],
          "table": [
           {
            "cells": {
             "fill": {
              "color": "#EBF0F8"
             },
             "line": {
              "color": "white"
             }
            },
            "header": {
             "fill": {
              "color": "#C8D4E3"
             },
             "line": {
              "color": "white"
             }
            },
            "type": "table"
           }
          ]
         },
         "layout": {
          "annotationdefaults": {
           "arrowcolor": "#2a3f5f",
           "arrowhead": 0,
           "arrowwidth": 1
          },
          "autotypenumbers": "strict",
          "coloraxis": {
           "colorbar": {
            "outlinewidth": 0,
            "ticks": ""
           }
          },
          "colorscale": {
           "diverging": [
            [
             0,
             "#8e0152"
            ],
            [
             0.1,
             "#c51b7d"
            ],
            [
             0.2,
             "#de77ae"
            ],
            [
             0.3,
             "#f1b6da"
            ],
            [
             0.4,
             "#fde0ef"
            ],
            [
             0.5,
             "#f7f7f7"
            ],
            [
             0.6,
             "#e6f5d0"
            ],
            [
             0.7,
             "#b8e186"
            ],
            [
             0.8,
             "#7fbc41"
            ],
            [
             0.9,
             "#4d9221"
            ],
            [
             1,
             "#276419"
            ]
           ],
           "sequential": [
            [
             0,
             "#0d0887"
            ],
            [
             0.1111111111111111,
             "#46039f"
            ],
            [
             0.2222222222222222,
             "#7201a8"
            ],
            [
             0.3333333333333333,
             "#9c179e"
            ],
            [
             0.4444444444444444,
             "#bd3786"
            ],
            [
             0.5555555555555556,
             "#d8576b"
            ],
            [
             0.6666666666666666,
             "#ed7953"
            ],
            [
             0.7777777777777778,
             "#fb9f3a"
            ],
            [
             0.8888888888888888,
             "#fdca26"
            ],
            [
             1,
             "#f0f921"
            ]
           ],
           "sequentialminus": [
            [
             0,
             "#0d0887"
            ],
            [
             0.1111111111111111,
             "#46039f"
            ],
            [
             0.2222222222222222,
             "#7201a8"
            ],
            [
             0.3333333333333333,
             "#9c179e"
            ],
            [
             0.4444444444444444,
             "#bd3786"
            ],
            [
             0.5555555555555556,
             "#d8576b"
            ],
            [
             0.6666666666666666,
             "#ed7953"
            ],
            [
             0.7777777777777778,
             "#fb9f3a"
            ],
            [
             0.8888888888888888,
             "#fdca26"
            ],
            [
             1,
             "#f0f921"
            ]
           ]
          },
          "colorway": [
           "#636efa",
           "#EF553B",
           "#00cc96",
           "#ab63fa",
           "#FFA15A",
           "#19d3f3",
           "#FF6692",
           "#B6E880",
           "#FF97FF",
           "#FECB52"
          ],
          "font": {
           "color": "#2a3f5f"
          },
          "geo": {
           "bgcolor": "white",
           "lakecolor": "white",
           "landcolor": "#E5ECF6",
           "showlakes": true,
           "showland": true,
           "subunitcolor": "white"
          },
          "hoverlabel": {
           "align": "left"
          },
          "hovermode": "closest",
          "mapbox": {
           "style": "light"
          },
          "paper_bgcolor": "white",
          "plot_bgcolor": "#E5ECF6",
          "polar": {
           "angularaxis": {
            "gridcolor": "white",
            "linecolor": "white",
            "ticks": ""
           },
           "bgcolor": "#E5ECF6",
           "radialaxis": {
            "gridcolor": "white",
            "linecolor": "white",
            "ticks": ""
           }
          },
          "scene": {
           "xaxis": {
            "backgroundcolor": "#E5ECF6",
            "gridcolor": "white",
            "gridwidth": 2,
            "linecolor": "white",
            "showbackground": true,
            "ticks": "",
            "zerolinecolor": "white"
           },
           "yaxis": {
            "backgroundcolor": "#E5ECF6",
            "gridcolor": "white",
            "gridwidth": 2,
            "linecolor": "white",
            "showbackground": true,
            "ticks": "",
            "zerolinecolor": "white"
           },
           "zaxis": {
            "backgroundcolor": "#E5ECF6",
            "gridcolor": "white",
            "gridwidth": 2,
            "linecolor": "white",
            "showbackground": true,
            "ticks": "",
            "zerolinecolor": "white"
           }
          },
          "shapedefaults": {
           "line": {
            "color": "#2a3f5f"
           }
          },
          "ternary": {
           "aaxis": {
            "gridcolor": "white",
            "linecolor": "white",
            "ticks": ""
           },
           "baxis": {
            "gridcolor": "white",
            "linecolor": "white",
            "ticks": ""
           },
           "bgcolor": "#E5ECF6",
           "caxis": {
            "gridcolor": "white",
            "linecolor": "white",
            "ticks": ""
           }
          },
          "title": {
           "x": 0.05
          },
          "xaxis": {
           "automargin": true,
           "gridcolor": "white",
           "linecolor": "white",
           "ticks": "",
           "title": {
            "standoff": 15
           },
           "zerolinecolor": "white",
           "zerolinewidth": 2
          },
          "yaxis": {
           "automargin": true,
           "gridcolor": "white",
           "linecolor": "white",
           "ticks": "",
           "title": {
            "standoff": 15
           },
           "zerolinecolor": "white",
           "zerolinewidth": 2
          }
         }
        },
        "title": {
         "font": {
          "size": 20
         },
         "text": "Distribution of Governance Risk Score",
         "x": 0.5
        },
        "width": 800,
        "xaxis": {
         "anchor": "y",
         "domain": [
          0,
          1
         ],
         "showgrid": false,
         "title": {
          "text": "ESG Score"
         }
        },
        "yaxis": {
         "anchor": "x",
         "domain": [
          0,
          1
         ],
         "showgrid": false,
         "showticklabels": true,
         "title": {
          "text": "Percentage of Scores"
         }
        },
        "yaxis2": {
         "overlaying": "y",
         "showgrid": false,
         "side": "right",
         "title": {
          "text": "Density"
         }
        }
       }
      }
     },
     "metadata": {},
     "output_type": "display_data"
    },
    {
     "data": {
      "application/vnd.plotly.v1+json": {
       "config": {
        "plotlyServerURL": "https://plot.ly"
       },
       "data": [
        {
         "bingroup": "x",
         "hovertemplate": "ESG Score=%{x}<br>count=%{y}<extra></extra>",
         "legendgroup": "",
         "marker": {
          "color": "#ff8989",
          "line": {
           "color": "grey",
           "width": 0.5
          },
          "opacity": 0.7,
          "pattern": {
           "shape": ""
          }
         },
         "name": "",
         "nbinsx": 25,
         "orientation": "v",
         "showlegend": false,
         "type": "histogram",
         "x": {
          "bdata": "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",
          "dtype": "f8"
         },
         "xaxis": "x",
         "yaxis": "y"
        },
        {
         "line": {
          "color": "#ff8989",
          "dash": "solid",
          "width": 2
         },
         "marker": {
          "line": {
           "color": "grey",
           "width": 0.5
          }
         },
         "mode": "lines",
         "name": "Social Risk Score KDE",
         "showlegend": false,
         "type": "scatter",
         "x": {
          "bdata": "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",
          "dtype": "f8"
         },
         "y": {
          "bdata": "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",
          "dtype": "f8"
         },
         "yaxis": "y2"
        }
       ],
       "layout": {
        "annotations": [
         {
          "showarrow": false,
          "text": "Mean: 9.07",
          "x": 9.07046511627907,
          "xanchor": "left",
          "xref": "x",
          "y": 1,
          "yanchor": "top",
          "yref": "y domain"
         },
         {
          "showarrow": false,
          "text": "Median: 8.90",
          "x": 8.9,
          "xanchor": "right",
          "xref": "x",
          "y": 0,
          "yanchor": "bottom",
          "yref": "y domain"
         }
        ],
        "barmode": "relative",
        "font": {
         "color": "black",
         "family": "Arial",
         "size": 12
        },
        "height": 500,
        "legend": {
         "tracegroupgap": 0
        },
        "shapes": [
         {
          "line": {
           "color": "red",
           "dash": "dash",
           "width": 2
          },
          "type": "line",
          "x0": 9.07046511627907,
          "x1": 9.07046511627907,
          "xref": "x",
          "y0": 0,
          "y1": 1,
          "yref": "y domain"
         },
         {
          "line": {
           "color": "blue",
           "dash": "dot",
           "width": 2
          },
          "type": "line",
          "x0": 8.9,
          "x1": 8.9,
          "xref": "x",
          "y0": 0,
          "y1": 1,
          "yref": "y domain"
         }
        ],
        "showlegend": false,
        "template": {
         "data": {
          "bar": [
           {
            "error_x": {
             "color": "#2a3f5f"
            },
            "error_y": {
             "color": "#2a3f5f"
            },
            "marker": {
             "line": {
              "color": "#E5ECF6",
              "width": 0.5
             },
             "pattern": {
              "fillmode": "overlay",
              "size": 10,
              "solidity": 0.2
             }
            },
            "type": "bar"
           }
          ],
          "barpolar": [
           {
            "marker": {
             "line": {
              "color": "#E5ECF6",
              "width": 0.5
             },
             "pattern": {
              "fillmode": "overlay",
              "size": 10,
              "solidity": 0.2
             }
            },
            "type": "barpolar"
           }
          ],
          "carpet": [
           {
            "aaxis": {
             "endlinecolor": "#2a3f5f",
             "gridcolor": "white",
             "linecolor": "white",
             "minorgridcolor": "white",
             "startlinecolor": "#2a3f5f"
            },
            "baxis": {
             "endlinecolor": "#2a3f5f",
             "gridcolor": "white",
             "linecolor": "white",
             "minorgridcolor": "white",
             "startlinecolor": "#2a3f5f"
            },
            "type": "carpet"
           }
          ],
          "choropleth": [
           {
            "colorbar": {
             "outlinewidth": 0,
             "ticks": ""
            },
            "type": "choropleth"
           }
          ],
          "contour": [
           {
            "colorbar": {
             "outlinewidth": 0,
             "ticks": ""
            },
            "colorscale": [
             [
              0,
              "#0d0887"
             ],
             [
              0.1111111111111111,
              "#46039f"
             ],
             [
              0.2222222222222222,
              "#7201a8"
             ],
             [
              0.3333333333333333,
              "#9c179e"
             ],
             [
              0.4444444444444444,
              "#bd3786"
             ],
             [
              0.5555555555555556,
              "#d8576b"
             ],
             [
              0.6666666666666666,
              "#ed7953"
             ],
             [
              0.7777777777777778,
              "#fb9f3a"
             ],
             [
              0.8888888888888888,
              "#fdca26"
             ],
             [
              1,
              "#f0f921"
             ]
            ],
            "type": "contour"
           }
          ],
          "contourcarpet": [
           {
            "colorbar": {
             "outlinewidth": 0,
             "ticks": ""
            },
            "type": "contourcarpet"
           }
          ],
          "heatmap": [
           {
            "colorbar": {
             "outlinewidth": 0,
             "ticks": ""
            },
            "colorscale": [
             [
              0,
              "#0d0887"
             ],
             [
              0.1111111111111111,
              "#46039f"
             ],
             [
              0.2222222222222222,
              "#7201a8"
             ],
             [
              0.3333333333333333,
              "#9c179e"
             ],
             [
              0.4444444444444444,
              "#bd3786"
             ],
             [
              0.5555555555555556,
              "#d8576b"
             ],
             [
              0.6666666666666666,
              "#ed7953"
             ],
             [
              0.7777777777777778,
              "#fb9f3a"
             ],
             [
              0.8888888888888888,
              "#fdca26"
             ],
             [
              1,
              "#f0f921"
             ]
            ],
            "type": "heatmap"
           }
          ],
          "histogram": [
           {
            "marker": {
             "pattern": {
              "fillmode": "overlay",
              "size": 10,
              "solidity": 0.2
             }
            },
            "type": "histogram"
           }
          ],
          "histogram2d": [
           {
            "colorbar": {
             "outlinewidth": 0,
             "ticks": ""
            },
            "colorscale": [
             [
              0,
              "#0d0887"
             ],
             [
              0.1111111111111111,
              "#46039f"
             ],
             [
              0.2222222222222222,
              "#7201a8"
             ],
             [
              0.3333333333333333,
              "#9c179e"
             ],
             [
              0.4444444444444444,
              "#bd3786"
             ],
             [
              0.5555555555555556,
              "#d8576b"
             ],
             [
              0.6666666666666666,
              "#ed7953"
             ],
             [
              0.7777777777777778,
              "#fb9f3a"
             ],
             [
              0.8888888888888888,
              "#fdca26"
             ],
             [
              1,
              "#f0f921"
             ]
            ],
            "type": "histogram2d"
           }
          ],
          "histogram2dcontour": [
           {
            "colorbar": {
             "outlinewidth": 0,
             "ticks": ""
            },
            "colorscale": [
             [
              0,
              "#0d0887"
             ],
             [
              0.1111111111111111,
              "#46039f"
             ],
             [
              0.2222222222222222,
              "#7201a8"
             ],
             [
              0.3333333333333333,
              "#9c179e"
             ],
             [
              0.4444444444444444,
              "#bd3786"
             ],
             [
              0.5555555555555556,
              "#d8576b"
             ],
             [
              0.6666666666666666,
              "#ed7953"
             ],
             [
              0.7777777777777778,
              "#fb9f3a"
             ],
             [
              0.8888888888888888,
              "#fdca26"
             ],
             [
              1,
              "#f0f921"
             ]
            ],
            "type": "histogram2dcontour"
           }
          ],
          "mesh3d": [
           {
            "colorbar": {
             "outlinewidth": 0,
             "ticks": ""
            },
            "type": "mesh3d"
           }
          ],
          "parcoords": [
           {
            "line": {
             "colorbar": {
              "outlinewidth": 0,
              "ticks": ""
             }
            },
            "type": "parcoords"
           }
          ],
          "pie": [
           {
            "automargin": true,
            "type": "pie"
           }
          ],
          "scatter": [
           {
            "fillpattern": {
             "fillmode": "overlay",
             "size": 10,
             "solidity": 0.2
            },
            "type": "scatter"
           }
          ],
          "scatter3d": [
           {
            "line": {
             "colorbar": {
              "outlinewidth": 0,
              "ticks": ""
             }
            },
            "marker": {
             "colorbar": {
              "outlinewidth": 0,
              "ticks": ""
             }
            },
            "type": "scatter3d"
           }
          ],
          "scattercarpet": [
           {
            "marker": {
             "colorbar": {
              "outlinewidth": 0,
              "ticks": ""
             }
            },
            "type": "scattercarpet"
           }
          ],
          "scattergeo": [
           {
            "marker": {
             "colorbar": {
              "outlinewidth": 0,
              "ticks": ""
             }
            },
            "type": "scattergeo"
           }
          ],
          "scattergl": [
           {
            "marker": {
             "colorbar": {
              "outlinewidth": 0,
              "ticks": ""
             }
            },
            "type": "scattergl"
           }
          ],
          "scattermap": [
           {
            "marker": {
             "colorbar": {
              "outlinewidth": 0,
              "ticks": ""
             }
            },
            "type": "scattermap"
           }
          ],
          "scattermapbox": [
           {
            "marker": {
             "colorbar": {
              "outlinewidth": 0,
              "ticks": ""
             }
            },
            "type": "scattermapbox"
           }
          ],
          "scatterpolar": [
           {
            "marker": {
             "colorbar": {
              "outlinewidth": 0,
              "ticks": ""
             }
            },
            "type": "scatterpolar"
           }
          ],
          "scatterpolargl": [
           {
            "marker": {
             "colorbar": {
              "outlinewidth": 0,
              "ticks": ""
             }
            },
            "type": "scatterpolargl"
           }
          ],
          "scatterternary": [
           {
            "marker": {
             "colorbar": {
              "outlinewidth": 0,
              "ticks": ""
             }
            },
            "type": "scatterternary"
           }
          ],
          "surface": [
           {
            "colorbar": {
             "outlinewidth": 0,
             "ticks": ""
            },
            "colorscale": [
             [
              0,
              "#0d0887"
             ],
             [
              0.1111111111111111,
              "#46039f"
             ],
             [
              0.2222222222222222,
              "#7201a8"
             ],
             [
              0.3333333333333333,
              "#9c179e"
             ],
             [
              0.4444444444444444,
              "#bd3786"
             ],
             [
              0.5555555555555556,
              "#d8576b"
             ],
             [
              0.6666666666666666,
              "#ed7953"
             ],
             [
              0.7777777777777778,
              "#fb9f3a"
             ],
             [
              0.8888888888888888,
              "#fdca26"
             ],
             [
              1,
              "#f0f921"
             ]
            ],
            "type": "surface"
           }
          ],
          "table": [
           {
            "cells": {
             "fill": {
              "color": "#EBF0F8"
             },
             "line": {
              "color": "white"
             }
            },
            "header": {
             "fill": {
              "color": "#C8D4E3"
             },
             "line": {
              "color": "white"
             }
            },
            "type": "table"
           }
          ]
         },
         "layout": {
          "annotationdefaults": {
           "arrowcolor": "#2a3f5f",
           "arrowhead": 0,
           "arrowwidth": 1
          },
          "autotypenumbers": "strict",
          "coloraxis": {
           "colorbar": {
            "outlinewidth": 0,
            "ticks": ""
           }
          },
          "colorscale": {
           "diverging": [
            [
             0,
             "#8e0152"
            ],
            [
             0.1,
             "#c51b7d"
            ],
            [
             0.2,
             "#de77ae"
            ],
            [
             0.3,
             "#f1b6da"
            ],
            [
             0.4,
             "#fde0ef"
            ],
            [
             0.5,
             "#f7f7f7"
            ],
            [
             0.6,
             "#e6f5d0"
            ],
            [
             0.7,
             "#b8e186"
            ],
            [
             0.8,
             "#7fbc41"
            ],
            [
             0.9,
             "#4d9221"
            ],
            [
             1,
             "#276419"
            ]
           ],
           "sequential": [
            [
             0,
             "#0d0887"
            ],
            [
             0.1111111111111111,
             "#46039f"
            ],
            [
             0.2222222222222222,
             "#7201a8"
            ],
            [
             0.3333333333333333,
             "#9c179e"
            ],
            [
             0.4444444444444444,
             "#bd3786"
            ],
            [
             0.5555555555555556,
             "#d8576b"
            ],
            [
             0.6666666666666666,
             "#ed7953"
            ],
            [
             0.7777777777777778,
             "#fb9f3a"
            ],
            [
             0.8888888888888888,
             "#fdca26"
            ],
            [
             1,
             "#f0f921"
            ]
           ],
           "sequentialminus": [
            [
             0,
             "#0d0887"
            ],
            [
             0.1111111111111111,
             "#46039f"
            ],
            [
             0.2222222222222222,
             "#7201a8"
            ],
            [
             0.3333333333333333,
             "#9c179e"
            ],
            [
             0.4444444444444444,
             "#bd3786"
            ],
            [
             0.5555555555555556,
             "#d8576b"
            ],
            [
             0.6666666666666666,
             "#ed7953"
            ],
            [
             0.7777777777777778,
             "#fb9f3a"
            ],
            [
             0.8888888888888888,
             "#fdca26"
            ],
            [
             1,
             "#f0f921"
            ]
           ]
          },
          "colorway": [
           "#636efa",
           "#EF553B",
           "#00cc96",
           "#ab63fa",
           "#FFA15A",
           "#19d3f3",
           "#FF6692",
           "#B6E880",
           "#FF97FF",
           "#FECB52"
          ],
          "font": {
           "color": "#2a3f5f"
          },
          "geo": {
           "bgcolor": "white",
           "lakecolor": "white",
           "landcolor": "#E5ECF6",
           "showlakes": true,
           "showland": true,
           "subunitcolor": "white"
          },
          "hoverlabel": {
           "align": "left"
          },
          "hovermode": "closest",
          "mapbox": {
           "style": "light"
          },
          "paper_bgcolor": "white",
          "plot_bgcolor": "#E5ECF6",
          "polar": {
           "angularaxis": {
            "gridcolor": "white",
            "linecolor": "white",
            "ticks": ""
           },
           "bgcolor": "#E5ECF6",
           "radialaxis": {
            "gridcolor": "white",
            "linecolor": "white",
            "ticks": ""
           }
          },
          "scene": {
           "xaxis": {
            "backgroundcolor": "#E5ECF6",
            "gridcolor": "white",
            "gridwidth": 2,
            "linecolor": "white",
            "showbackground": true,
            "ticks": "",
            "zerolinecolor": "white"
           },
           "yaxis": {
            "backgroundcolor": "#E5ECF6",
            "gridcolor": "white",
            "gridwidth": 2,
            "linecolor": "white",
            "showbackground": true,
            "ticks": "",
            "zerolinecolor": "white"
           },
           "zaxis": {
            "backgroundcolor": "#E5ECF6",
            "gridcolor": "white",
            "gridwidth": 2,
            "linecolor": "white",
            "showbackground": true,
            "ticks": "",
            "zerolinecolor": "white"
           }
          },
          "shapedefaults": {
           "line": {
            "color": "#2a3f5f"
           }
          },
          "ternary": {
           "aaxis": {
            "gridcolor": "white",
            "linecolor": "white",
            "ticks": ""
           },
           "baxis": {
            "gridcolor": "white",
            "linecolor": "white",
            "ticks": ""
           },
           "bgcolor": "#E5ECF6",
           "caxis": {
            "gridcolor": "white",
            "linecolor": "white",
            "ticks": ""
           }
          },
          "title": {
           "x": 0.05
          },
          "xaxis": {
           "automargin": true,
           "gridcolor": "white",
           "linecolor": "white",
           "ticks": "",
           "title": {
            "standoff": 15
           },
           "zerolinecolor": "white",
           "zerolinewidth": 2
          },
          "yaxis": {
           "automargin": true,
           "gridcolor": "white",
           "linecolor": "white",
           "ticks": "",
           "title": {
            "standoff": 15
           },
           "zerolinecolor": "white",
           "zerolinewidth": 2
          }
         }
        },
        "title": {
         "font": {
          "size": 20
         },
         "text": "Distribution of Social Risk Score",
         "x": 0.5
        },
        "width": 800,
        "xaxis": {
         "anchor": "y",
         "domain": [
          0,
          1
         ],
         "showgrid": false,
         "title": {
          "text": "ESG Score"
         }
        },
        "yaxis": {
         "anchor": "x",
         "domain": [
          0,
          1
         ],
         "showgrid": false,
         "showticklabels": true,
         "title": {
          "text": "Percentage of Scores"
         }
        },
        "yaxis2": {
         "overlaying": "y",
         "showgrid": false,
         "side": "right",
         "title": {
          "text": "Density"
         }
        }
       }
      }
     },
     "metadata": {},
     "output_type": "display_data"
    },
    {
     "data": {
      "application/vnd.plotly.v1+json": {
       "config": {
        "plotlyServerURL": "https://plot.ly"
       },
       "data": [
        {
         "histnorm": "percent",
         "marker": {
          "color": "#89ac46"
         },
         "name": "Total ESG Risk score Histogram",
         "nbinsx": 25,
         "opacity": 0.7,
         "showlegend": false,
         "type": "histogram",
         "x": {
          "bdata": "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",
          "dtype": "f8"
         },
         "xaxis": "x",
         "yaxis": "y"
        },
        {
         "line": {
          "color": "#89ac46",
          "width": 2
         },
         "mode": "lines",
         "name": "Total ESG Risk score KDE",
         "showlegend": false,
         "type": "scatter",
         "x": {
          "bdata": "ZmZmZmZmHECdqGKp3YkcQNXqXuxUrRxADC1bL8zQHEBEb1dyQ/QcQHuxU7W6Fx1As/NP+DE7HUDqNUw7qV4dQCJ4SH4ggh1AWbpEwZelHUCQ/EAED8kdQMg+PUeG7B1A/4A5iv0PHkA3wzXNdDMeQG4FMhDsVh5ApkcuU2N6HkDdiSqW2p0eQBXMJtlRwR5ATA4jHMnkHkCEUB9fQAgfQLuSG6K3Kx9A8tQX5S5PH0AqFxQopnIfQGFZEGsdlh9AmZsMrpS5H0DQ3QjxC90fQASQAppBACBAILGAO/0RIEA70v7cuCMgQFfzfH50NSBAcxT7HzBHIECONXnB61ggQKpW92KnaiBAxnd1BGN8IEDimPOlHo4gQP25cUfanyBAGdvv6JWxIEA1/G2KUcMgQFEd7CsN1SBAbD5qzcjmIECIX+huhPggQKSAZhBACiFAwKHksfsbIUDbwmJTty0hQPfj4PRyPyFAEwVfli5RIUAuJt036mIhQEpHW9mldCFAZmjZemGGIUCCiVccHZghQJ2q1b3YqSFAuctTX5S7IUDV7NEAUM0hQPANUKIL3yFADC/OQ8fwIUAoUEzlggIiQERxyoY+FCJAX5JIKPolIkB7s8bJtTciQJfURGtxSSJAsvXCDC1bIkDOFkGu6GwiQOo3v0+kfiJABlk98V+QIkAieruSG6IiQD2bOTTXsyJAWby31ZLFIkB13TV3TtciQJD+sxgK6SJArB8yusX6IkDIQLBbgQwjQORhLv08HiNA/4KsnvgvI0AbpCpAtEEjQDfFqOFvUyNAUuYmgytlI0BuB6Uk53YjQIooI8aiiCNApkmhZ16aI0DCah8JGqwjQN2LnarVvSNA+awbTJHPI0AUzpntTOEjQDDvF48I8yNATBCWMMQEJEBoMRTSfxYkQIRSknM7KCRAn3MQFfc5JEC7lI62skskQNe1DFhuXSRA8taK+SlvJEAO+Aib5YAkQCoZhzyhkiRARjoF3lykJEBhW4N/GLYkQH18ASHUxyRAmZ1/wo/ZJEC0vv1jS+skQNDfewUH/SRA7AD6psIOJUAIInhIfiAlQCRD9uk5MiVAP2R0i/VDJUBbhfIssVUlQHamcM5sZyVAksfubyh5JUCu6GwR5IolQMoJ67KfnCVA5ippVFuuJUABTOf1FsAlQB1tZZfS0SVAOY7jOI7jJUBUr2HaSfUlQHDQ33sFByZAjPFdHcEYJkCoEty+fComQMQzWmA4PCZA31TYAfRNJkD6dVajr18mQBaX1ERrcSZAMrhS5iaDJkBO2dCH4pQmQGr6TimepiZAhhvNylm4JkChPEtsFcomQL1dyQ3R2yZA2H5Hr4ztJkD0n8VQSP8mQBDBQ/IDESdALOLBk78iJ0BIA0A1ezQnQGMkvtY2RidAf0U8ePJXJ0CaZroZrmknQLaHOLtpeydA0qi2XCWNJ0DuyTT+4J4nQArrsp+csCdAJgwxQVjCJ0BBLa/iE9QnQFxOLYTP5SdAeG+rJYv3J0CUkCnHRgkoQLCxp2gCGyhAzNIlCr4sKEDo86OreT4oQAMVIk01UChAHzag7vBhKEA6Vx6QrHMoQFZ4nDFohShAcpka0yOXKECOuph036goQKrbFhabuihAxfyUt1bMKEDhHRNZEt4oQPw+kfrN7yhAGGAPnIkBKUA0gY09RRMpQFCiC98AJSlAbMOJgLw2KUCH5AcieEgpQKMFhsMzWilAviYEZe9rKUDaR4IGq30pQPZoAKhmjylAEop+SSKhKUAuq/zq3bIpQErMeoyZxClAZe34LVXWKUCBDnfPEOgpQJwv9XDM+SlAuFBzEogLKkDUcfGzQx0qQPCSb1X/LipADLTt9rpAKkAn1WuYdlIqQEP26TkyZCpAXhdo2+11KkB6OOZ8qYcqQJZZZB5lmSpAsnrivyCrKkDOm2Bh3LwqQOm83gKYzipABd5cpFPgKkAg/9pFD/IqQDwgWefKAytAWEHXiIYVK0B0YlUqQicrQJCD08v9OCtArKRRbblKK0DHxc8OdVwrQOPmTbAwbitA/gfMUex/K0AaKUrzp5ErQDZKyJRjoytAUmtGNh+1K0BujMTX2sYrQImtQnmW2CtApc7AGlLqK0DA7z68DfwrQNwQvV3JDSxA+DE7/4QfLEAUU7mgQDEsQDB0N0L8QixAS5W147dULEBntjOFc2YsQILXsSYveCxAnvgvyOqJLEC6Ga5pppssQNY6LAtirSxA8luqrB2/LEAOfShO2dAsQCmepu+U4ixARb8kkVD0LEBg4KIyDAYtQHwBIdTHFy1AmCKfdYMpLUC0Qx0XPzstQNBkm7j6TC1A64UZWrZeLUAHp5f7cXAtQCLIFZ0tgi1APumTPumTLUBaChLgpKUtQHYrkIFgty1AkkwOIxzJLUCtbYzE19otQMmOCmaT7C1A5K+IB0/+LUAA0QapChAuQBzyhErGIS5AOBMD7IEzLkBUNIGNPUUuQG9V/y75Vi5Ai3Z90LRoLkCnl/txcHouQMK4eRMsjC5A3tn3tOedLkD6+nVWo68uQBYc9PdewS5AMT1ymRrTLkBNXvA61uQuQGl/btyR9i5AhaDsfU0IL0CgwWofCRovQLzi6MDEKy9A2ANnYoA9L0DzJOUDPE8vQA9GY6X3YC9AK2fhRrNyL0BHiF/oboQvQGKp3Ykqli9AfspbK+anL0Ca69nMobkvQLYMWG5dyy9A0S3WDxndL0DtTlSx1O4vQAQ4aSlIADBAkkgo+iUJMEAgWefKAxIwQK5pppvhGjBAPHplbL8jMEDKiiQ9nSwwQFib4w17NTBA5qui3lg+MEB0vGGvNkcwQAHNIIAUUDBAj93fUPJYMEAd7p4h0GEwQKr+XfKtajBAOA8dw4tzMEDGH9yTaXwwQFQwm2RHhTBA4kBaNSWOMEBwURkGA5cwQP5h2NbgnzBAjHKXp76oMEAag1Z4nLEwQKiTFUl6ujBANqTUGVjDMEDDtJPqNcwwQFHFUrsT1TBA39URjPHdMEBt5tBcz+YwQPr2jy2t7zBAiAdP/or4MEAWGA7PaAExQKQozZ9GCjFAMjmMcCQTMUDASUtBAhwxQE5aChLgJDFA3GrJ4r0tMUBqe4izmzYxQPiLR4R5PzFAhpwGVVdIMUATrcUlNVExQKG9hPYSWjFAL85Dx/BiMUC93gKYzmsxQErvwWisdDFA2P+AOYp9MUBmEEAKaIYxQPQg/9pFjzFAgjG+qyOYMUAQQn18AaExQJ5SPE3fqTFALGP7Hb2yMUC6c7rumrsxQEiEeb94xDFA1pQ4kFbNMUBjpfdgNNYxQPG1tjES3zFAf8Z1AvDnMUAM1zTTzfAxQJrn86Or+TFAKPiydIkCMkC2CHJFZwsyQEQZMRZFFDJA0inw5iIdMkBgOq+3ACYyQO5KbojeLjJAfFstWbw3MkAKbOwpmkAyQJh8q/p3STJAJY1qy1VSMkCznSmcM1syQEGu6GwRZDJAz76nPe9sMkBcz2YOzXUyQOrfJd+qfjJAePDkr4iHMkAGAaSAZpAyQJQRY1FEmTJAIiIiIiKiMkCwMuHy/6oyQD5DoMPdszJAzFNflLu8MkBaZB5lmcUyQOh03TV3zjJAdYWcBlXXMkADllvXMuAyQJGmGqgQ6TJAHrfZeO7xMkCsx5hJzPoyQDrYVxqqAzNAyOgW64cMM0BW+dW7ZRUzQOQJlYxDHjNAchpUXSEnM0AAKxMu/y8zQI470v7cODNAHEyRz7pBM0CqXFCgmEozQDdtD3F2UzNAxX3OQVRcM0BTjo0SMmUzQOGeTOMPbjNAbq8LtO12M0D8v8qEy38zQIrQiVWpiDNAGOFIJoeRM0Cm8Qf3ZJozQDQCx8dCozNAwhKGmCCsM0BQI0Vp/rQzQN4zBDrcvTNAbETDCrrGM0D6VILbl88zQIdlQax12DNAFXYAfVPhM0Cjhr9NMeozQDGXfh4P8zNAvqc97+z7M0BMuPy/ygQ0QNrIu5CoDTRAaNl6YYYWNED26TkyZB80QIT6+AJCKDRAEgu40x8xNECgG3ek/Tk0QC4sNnXbQjRAvDz1RblLNEBKTbQWl1Q0QNddc+d0XTRAZW4yuFJmNEDzfvGIMG80QICPsFkOeDRADqBvKuyANECcsC77yYk0QCrB7cunkjRAuNGsnIWbNEBG4mttY6Q0QNTyKj5BrTRAYgPqDh+2NEDwE6nf/L40QH4kaLDaxzRADDUngbjQNECZReZRltk0QCdWpSJ04jRAtWZk81HrNEBDdyPEL/Q0QNCH4pQN/TRAXpihZesFNUDsqGA2yQ41QHq5HwenFzVACMre14QgNUCW2p2oYik1QCTrXHlAMjVAsvsbSh47NUBADNsa/EM1QM4cmuvZTDVAXC1ZvLdVNUDpPRiNlV41QHdO111zZzVABV+WLlFwNUCTb1X/Lnk1QCCAFNAMgjVArpDToOqKNUA8oZJxyJM1QMqxUUKmnDVAWMIQE4SlNUDm0s/jYa41QHTjjrQ/tzVAAvRNhR3ANUCQBA1W+8g1QB4VzCbZ0TVArCWL97baNUA5NkrIlOM1QMdGCZly7DVAVVfIaVD1NUDiZ4c6Lv41QHB4RgsMBzZA/ogF3OkPNkCMmcSsxxg2QBqqg32lITZAqLpCToMqNkA2ywEfYTM2QMTbwO8+PDZAUux/wBxFNkDg/D6R+k02QG4N/mHYVjZA+x29MrZfNkCJLnwDlGg2QBc/O9RxcTZApU/6pE96NkAyYLl1LYM2QMBweEYLjDZAToE3F+mUNkDckfbnxp02QGqitbikpjZA+LJ0iYKvNkCGwzNaYLg2QBTU8io+wTZAouSx+xvKNkAw9XDM+dI2QL4FMJ3X2zZASxbvbbXkNkDZJq4+k+02QGc3bQ9x9jZA9Ecs4E7/NkCCWOuwLAg3QBBpqoEKETdAnnlpUugZN0AsiigjxiI3QLqa5/OjKzdASKumxIE0N0DWu2WVXz03QGTMJGY9RjdA8tzjNhtPN0CA7aIH+Vc3QA7+YdjWYDdAnA4hqbRpN0AoH+B5knI3QLYvn0pwezdAREBeG06EN0DSUB3sK403QGBh3LwJljdA7nGbjeeeN0B8glpexac3QAqTGS+jsDdAmKPY/4C5N0AmtJfQXsI3QLTEVqE8yzdAQtUVchrUN0DQ5dRC+Nw3QF72kxPW5TdA7AZT5LPuN0B4FxK1kfc3QAYo0YVvADhAlDiQVk0JOEAiSU8nKxI4QLBZDvgIGzhAPmrNyOYjOEDMeoyZxCw4QFqLS2qiNThA6JsKO4A+OEB2rMkLXkc4QAS9iNw7UDhAks1HrRlZOEAg3gZ+92E4QK7uxU7VajhAPP+EH7NzOEDID0TwkHw4QFYgA8FuhThA5DDCkUyOOEByQYFiKpc4QABSQDMIoDhAjmL/A+aoOEAcc77Uw7E4QKqDfaWhujhAOJQ8dn/DOEDGpPtGXcw4QFS1uhc71ThA4sV56BjeOEBw1ji59uY4QP7m94nU7zhAive2WrL4OEAYCHYrkAE5QKYYNfxtCjlANCn0zEsTOUDCObOdKRw5QFBKcm4HJTlA3loxP+UtOUBsa/APwzY5QPp7r+CgPzlAiIxusX5IOUAWnS2CXFE5QKSt7FI6WjlAMr6rIxhjOUDAzmr09Ws5QE7fKcXTdDlA2u/olbF9OUBoAKhmj4Y5QPYQZzdtjzlAhCEmCEuYOUASMuXYKKE5QKBCpKkGqjlALlNjeuSyOUC8YyJLwrs5QEp04RugxDlA2ISg7H3NOUBmlV+9W9Y5QPSlHo453zlAgrbdXhfoOUAQx5wv9fA5QJzXWwDT+TlAKuga0bACOkC4+Nmhjgs6QEYJmXJsFDpA1BlYQ0odOkBiKhcUKCY6QPA61uQFLzpAfkuVteM3OkAMXFSGwUA6QJpsE1efSTpAKH3SJ31SOkC2jZH4Wls6QESeUMk4ZDpA0q4PmhZtOkBgv85q9HU6QOzPjTvSfjpAeuBMDLCHOkAI8QvdjZA6QJYBy61rmTpAJBKKfkmiOkCyIklPJ6s6QEAzCCAFtDpAzkPH8OK8OkBcVIbBwMU6QOpkRZKezjpAeHUEY3zXOkAGhsMzWuA6QJSWggQ46TpAIqdB1RXyOkCwtwCm8/o6QDzIv3bRAztAyth+R68MO0BY6T0YjRU7QOb5/OhqHjtAdAq8uUgnO0ACG3uKJjA7QJArOlsEOTtAHjz5K+JBO0CsTLj8v0o7QDpdd82dUztAyG02nntcO0BWfvVuWWU7QOSOtD83bjtAcp9zEBV3O0D+rzLh8n87QIzA8bHQiDtAGtGwgq6RO0Co4W9TjJo7QDbyLiRqoztAxALu9EesO0BSE63FJbU7QOAjbJYDvjtAbjQrZ+HGO0D8ROo3v887QIpVqQid2DtAGGZo2XrhO0CmdieqWOo7QDSH5no28ztAwpelSxT8O0BOqGQc8gQ8QNy4I+3PDTxAasniva0WPED42aGOix88QIbqYF9pKDxAFPsfMEcxPECiC98AJTo8QDAcntECQzxAvixdouBLPEBMPRxzvlQ8QNpN20OcXTxAaF6aFHpmPED2blnlV288QIR/GLY1eDxAEpDXhhOBPECeoJZX8Yk8QCyxVSjPkjxAusEU+aybPEBI0tPJiqQ8QNbikpporTxAZPNRa0a2PEDyAxE8JL88QIAU0AwCyDxADiWP3d/QPECcNU6uvdk8QCpGDX+b4jxAuFbMT3nrPEBGZ4sgV/Q8QNR3SvE0/TxAYIgJwhIGPUDumMiS8A49QHyph2POFz1ACrpGNKwgPUCYygUFiik9QCbbxNVnMj1AtOuDpkU7PUBC/EJ3I0Q9QNAMAkgBTT1AXh3BGN9VPUDsLYDpvF49QHo+P7qaZz1ACE/+inhwPUCWX71bVnk9QCRwfCw0gj1AsIA7/RGLPUA+kfrN75M9QMyhuZ7NnD1AWrJ4b6ulPUDowjdAia49QHbT9hBntz1ABOS14UTAPUCS9HSyIsk9QCAFNIMA0j1ArhXzU97aPUA8JrIkvOM9QMo2cfWZ7D1AWEcwxnf1PUDmV++WVf49QHJormczBz5AAHltOBEQPkCOiSwJ7xg+QBya69nMIT5AqqqqqqoqPkA4u2l7iDM+QMbLKExmPD5AVNznHERFPkDi7KbtIU4+QHD9Zb7/Vj5A/g0lj91fPkCMHuRfu2g+QBovozCZcT5AqD9iAXd6PkA2UCHSVIM+QMJg4KIyjD5AUHGfcxCVPkDegV5E7p0+QGySHRXMpj5A+qLc5amvPkCIs5u2h7g+QBbEWodlwT5ApNQZWEPKPkAy5dgoIdM+QMD1l/n+2z5ATgZXytzkPkDcFhabuu0+QGon1WuY9j5A+DeUPHb/PkCGSFMNVAg/QBJZEt4xET9AoGnRrg8aP0AuepB/7SI/QLyKT1DLKz9ASpsOIak0P0DYq83xhj0/QGa8jMJkRj9A9MxLk0JPP0CC3QpkIFg/QBDuyTT+YD9Anv6IBdxpP0AsD0jWuXI/QLofB6eXez9ASDDGd3WEP0DUQIVIU40/QGJRRBkxlj9A8GED6g6fP0B+csK67Kc/QAyDgYvKsD9AmpNAXKi5P0AopP8shsI/QLa0vv1jyz9ARMV9zkHUP0DS1TyfH90/QGDm+2/95T9A7va6QNvuP0B8B3oRufc/QAWMHHFLAEBATBR8WboEQECSnNtBKQlAQNkkOyqYDUBAIK2aEgcSQEBnNfr6dRZAQK69WePkGkBA9UW5y1MfQEA8zhi0wiNAQINWeJwxKEBAyt7XhKAsQEARZzdtDzFAQFjvllV+NUBAn3f2Pe05QEDm/1UmXD5AQC2ItQ7LQkBAdBAV9zlHQEC6mHTfqEtAQAEh1McXUEBASKkzsIZUQECPMZOY9VhAQNa58oBkXUBAHUJSadNhQEBkyrFRQmZAQKtSETqxakBA8tpwIiBvQEA5Y9AKj3NAQIDrL/P9d0BAx3OP22x8QEAO/O7D24BAQFWETqxKhUBAmwyulLmJQEDilA19KI5AQCkdbWWXkkBAcKXMTQaXQEC3LSw2dZtAQP61ix7kn0BART7rBlOkQECMxkrvwahAQNNOqtcwrUBAGtcJwJ+xQEBhX2moDrZAQKjnyJB9ukBA728oeey+QEA2+IdhW8NAQH2A50nKx0BAwwhHMjnMQEAKkaYaqNBAQFEZBgMX1UBAmKFl64XZQEDfKcXT9N1AQCayJLxj4kBAbTqEpNLmQEC0wuOMQetAQPtKQ3Ww70BAQtOiXR/0QECJWwJGjvhAQNDjYS79/EBAF2zBFmwBQUBe9CD/2gVBQKR8gOdJCkFA6wTgz7gOQUAyjT+4JxNBQHkVn6CWF0FAwJ3+iAUcQUAHJl5xdCBBQE6uvVnjJEFAlTYdQlIpQUDcvnwqwS1BQCNH3BIwMkFAas87+542QUCxV5vjDTtBQPjf+st8P0FAP2hatOtDQUCG8LmcWkhBQMx4GYXJTEFAEwF5bThRQUBaidhVp1VBQKEROD4WWkFA6JmXJoVeQUAvIvcO9GJBQHaqVvdiZ0FAvTK239FrQUAEuxXIQHBBQEtDdbCvdEFAksvUmB55QUDZUzSBjX1BQCDck2n8gUFAZ2TzUWuGQUCu7FI62opBQPR0siJJj0FAO/0RC7iTQUCChXHzJphBQMkN0duVnEFAEJYwxAShQUBXHpCsc6VBQJ6m75TiqUFA5S5PfVGuQUAst65lwLJBQHM/Dk4vt0FAusdtNp67QUABUM0eDcBBQEjYLAd8xEFAj2CM7+rIQUDV6OvXWc1BQBxxS8DI0UFAY/mqqDfWQUCqgQqRptpBQPEJankV30FAOJLJYYTjQUB/GilK8+dBQMaiiDJi7EFADSvoGtHwQUBUs0cDQPVBQJs7p+uu+UFA4sMG1B3+QUApTGa8jAJCQHDUxaT7BkJAt1wljWoLQkD95IR12Q9CQERt5F1IFEJAi/VDRrcYQkDSfaMuJh1CQBkGAxeVIUJAYI5i/wMmQkCnFsLncipCQO6eIdDhLkJANSeBuFAzQkB8r+CgvzdCQMM3QIkuPEJACsCfcZ1AQkBRSP9ZDEVCQJjQXkJ7SUJA31i+KupNQkAl4R0TWVJCQGxpffvHVkJAs/Hc4zZbQkD6eTzMpV9CQEECnLQUZEJAiIr7nINoQkDPEluF8mxCQBabum1hcUJAXSMaVtB1QkCkq3k+P3pCQOsz2SaufkJAMrw4Dx2DQkB5RJj3i4dCQMDM99/6i0JABlVXyGmQQkBN3baw2JRCQJRlFplHmUJA2+11gbadQkAidtVpJaJCQGn+NFKUpkJAsIaUOgOrQkD3DvQicq9CQD6XUwvhs0JAhR+z80+4QkDMpxLcvrxCQBMwcsQtwUJAWrjRrJzFQkChQDGVC8pCQOjIkH16zkJALlHwZenSQkB12U9OWNdCQLxhrzbH20JAA+oOHzbgQkBKcm4HpeRCQJH6ze8T6UJA2IIt2ILtQkAfC43A8fFCQGaT7Khg9kJArRtMkc/6QkD0o6t5Pv9CQDssC2KtA0NAgrRqShwIQ0DJPMoyiwxDQBDFKRv6EENAVk2JA2kVQ0Cd1ejr1xlDQORdSNRGHkNAK+anvLUiQ0BybgelJCdDQLn2Zo2TK0NAAH/GdQIwQ0BHByZecTRDQI6PhUbgOENA1RflLk89Q0AcoEQXvkFDQGMopP8sRkNAqrAD6JtKQ0DxOGPQCk9DQDfBwrh5U0NAfkkioehXQ0DF0YGJV1xDQAxa4XHGYENAU+JAWjVlQ0CaaqBCpGlDQOHy/yoTbkNAKHtfE4JyQ0BvA7/78HZDQLaLHuRfe0NA/RN+zM5/Q0BEnN20PYRDQIskPZ2siENA0qychRuNQ0AZNfxtipFDQGC9W1b5lUNAp0W7PmiaQ0DuzRon155DQDRWeg9Go0NAe97Z97SnQ0DCZjngI6xDQAnvmMiSsENAUHf4sAG1Q0CX/1eZcLlDQN6Ht4HfvUNAJRAXak7CQ0BsmHZSvcZDQLMg1josy0NA+qg1I5vPQ0BBMZULCtRDQIi59PN42ENAz0FU3OfcQ0AWyrPEVuFDQFxSE63F5UNAo9pylTTqQ0DqYtJ9o+5DQDHrMWYS80NAeHORToH3Q0C/+/A28PtDQAaEUB9fAERATQywB84ERECUlA/wPAlEQNscb9irDURAIqXOwBoSREBpLS6piRZEQLC1jZH4GkRA9z3teWcfREA+xkxi1iNEQIROrEpFKERAy9YLM7QsREASX2sbIzFEQFnnygOSNURAoG8q7AA6REDn94nUbz5EQC6A6bzeQkRAdQhJpU1HREC8kKiNvEtEQAMZCHYrUERASqFnXppURECRKcdGCVlEQNixJi94XURAHzqGF+dhREBlwuX/VWZEQKxKRejEakRA89Kk0DNvREA6WwS5onNEQIHjY6EReERAyGvDiYB8REAP9CJy74BEQFZ8glpehURAnQTiQs2JREDkjEErPI5EQCsVoROrkkRAcp0A/BmXREC5JWDkiJtEQACuv8z3n0RARzYftWakRECNvn6d1ahEQNRG3oVErURAG889brOxREBiV51WIrZEQKnf/D6RukRA8GdcJwC/REA38LsPb8NEQH54G/jdx0RAxQB74EzMREAMidrIu9BEQFMROrEq1URAmpmZmZnZREA=",
          "dtype": "f8"
         },
         "xaxis": "x",
         "y": {
          "bdata": "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",
          "dtype": "f8"
         },
         "yaxis": "y"
        },
        {
         "histnorm": "percent",
         "marker": {
          "color": "#d3e671"
         },
         "name": "Environment Risk Score Histogram",
         "nbinsx": 25,
         "opacity": 0.7,
         "showlegend": false,
         "type": "histogram",
         "x": {
          "bdata": "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",
          "dtype": "f8"
         },
         "xaxis": "x2",
         "yaxis": "y2"
        },
        {
         "line": {
          "color": "#d3e671",
          "width": 2
         },
         "mode": "lines",
         "name": "Environment Risk Score KDE",
         "showlegend": false,
         "type": "scatter",
         "x": {
          "bdata": "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",
          "dtype": "f8"
         },
         "xaxis": "x2",
         "y": {
          "bdata": "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",
          "dtype": "f8"
         },
         "yaxis": "y2"
        },
        {
         "histnorm": "percent",
         "marker": {
          "color": "#f8ed8c"
         },
         "name": "Governance Risk Score Histogram",
         "nbinsx": 25,
         "opacity": 0.7,
         "showlegend": false,
         "type": "histogram",
         "x": {
          "bdata": "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",
          "dtype": "f8"
         },
         "xaxis": "x3",
         "yaxis": "y3"
        },
        {
         "line": {
          "color": "#f8ed8c",
          "width": 2
         },
         "mode": "lines",
         "name": "Governance Risk Score KDE",
         "showlegend": false,
         "type": "scatter",
         "x": {
          "bdata": "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",
          "dtype": "f8"
         },
         "xaxis": "x3",
         "y": {
          "bdata": "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",
          "dtype": "f8"
         },
         "yaxis": "y3"
        },
        {
         "histnorm": "percent",
         "marker": {
          "color": "#ff8989"
         },
         "name": "Social Risk Score Histogram",
         "nbinsx": 25,
         "opacity": 0.7,
         "showlegend": false,
         "type": "histogram",
         "x": {
          "bdata": "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",
          "dtype": "f8"
         },
         "xaxis": "x4",
         "yaxis": "y4"
        },
        {
         "line": {
          "color": "#ff8989",
          "width": 2
         },
         "mode": "lines",
         "name": "Social Risk Score KDE",
         "showlegend": false,
         "type": "scatter",
         "x": {
          "bdata": "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",
          "dtype": "f8"
         },
         "xaxis": "x4",
         "y": {
          "bdata": "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",
          "dtype": "f8"
         },
         "yaxis": "y4"
        }
       ],
       "layout": {
        "annotations": [
         {
          "font": {
           "size": 16
          },
          "showarrow": false,
          "text": "Total ESG Risk score",
          "x": 0.10625,
          "xanchor": "center",
          "xref": "paper",
          "y": 1,
          "yanchor": "bottom",
          "yref": "paper"
         },
         {
          "font": {
           "size": 16
          },
          "showarrow": false,
          "text": "Environment Risk Score",
          "x": 0.36875,
          "xanchor": "center",
          "xref": "paper",
          "y": 1,
          "yanchor": "bottom",
          "yref": "paper"
         },
         {
          "font": {
           "size": 16
          },
          "showarrow": false,
          "text": "Governance Risk Score",
          "x": 0.6312500000000001,
          "xanchor": "center",
          "xref": "paper",
          "y": 1,
          "yanchor": "bottom",
          "yref": "paper"
         },
         {
          "font": {
           "size": 16
          },
          "showarrow": false,
          "text": "Social Risk Score",
          "x": 0.89375,
          "xanchor": "center",
          "xref": "paper",
          "y": 1,
          "yanchor": "bottom",
          "yref": "paper"
         }
        ],
        "bargap": 0.1,
        "height": 600,
        "showlegend": true,
        "template": {
         "data": {
          "bar": [
           {
            "error_x": {
             "color": "#2a3f5f"
            },
            "error_y": {
             "color": "#2a3f5f"
            },
            "marker": {
             "line": {
              "color": "#E5ECF6",
              "width": 0.5
             },
             "pattern": {
              "fillmode": "overlay",
              "size": 10,
              "solidity": 0.2
             }
            },
            "type": "bar"
           }
          ],
          "barpolar": [
           {
            "marker": {
             "line": {
              "color": "#E5ECF6",
              "width": 0.5
             },
             "pattern": {
              "fillmode": "overlay",
              "size": 10,
              "solidity": 0.2
             }
            },
            "type": "barpolar"
           }
          ],
          "carpet": [
           {
            "aaxis": {
             "endlinecolor": "#2a3f5f",
             "gridcolor": "white",
             "linecolor": "white",
             "minorgridcolor": "white",
             "startlinecolor": "#2a3f5f"
            },
            "baxis": {
             "endlinecolor": "#2a3f5f",
             "gridcolor": "white",
             "linecolor": "white",
             "minorgridcolor": "white",
             "startlinecolor": "#2a3f5f"
            },
            "type": "carpet"
           }
          ],
          "choropleth": [
           {
            "colorbar": {
             "outlinewidth": 0,
             "ticks": ""
            },
            "type": "choropleth"
           }
          ],
          "contour": [
           {
            "colorbar": {
             "outlinewidth": 0,
             "ticks": ""
            },
            "colorscale": [
             [
              0,
              "#0d0887"
             ],
             [
              0.1111111111111111,
              "#46039f"
             ],
             [
              0.2222222222222222,
              "#7201a8"
             ],
             [
              0.3333333333333333,
              "#9c179e"
             ],
             [
              0.4444444444444444,
              "#bd3786"
             ],
             [
              0.5555555555555556,
              "#d8576b"
             ],
             [
              0.6666666666666666,
              "#ed7953"
             ],
             [
              0.7777777777777778,
              "#fb9f3a"
             ],
             [
              0.8888888888888888,
              "#fdca26"
             ],
             [
              1,
              "#f0f921"
             ]
            ],
            "type": "contour"
           }
          ],
          "contourcarpet": [
           {
            "colorbar": {
             "outlinewidth": 0,
             "ticks": ""
            },
            "type": "contourcarpet"
           }
          ],
          "heatmap": [
           {
            "colorbar": {
             "outlinewidth": 0,
             "ticks": ""
            },
            "colorscale": [
             [
              0,
              "#0d0887"
             ],
             [
              0.1111111111111111,
              "#46039f"
             ],
             [
              0.2222222222222222,
              "#7201a8"
             ],
             [
              0.3333333333333333,
              "#9c179e"
             ],
             [
              0.4444444444444444,
              "#bd3786"
             ],
             [
              0.5555555555555556,
              "#d8576b"
             ],
             [
              0.6666666666666666,
              "#ed7953"
             ],
             [
              0.7777777777777778,
              "#fb9f3a"
             ],
             [
              0.8888888888888888,
              "#fdca26"
             ],
             [
              1,
              "#f0f921"
             ]
            ],
            "type": "heatmap"
           }
          ],
          "histogram": [
           {
            "marker": {
             "pattern": {
              "fillmode": "overlay",
              "size": 10,
              "solidity": 0.2
             }
            },
            "type": "histogram"
           }
          ],
          "histogram2d": [
           {
            "colorbar": {
             "outlinewidth": 0,
             "ticks": ""
            },
            "colorscale": [
             [
              0,
              "#0d0887"
             ],
             [
              0.1111111111111111,
              "#46039f"
             ],
             [
              0.2222222222222222,
              "#7201a8"
             ],
             [
              0.3333333333333333,
              "#9c179e"
             ],
             [
              0.4444444444444444,
              "#bd3786"
             ],
             [
              0.5555555555555556,
              "#d8576b"
             ],
             [
              0.6666666666666666,
              "#ed7953"
             ],
             [
              0.7777777777777778,
              "#fb9f3a"
             ],
             [
              0.8888888888888888,
              "#fdca26"
             ],
             [
              1,
              "#f0f921"
             ]
            ],
            "type": "histogram2d"
           }
          ],
          "histogram2dcontour": [
           {
            "colorbar": {
             "outlinewidth": 0,
             "ticks": ""
            },
            "colorscale": [
             [
              0,
              "#0d0887"
             ],
             [
              0.1111111111111111,
              "#46039f"
             ],
             [
              0.2222222222222222,
              "#7201a8"
             ],
             [
              0.3333333333333333,
              "#9c179e"
             ],
             [
              0.4444444444444444,
              "#bd3786"
             ],
             [
              0.5555555555555556,
              "#d8576b"
             ],
             [
              0.6666666666666666,
              "#ed7953"
             ],
             [
              0.7777777777777778,
              "#fb9f3a"
             ],
             [
              0.8888888888888888,
              "#fdca26"
             ],
             [
              1,
              "#f0f921"
             ]
            ],
            "type": "histogram2dcontour"
           }
          ],
          "mesh3d": [
           {
            "colorbar": {
             "outlinewidth": 0,
             "ticks": ""
            },
            "type": "mesh3d"
           }
          ],
          "parcoords": [
           {
            "line": {
             "colorbar": {
              "outlinewidth": 0,
              "ticks": ""
             }
            },
            "type": "parcoords"
           }
          ],
          "pie": [
           {
            "automargin": true,
            "type": "pie"
           }
          ],
          "scatter": [
           {
            "fillpattern": {
             "fillmode": "overlay",
             "size": 10,
             "solidity": 0.2
            },
            "type": "scatter"
           }
          ],
          "scatter3d": [
           {
            "line": {
             "colorbar": {
              "outlinewidth": 0,
              "ticks": ""
             }
            },
            "marker": {
             "colorbar": {
              "outlinewidth": 0,
              "ticks": ""
             }
            },
            "type": "scatter3d"
           }
          ],
          "scattercarpet": [
           {
            "marker": {
             "colorbar": {
              "outlinewidth": 0,
              "ticks": ""
             }
            },
            "type": "scattercarpet"
           }
          ],
          "scattergeo": [
           {
            "marker": {
             "colorbar": {
              "outlinewidth": 0,
              "ticks": ""
             }
            },
            "type": "scattergeo"
           }
          ],
          "scattergl": [
           {
            "marker": {
             "colorbar": {
              "outlinewidth": 0,
              "ticks": ""
             }
            },
            "type": "scattergl"
           }
          ],
          "scattermap": [
           {
            "marker": {
             "colorbar": {
              "outlinewidth": 0,
              "ticks": ""
             }
            },
            "type": "scattermap"
           }
          ],
          "scattermapbox": [
           {
            "marker": {
             "colorbar": {
              "outlinewidth": 0,
              "ticks": ""
             }
            },
            "type": "scattermapbox"
           }
          ],
          "scatterpolar": [
           {
            "marker": {
             "colorbar": {
              "outlinewidth": 0,
              "ticks": ""
             }
            },
            "type": "scatterpolar"
           }
          ],
          "scatterpolargl": [
           {
            "marker": {
             "colorbar": {
              "outlinewidth": 0,
              "ticks": ""
             }
            },
            "type": "scatterpolargl"
           }
          ],
          "scatterternary": [
           {
            "marker": {
             "colorbar": {
              "outlinewidth": 0,
              "ticks": ""
             }
            },
            "type": "scatterternary"
           }
          ],
          "surface": [
           {
            "colorbar": {
             "outlinewidth": 0,
             "ticks": ""
            },
            "colorscale": [
             [
              0,
              "#0d0887"
             ],
             [
              0.1111111111111111,
              "#46039f"
             ],
             [
              0.2222222222222222,
              "#7201a8"
             ],
             [
              0.3333333333333333,
              "#9c179e"
             ],
             [
              0.4444444444444444,
              "#bd3786"
             ],
             [
              0.5555555555555556,
              "#d8576b"
             ],
             [
              0.6666666666666666,
              "#ed7953"
             ],
             [
              0.7777777777777778,
              "#fb9f3a"
             ],
             [
              0.8888888888888888,
              "#fdca26"
             ],
             [
              1,
              "#f0f921"
             ]
            ],
            "type": "surface"
           }
          ],
          "table": [
           {
            "cells": {
             "fill": {
              "color": "#EBF0F8"
             },
             "line": {
              "color": "white"
             }
            },
            "header": {
             "fill": {
              "color": "#C8D4E3"
             },
             "line": {
              "color": "white"
             }
            },
            "type": "table"
           }
          ]
         },
         "layout": {
          "annotationdefaults": {
           "arrowcolor": "#2a3f5f",
           "arrowhead": 0,
           "arrowwidth": 1
          },
          "autotypenumbers": "strict",
          "coloraxis": {
           "colorbar": {
            "outlinewidth": 0,
            "ticks": ""
           }
          },
          "colorscale": {
           "diverging": [
            [
             0,
             "#8e0152"
            ],
            [
             0.1,
             "#c51b7d"
            ],
            [
             0.2,
             "#de77ae"
            ],
            [
             0.3,
             "#f1b6da"
            ],
            [
             0.4,
             "#fde0ef"
            ],
            [
             0.5,
             "#f7f7f7"
            ],
            [
             0.6,
             "#e6f5d0"
            ],
            [
             0.7,
             "#b8e186"
            ],
            [
             0.8,
             "#7fbc41"
            ],
            [
             0.9,
             "#4d9221"
            ],
            [
             1,
             "#276419"
            ]
           ],
           "sequential": [
            [
             0,
             "#0d0887"
            ],
            [
             0.1111111111111111,
             "#46039f"
            ],
            [
             0.2222222222222222,
             "#7201a8"
            ],
            [
             0.3333333333333333,
             "#9c179e"
            ],
            [
             0.4444444444444444,
             "#bd3786"
            ],
            [
             0.5555555555555556,
             "#d8576b"
            ],
            [
             0.6666666666666666,
             "#ed7953"
            ],
            [
             0.7777777777777778,
             "#fb9f3a"
            ],
            [
             0.8888888888888888,
             "#fdca26"
            ],
            [
             1,
             "#f0f921"
            ]
           ],
           "sequentialminus": [
            [
             0,
             "#0d0887"
            ],
            [
             0.1111111111111111,
             "#46039f"
            ],
            [
             0.2222222222222222,
             "#7201a8"
            ],
            [
             0.3333333333333333,
             "#9c179e"
            ],
            [
             0.4444444444444444,
             "#bd3786"
            ],
            [
             0.5555555555555556,
             "#d8576b"
            ],
            [
             0.6666666666666666,
             "#ed7953"
            ],
            [
             0.7777777777777778,
             "#fb9f3a"
            ],
            [
             0.8888888888888888,
             "#fdca26"
            ],
            [
             1,
             "#f0f921"
            ]
           ]
          },
          "colorway": [
           "#636efa",
           "#EF553B",
           "#00cc96",
           "#ab63fa",
           "#FFA15A",
           "#19d3f3",
           "#FF6692",
           "#B6E880",
           "#FF97FF",
           "#FECB52"
          ],
          "font": {
           "color": "#2a3f5f"
          },
          "geo": {
           "bgcolor": "white",
           "lakecolor": "white",
           "landcolor": "#E5ECF6",
           "showlakes": true,
           "showland": true,
           "subunitcolor": "white"
          },
          "hoverlabel": {
           "align": "left"
          },
          "hovermode": "closest",
          "mapbox": {
           "style": "light"
          },
          "paper_bgcolor": "white",
          "plot_bgcolor": "#E5ECF6",
          "polar": {
           "angularaxis": {
            "gridcolor": "white",
            "linecolor": "white",
            "ticks": ""
           },
           "bgcolor": "#E5ECF6",
           "radialaxis": {
            "gridcolor": "white",
            "linecolor": "white",
            "ticks": ""
           }
          },
          "scene": {
           "xaxis": {
            "backgroundcolor": "#E5ECF6",
            "gridcolor": "white",
            "gridwidth": 2,
            "linecolor": "white",
            "showbackground": true,
            "ticks": "",
            "zerolinecolor": "white"
           },
           "yaxis": {
            "backgroundcolor": "#E5ECF6",
            "gridcolor": "white",
            "gridwidth": 2,
            "linecolor": "white",
            "showbackground": true,
            "ticks": "",
            "zerolinecolor": "white"
           },
           "zaxis": {
            "backgroundcolor": "#E5ECF6",
            "gridcolor": "white",
            "gridwidth": 2,
            "linecolor": "white",
            "showbackground": true,
            "ticks": "",
            "zerolinecolor": "white"
           }
          },
          "shapedefaults": {
           "line": {
            "color": "#2a3f5f"
           }
          },
          "ternary": {
           "aaxis": {
            "gridcolor": "white",
            "linecolor": "white",
            "ticks": ""
           },
           "baxis": {
            "gridcolor": "white",
            "linecolor": "white",
            "ticks": ""
           },
           "bgcolor": "#E5ECF6",
           "caxis": {
            "gridcolor": "white",
            "linecolor": "white",
            "ticks": ""
           }
          },
          "title": {
           "x": 0.05
          },
          "xaxis": {
           "automargin": true,
           "gridcolor": "white",
           "linecolor": "white",
           "ticks": "",
           "title": {
            "standoff": 15
           },
           "zerolinecolor": "white",
           "zerolinewidth": 2
          },
          "yaxis": {
           "automargin": true,
           "gridcolor": "white",
           "linecolor": "white",
           "ticks": "",
           "title": {
            "standoff": 15
           },
           "zerolinecolor": "white",
           "zerolinewidth": 2
          }
         }
        },
        "title": {
         "text": "Distribution of ESG Scores with KDE Lines",
         "x": 0.5,
         "y": 0.98
        },
        "width": 1200,
        "xaxis": {
         "anchor": "y",
         "domain": [
          0,
          0.2125
         ],
         "showgrid": false
        },
        "xaxis2": {
         "anchor": "y2",
         "domain": [
          0.2625,
          0.475
         ],
         "showgrid": false
        },
        "xaxis3": {
         "anchor": "y3",
         "domain": [
          0.525,
          0.7375
         ],
         "showgrid": false
        },
        "xaxis4": {
         "anchor": "y4",
         "domain": [
          0.7875,
          1
         ],
         "showgrid": false
        },
        "yaxis": {
         "anchor": "x",
         "domain": [
          0,
          1
         ],
         "showgrid": false
        },
        "yaxis2": {
         "anchor": "x2",
         "domain": [
          0,
          1
         ],
         "showgrid": false
        },
        "yaxis3": {
         "anchor": "x3",
         "domain": [
          0,
          1
         ],
         "showgrid": false
        },
        "yaxis4": {
         "anchor": "x4",
         "domain": [
          0,
          1
         ],
         "showgrid": false
        }
       }
      }
     },
     "metadata": {},
     "output_type": "display_data"
    }
   ],
   "source": [
    "import pandas as pd\n",
    "import plotly.graph_objects as go\n",
    "import plotly.express as px\n",
    "import numpy as np\n",
    "from scipy.stats import gaussian_kde\n",
    "from plotly.subplots import make_subplots\n",
    "\n",
    "\n",
    "esg_scores = df2_cleaned[['Total ESG Risk score', 'Environment Risk Score', 'Governance Risk Score', 'Social Risk Score', 'ESG Risk Level']]\n",
    "\n",
    "# Melt the dataframe\n",
    "esg_long = esg_scores.melt(id_vars=[\"ESG Risk Level\"], var_name=\"ESG Category\", value_name=\"Score\")\n",
    "esg_long[\"ESG Category\"] = esg_long[\"ESG Category\"].astype(\"category\")\n",
    "\n",
    "# Define category colors\n",
    "category_colors = {\n",
    "    \"Total ESG Risk score\": \"#89ac46\", \n",
    "    \"Environment Risk Score\": \"#d3e671\", \n",
    "    \"Governance Risk Score\": \"#f8ed8c\", \n",
    "    \"Social Risk Score\": \"#ff8989\"\n",
    "}\n",
    "\n",
    "def plot1():\n",
    "\n",
    "    # Create individual histograms for each ESG category\n",
    "    for col in esg_scores.columns[:-1]:  \n",
    "        \n",
    "        data = esg_long[esg_long['ESG Category'] == col]['Score']\n",
    "        \n",
    "        # Create a histogram using Plotly Express\n",
    "        fig = px.histogram(\n",
    "            data, \n",
    "            x=\"Score\", \n",
    "            nbins=25, \n",
    "            opacity=0.7, \n",
    "            title=f\"Distribution of {col}\", \n",
    "            color_discrete_sequence=[category_colors[col]],  # Use category-specific color\n",
    "            labels={\"Score\": \"ESG Score\", \"percent\": \"Percentage of Scores\"}  # Improve axis labels\n",
    "        )\n",
    "        \n",
    "        # Remove gridlines\n",
    "        fig.update_yaxes(showgrid=False, showticklabels=True, title_text=\"Percentage of Scores\")\n",
    "        fig.update_xaxes(showgrid=False, title_text=\"ESG Score\")\n",
    "        \n",
    "        # Adjust layout settings\n",
    "        fig.update_layout(\n",
    "            height=500,\n",
    "            width=800,\n",
    "            showlegend=False,\n",
    "            title_font_size=20,  \n",
    "            title_x=0.5,\n",
    "            font=dict(family=\"Arial\", size=12, color=\"black\") \n",
    "        )\n",
    "        \n",
    "        # Calculate KDE using scipy\n",
    "        kde = gaussian_kde(data)\n",
    "        x = np.linspace(data.min(), data.max(), 1000)  \n",
    "        y = kde(x)  # Calculate KDE values\n",
    "        \n",
    "        # Add a secondary y-axis for the KDE line\n",
    "        fig.update_layout(\n",
    "            yaxis2=dict(\n",
    "                title=\"Density\",\n",
    "                overlaying=\"y\", \n",
    "                side=\"right\",  # Place the secondary y-axis on the right\n",
    "                showgrid=False\n",
    "            )\n",
    "        )\n",
    "        \n",
    "        # Add a density line (KDE) to the histogram on the secondary y-axis\n",
    "        fig.add_trace(\n",
    "            go.Scatter(\n",
    "                x=x,\n",
    "                y=y,\n",
    "                mode='lines',\n",
    "                name=f'{col} KDE',  # KDE label\n",
    "                line=dict(color=category_colors[col], dash='solid', width=2),\n",
    "                showlegend=False,\n",
    "                yaxis=\"y2\"  \n",
    "            )\n",
    "        )\n",
    "        \n",
    "        # Add mean and median lines\n",
    "        mean = data.mean()\n",
    "        median = data.median()\n",
    "        \n",
    "        # Add mean line\n",
    "        fig.add_vline(\n",
    "            x=mean, \n",
    "            line=dict(color=\"red\", width=2, dash=\"dash\"), \n",
    "            annotation_text=f\"Mean: {mean:.2f}\", \n",
    "            annotation_position=\"top right\"\n",
    "        )\n",
    "        \n",
    "        # Add median line\n",
    "        fig.add_vline(\n",
    "\n",
    "            x=median, \n",
    "            line=dict(color=\"blue\", width=2, dash=\"dot\"), \n",
    "            annotation_text=f\"Median: {median:.2f}\", \n",
    "            annotation_position=\"bottom left\"\n",
    "        )\n",
    "\n",
    "        fig.update_traces(marker=dict(line=dict(color='grey', width=0.5)))  \n",
    "        \n",
    "        # Show plot\n",
    "        fig.show()\n",
    "\n",
    "def plot2(): \n",
    "\n",
    "    # Create a subplot with 1 row and 4 columns (for 4 categories)\n",
    "    fig = make_subplots(\n",
    "        rows=1, cols=4,  \n",
    "        shared_yaxes=False,  \n",
    "        column_titles=[\"Total ESG Risk score\", \"Environment Risk Score\", \"Governance Risk Score\", \"Social Risk Score\"]\n",
    "    )\n",
    "\n",
    "    # Add histograms and KDE lines to each subplot\n",
    "    for i, col in enumerate(esg_scores.columns[:-1]):\n",
    "        esg_category_data = esg_long[esg_long['ESG Category'] == col]\n",
    "        \n",
    "        # Create the histogram for each category\n",
    "        fig.add_trace(\n",
    "            go.Histogram(\n",
    "                x=esg_category_data['Score'],\n",
    "                nbinsx=25,\n",
    "                opacity=0.7,\n",
    "                histnorm=\"percent\",\n",
    "                marker_color=category_colors[col],\n",
    "                name=f\"{col} Histogram\", \n",
    "                showlegend = False\n",
    "            ),\n",
    "            row=1, col=i+1  # Place in the first row, i-th column\n",
    "        )\n",
    "\n",
    "        # Calculate KDE using scipy gaussian_kde\n",
    "        kde = gaussian_kde(esg_category_data['Score'].dropna())  # KDE calculation (remove NaNs)\n",
    "        x = np.linspace(esg_category_data['Score'].min(), esg_category_data['Score'].max(), 1000)  # X values for KDE line\n",
    "        y = kde(x)  # KDE values\n",
    "\n",
    "        # Add a KDE line to the plot\n",
    "        fig.add_trace(\n",
    "            go.Scatter(\n",
    "                x=x,\n",
    "                y=y * 100,  # Scale the KDE to match percentage values of histogram\n",
    "                mode=\"lines\",\n",
    "                name=f\"{col} KDE\",\n",
    "                line=dict(color=category_colors[col], width=2),\n",
    "                showlegend=False  # Prevent adding to legend\n",
    "            ),\n",
    "            row=1, col=i+1  # Place in the first row, i-th column\n",
    "        )\n",
    "\n",
    "    # Update layout\n",
    "    fig.update_layout(\n",
    "        height=600,\n",
    "        width=1200,\n",
    "        showlegend=True,  # Optionally show legend for the color mapping\n",
    "        title=\"Distribution of ESG Scores with KDE Lines\",\n",
    "        title_x=0.5,  # Center the title\n",
    "        title_y=0.98,  # Adjust the title positioning\n",
    "        bargap=0.1\n",
    "    )\n",
    "\n",
    "    # Remove gridlines and adjust axes\n",
    "    fig.update_yaxes(showgrid=False)\n",
    "    fig.update_xaxes(showgrid=False)\n",
    "\n",
    "    # Show plot\n",
    "    fig.show()\n",
    "\n",
    "plot1()\n",
    "plot2()\n",
    "\n"
   ]
  },
  {
   "cell_type": "code",
   "execution_count": 166,
   "metadata": {},
   "outputs": [
    {
     "name": "stderr",
     "output_type": "stream",
     "text": [
      "C:\\Users\\alyss\\AppData\\Local\\Temp\\ipykernel_8800\\3660596521.py:5: SettingWithCopyWarning:\n",
      "\n",
      "\n",
      "A value is trying to be set on a copy of a slice from a DataFrame.\n",
      "Try using .loc[row_indexer,col_indexer] = value instead\n",
      "\n",
      "See the caveats in the documentation: https://pandas.pydata.org/pandas-docs/stable/user_guide/indexing.html#returning-a-view-versus-a-copy\n",
      "\n"
     ]
    },
    {
     "data": {
      "application/vnd.plotly.v1+json": {
       "config": {
        "plotlyServerURL": "https://plot.ly"
       },
       "data": [
        {
         "hovertemplate": "Controversy Level=Severe<br>Sector=%{x}<br>Proportion=%{y}<br>text=%{text}<extra></extra>",
         "legendgroup": "Severe",
         "marker": {
          "color": "#e83715",
          "pattern": {
           "shape": ""
          }
         },
         "name": "Severe",
         "orientation": "v",
         "showlegend": true,
         "text": [
          "2%",
          "2%"
         ],
         "textposition": "auto",
         "type": "bar",
         "x": [
          "Financial Services",
          "Industrials"
         ],
         "xaxis": "x",
         "y": {
          "bdata": "EARBEARBkD8RERERERGRPw==",
          "dtype": "f8"
         },
         "yaxis": "y"
        },
        {
         "hovertemplate": "Controversy Level=Significant<br>Sector=%{x}<br>Proportion=%{y}<br>text=%{text}<extra></extra>",
         "legendgroup": "Significant",
         "marker": {
          "color": "#f26b21",
          "pattern": {
           "shape": ""
          }
         },
         "name": "Significant",
         "orientation": "v",
         "showlegend": true,
         "text": [
          "16%",
          "29%",
          "22%",
          "45%",
          "20%",
          "10%",
          "38%",
          "17%",
          "8%",
          "18%"
         ],
         "textposition": "auto",
         "type": "bar",
         "x": [
          "Basic Materials",
          "Communication Services",
          "Consumer Cyclical",
          "Consumer Defensive",
          "Energy",
          "Financial Services",
          "Healthcare",
          "Industrials",
          "Technology",
          "Utilities"
         ],
         "xaxis": "x",
         "y": {
          "bdata": "XkN5DeU1xD+SJEmSJEnSP5ybm5ubm8s/F1100UUX3T+amZmZmZnJPxiGYRiGYbg/8lb2OaQm2D9VVVVVVVXFP8kQrKPN+7Q/t23btm3bxj8=",
          "dtype": "f8"
         },
         "yaxis": "y"
        },
        {
         "hovertemplate": "Controversy Level=High<br>Sector=%{x}<br>Proportion=%{y}<br>text=%{text}<extra></extra>",
         "legendgroup": "High",
         "marker": {
          "color": "#f78e31",
          "pattern": {
           "shape": ""
          }
         },
         "name": "High",
         "orientation": "v",
         "showlegend": true,
         "text": [
          "5%",
          "14%",
          "2%",
          "3%",
          "3%",
          "2%",
          "3%",
          "4%"
         ],
         "textposition": "auto",
         "type": "bar",
         "x": [
          "Basic Materials",
          "Communication Services",
          "Consumer Cyclical",
          "Consumer Defensive",
          "Financial Services",
          "Healthcare",
          "Industrials",
          "Utilities"
         ],
         "xaxis": "x",
         "y": {
          "bdata": "KK+hvIbyqj+SJEmSJEnCPxQUFBQUFJQ/CB988MEHnz8QBEEQBEGgP8F4K/scUpM/ERERERERoT+SJEmSJEmiPw==",
          "dtype": "f8"
         },
         "yaxis": "y"
        },
        {
         "hovertemplate": "Controversy Level=Moderate<br>Sector=%{x}<br>Proportion=%{y}<br>text=%{text}<extra></extra>",
         "legendgroup": "Moderate",
         "marker": {
          "color": "#cbdb47",
          "pattern": {
           "shape": ""
          }
         },
         "name": "Moderate",
         "orientation": "v",
         "showlegend": true,
         "text": [
          "58%",
          "43%",
          "65%",
          "48%",
          "60%",
          "52%",
          "42%",
          "43%",
          "11%",
          "31%",
          "64%"
         ],
         "textposition": "auto",
         "type": "bar",
         "x": [
          "Basic Materials",
          "Communication Services",
          "Consumer Cyclical",
          "Consumer Defensive",
          "Energy",
          "Financial Services",
          "Healthcare",
          "Industrials",
          "Real Estate",
          "Technology",
          "Utilities"
         ],
         "xaxis": "x",
         "y": {
          "bdata": "bCivobyG4j/btm3btm3bP7W0tLS0tOQ/CB988MEH3z8zMzMzMzPjPzEMwzAMw+A/CsZb2eeQ2j+8u7u7u7vbP9u2bdu2bbs/JkOwjjbv0z8lSZIkSZLkPw==",
          "dtype": "f8"
         },
         "yaxis": "y"
        },
        {
         "hovertemplate": "Controversy Level=Low<br>Sector=%{x}<br>Proportion=%{y}<br>text=%{text}<extra></extra>",
         "legendgroup": "Low",
         "marker": {
          "color": "#208b3a",
          "pattern": {
           "shape": ""
          }
         },
         "name": "Low",
         "orientation": "v",
         "showlegend": true,
         "text": [
          "21%",
          "14%",
          "12%",
          "3%",
          "20%",
          "33%",
          "15%",
          "30%",
          "64%",
          "38%",
          "11%"
         ],
         "textposition": "auto",
         "type": "bar",
         "x": [
          "Basic Materials",
          "Communication Services",
          "Consumer Cyclical",
          "Consumer Defensive",
          "Energy",
          "Financial Services",
          "Healthcare",
          "Industrials",
          "Real Estate",
          "Technology",
          "Utilities"
         ],
         "xaxis": "x",
         "y": {
          "bdata": "KK+hvIbyyj+SJEmSJEnCPx4eHh4eHr4/CB988MEHnz+amZmZmZnJP1VVVVVVVdU/wXgr+xxSwz8zMzMzMzPTPyVJkiRJkuQ/tHmf4pIh2D/btm3btm27Pw==",
          "dtype": "f8"
         },
         "yaxis": "y"
        },
        {
         "hovertemplate": "Controversy Level=None<br>Sector=%{x}<br>Proportion=%{y}<br>text=%{text}<extra></extra>",
         "legendgroup": "None",
         "marker": {
          "color": "#fcec52",
          "pattern": {
           "shape": ""
          }
         },
         "name": "None",
         "orientation": "v",
         "showlegend": true,
         "text": [
          "4%",
          "5%",
          "25%",
          "23%",
          "4%"
         ],
         "textposition": "auto",
         "type": "bar",
         "x": [
          "Healthcare",
          "Industrials",
          "Real Estate",
          "Technology",
          "Utilities"
         ],
         "xaxis": "x",
         "y": {
          "bdata": "wXgr+xxSoz+amZmZmZmpPwAAAAAAANA/532KS4ZgzT+SJEmSJEmiPw==",
          "dtype": "f8"
         },
         "yaxis": "y"
        }
       ],
       "layout": {
        "barmode": "stack",
        "height": 600,
        "legend": {
         "title": {
          "text": "Controversy Level"
         },
         "tracegroupgap": 0
        },
        "margin": {
         "b": 100,
         "l": 100,
         "r": 100,
         "t": 100
        },
        "template": {
         "data": {
          "bar": [
           {
            "error_x": {
             "color": "#2a3f5f"
            },
            "error_y": {
             "color": "#2a3f5f"
            },
            "marker": {
             "line": {
              "color": "#E5ECF6",
              "width": 0.5
             },
             "pattern": {
              "fillmode": "overlay",
              "size": 10,
              "solidity": 0.2
             }
            },
            "type": "bar"
           }
          ],
          "barpolar": [
           {
            "marker": {
             "line": {
              "color": "#E5ECF6",
              "width": 0.5
             },
             "pattern": {
              "fillmode": "overlay",
              "size": 10,
              "solidity": 0.2
             }
            },
            "type": "barpolar"
           }
          ],
          "carpet": [
           {
            "aaxis": {
             "endlinecolor": "#2a3f5f",
             "gridcolor": "white",
             "linecolor": "white",
             "minorgridcolor": "white",
             "startlinecolor": "#2a3f5f"
            },
            "baxis": {
             "endlinecolor": "#2a3f5f",
             "gridcolor": "white",
             "linecolor": "white",
             "minorgridcolor": "white",
             "startlinecolor": "#2a3f5f"
            },
            "type": "carpet"
           }
          ],
          "choropleth": [
           {
            "colorbar": {
             "outlinewidth": 0,
             "ticks": ""
            },
            "type": "choropleth"
           }
          ],
          "contour": [
           {
            "colorbar": {
             "outlinewidth": 0,
             "ticks": ""
            },
            "colorscale": [
             [
              0,
              "#0d0887"
             ],
             [
              0.1111111111111111,
              "#46039f"
             ],
             [
              0.2222222222222222,
              "#7201a8"
             ],
             [
              0.3333333333333333,
              "#9c179e"
             ],
             [
              0.4444444444444444,
              "#bd3786"
             ],
             [
              0.5555555555555556,
              "#d8576b"
             ],
             [
              0.6666666666666666,
              "#ed7953"
             ],
             [
              0.7777777777777778,
              "#fb9f3a"
             ],
             [
              0.8888888888888888,
              "#fdca26"
             ],
             [
              1,
              "#f0f921"
             ]
            ],
            "type": "contour"
           }
          ],
          "contourcarpet": [
           {
            "colorbar": {
             "outlinewidth": 0,
             "ticks": ""
            },
            "type": "contourcarpet"
           }
          ],
          "heatmap": [
           {
            "colorbar": {
             "outlinewidth": 0,
             "ticks": ""
            },
            "colorscale": [
             [
              0,
              "#0d0887"
             ],
             [
              0.1111111111111111,
              "#46039f"
             ],
             [
              0.2222222222222222,
              "#7201a8"
             ],
             [
              0.3333333333333333,
              "#9c179e"
             ],
             [
              0.4444444444444444,
              "#bd3786"
             ],
             [
              0.5555555555555556,
              "#d8576b"
             ],
             [
              0.6666666666666666,
              "#ed7953"
             ],
             [
              0.7777777777777778,
              "#fb9f3a"
             ],
             [
              0.8888888888888888,
              "#fdca26"
             ],
             [
              1,
              "#f0f921"
             ]
            ],
            "type": "heatmap"
           }
          ],
          "histogram": [
           {
            "marker": {
             "pattern": {
              "fillmode": "overlay",
              "size": 10,
              "solidity": 0.2
             }
            },
            "type": "histogram"
           }
          ],
          "histogram2d": [
           {
            "colorbar": {
             "outlinewidth": 0,
             "ticks": ""
            },
            "colorscale": [
             [
              0,
              "#0d0887"
             ],
             [
              0.1111111111111111,
              "#46039f"
             ],
             [
              0.2222222222222222,
              "#7201a8"
             ],
             [
              0.3333333333333333,
              "#9c179e"
             ],
             [
              0.4444444444444444,
              "#bd3786"
             ],
             [
              0.5555555555555556,
              "#d8576b"
             ],
             [
              0.6666666666666666,
              "#ed7953"
             ],
             [
              0.7777777777777778,
              "#fb9f3a"
             ],
             [
              0.8888888888888888,
              "#fdca26"
             ],
             [
              1,
              "#f0f921"
             ]
            ],
            "type": "histogram2d"
           }
          ],
          "histogram2dcontour": [
           {
            "colorbar": {
             "outlinewidth": 0,
             "ticks": ""
            },
            "colorscale": [
             [
              0,
              "#0d0887"
             ],
             [
              0.1111111111111111,
              "#46039f"
             ],
             [
              0.2222222222222222,
              "#7201a8"
             ],
             [
              0.3333333333333333,
              "#9c179e"
             ],
             [
              0.4444444444444444,
              "#bd3786"
             ],
             [
              0.5555555555555556,
              "#d8576b"
             ],
             [
              0.6666666666666666,
              "#ed7953"
             ],
             [
              0.7777777777777778,
              "#fb9f3a"
             ],
             [
              0.8888888888888888,
              "#fdca26"
             ],
             [
              1,
              "#f0f921"
             ]
            ],
            "type": "histogram2dcontour"
           }
          ],
          "mesh3d": [
           {
            "colorbar": {
             "outlinewidth": 0,
             "ticks": ""
            },
            "type": "mesh3d"
           }
          ],
          "parcoords": [
           {
            "line": {
             "colorbar": {
              "outlinewidth": 0,
              "ticks": ""
             }
            },
            "type": "parcoords"
           }
          ],
          "pie": [
           {
            "automargin": true,
            "type": "pie"
           }
          ],
          "scatter": [
           {
            "fillpattern": {
             "fillmode": "overlay",
             "size": 10,
             "solidity": 0.2
            },
            "type": "scatter"
           }
          ],
          "scatter3d": [
           {
            "line": {
             "colorbar": {
              "outlinewidth": 0,
              "ticks": ""
             }
            },
            "marker": {
             "colorbar": {
              "outlinewidth": 0,
              "ticks": ""
             }
            },
            "type": "scatter3d"
           }
          ],
          "scattercarpet": [
           {
            "marker": {
             "colorbar": {
              "outlinewidth": 0,
              "ticks": ""
             }
            },
            "type": "scattercarpet"
           }
          ],
          "scattergeo": [
           {
            "marker": {
             "colorbar": {
              "outlinewidth": 0,
              "ticks": ""
             }
            },
            "type": "scattergeo"
           }
          ],
          "scattergl": [
           {
            "marker": {
             "colorbar": {
              "outlinewidth": 0,
              "ticks": ""
             }
            },
            "type": "scattergl"
           }
          ],
          "scattermap": [
           {
            "marker": {
             "colorbar": {
              "outlinewidth": 0,
              "ticks": ""
             }
            },
            "type": "scattermap"
           }
          ],
          "scattermapbox": [
           {
            "marker": {
             "colorbar": {
              "outlinewidth": 0,
              "ticks": ""
             }
            },
            "type": "scattermapbox"
           }
          ],
          "scatterpolar": [
           {
            "marker": {
             "colorbar": {
              "outlinewidth": 0,
              "ticks": ""
             }
            },
            "type": "scatterpolar"
           }
          ],
          "scatterpolargl": [
           {
            "marker": {
             "colorbar": {
              "outlinewidth": 0,
              "ticks": ""
             }
            },
            "type": "scatterpolargl"
           }
          ],
          "scatterternary": [
           {
            "marker": {
             "colorbar": {
              "outlinewidth": 0,
              "ticks": ""
             }
            },
            "type": "scatterternary"
           }
          ],
          "surface": [
           {
            "colorbar": {
             "outlinewidth": 0,
             "ticks": ""
            },
            "colorscale": [
             [
              0,
              "#0d0887"
             ],
             [
              0.1111111111111111,
              "#46039f"
             ],
             [
              0.2222222222222222,
              "#7201a8"
             ],
             [
              0.3333333333333333,
              "#9c179e"
             ],
             [
              0.4444444444444444,
              "#bd3786"
             ],
             [
              0.5555555555555556,
              "#d8576b"
             ],
             [
              0.6666666666666666,
              "#ed7953"
             ],
             [
              0.7777777777777778,
              "#fb9f3a"
             ],
             [
              0.8888888888888888,
              "#fdca26"
             ],
             [
              1,
              "#f0f921"
             ]
            ],
            "type": "surface"
           }
          ],
          "table": [
           {
            "cells": {
             "fill": {
              "color": "#EBF0F8"
             },
             "line": {
              "color": "white"
             }
            },
            "header": {
             "fill": {
              "color": "#C8D4E3"
             },
             "line": {
              "color": "white"
             }
            },
            "type": "table"
           }
          ]
         },
         "layout": {
          "annotationdefaults": {
           "arrowcolor": "#2a3f5f",
           "arrowhead": 0,
           "arrowwidth": 1
          },
          "autotypenumbers": "strict",
          "coloraxis": {
           "colorbar": {
            "outlinewidth": 0,
            "ticks": ""
           }
          },
          "colorscale": {
           "diverging": [
            [
             0,
             "#8e0152"
            ],
            [
             0.1,
             "#c51b7d"
            ],
            [
             0.2,
             "#de77ae"
            ],
            [
             0.3,
             "#f1b6da"
            ],
            [
             0.4,
             "#fde0ef"
            ],
            [
             0.5,
             "#f7f7f7"
            ],
            [
             0.6,
             "#e6f5d0"
            ],
            [
             0.7,
             "#b8e186"
            ],
            [
             0.8,
             "#7fbc41"
            ],
            [
             0.9,
             "#4d9221"
            ],
            [
             1,
             "#276419"
            ]
           ],
           "sequential": [
            [
             0,
             "#0d0887"
            ],
            [
             0.1111111111111111,
             "#46039f"
            ],
            [
             0.2222222222222222,
             "#7201a8"
            ],
            [
             0.3333333333333333,
             "#9c179e"
            ],
            [
             0.4444444444444444,
             "#bd3786"
            ],
            [
             0.5555555555555556,
             "#d8576b"
            ],
            [
             0.6666666666666666,
             "#ed7953"
            ],
            [
             0.7777777777777778,
             "#fb9f3a"
            ],
            [
             0.8888888888888888,
             "#fdca26"
            ],
            [
             1,
             "#f0f921"
            ]
           ],
           "sequentialminus": [
            [
             0,
             "#0d0887"
            ],
            [
             0.1111111111111111,
             "#46039f"
            ],
            [
             0.2222222222222222,
             "#7201a8"
            ],
            [
             0.3333333333333333,
             "#9c179e"
            ],
            [
             0.4444444444444444,
             "#bd3786"
            ],
            [
             0.5555555555555556,
             "#d8576b"
            ],
            [
             0.6666666666666666,
             "#ed7953"
            ],
            [
             0.7777777777777778,
             "#fb9f3a"
            ],
            [
             0.8888888888888888,
             "#fdca26"
            ],
            [
             1,
             "#f0f921"
            ]
           ]
          },
          "colorway": [
           "#636efa",
           "#EF553B",
           "#00cc96",
           "#ab63fa",
           "#FFA15A",
           "#19d3f3",
           "#FF6692",
           "#B6E880",
           "#FF97FF",
           "#FECB52"
          ],
          "font": {
           "color": "#2a3f5f"
          },
          "geo": {
           "bgcolor": "white",
           "lakecolor": "white",
           "landcolor": "#E5ECF6",
           "showlakes": true,
           "showland": true,
           "subunitcolor": "white"
          },
          "hoverlabel": {
           "align": "left"
          },
          "hovermode": "closest",
          "mapbox": {
           "style": "light"
          },
          "paper_bgcolor": "white",
          "plot_bgcolor": "#E5ECF6",
          "polar": {
           "angularaxis": {
            "gridcolor": "white",
            "linecolor": "white",
            "ticks": ""
           },
           "bgcolor": "#E5ECF6",
           "radialaxis": {
            "gridcolor": "white",
            "linecolor": "white",
            "ticks": ""
           }
          },
          "scene": {
           "xaxis": {
            "backgroundcolor": "#E5ECF6",
            "gridcolor": "white",
            "gridwidth": 2,
            "linecolor": "white",
            "showbackground": true,
            "ticks": "",
            "zerolinecolor": "white"
           },
           "yaxis": {
            "backgroundcolor": "#E5ECF6",
            "gridcolor": "white",
            "gridwidth": 2,
            "linecolor": "white",
            "showbackground": true,
            "ticks": "",
            "zerolinecolor": "white"
           },
           "zaxis": {
            "backgroundcolor": "#E5ECF6",
            "gridcolor": "white",
            "gridwidth": 2,
            "linecolor": "white",
            "showbackground": true,
            "ticks": "",
            "zerolinecolor": "white"
           }
          },
          "shapedefaults": {
           "line": {
            "color": "#2a3f5f"
           }
          },
          "ternary": {
           "aaxis": {
            "gridcolor": "white",
            "linecolor": "white",
            "ticks": ""
           },
           "baxis": {
            "gridcolor": "white",
            "linecolor": "white",
            "ticks": ""
           },
           "bgcolor": "#E5ECF6",
           "caxis": {
            "gridcolor": "white",
            "linecolor": "white",
            "ticks": ""
           }
          },
          "title": {
           "x": 0.05
          },
          "xaxis": {
           "automargin": true,
           "gridcolor": "white",
           "linecolor": "white",
           "ticks": "",
           "title": {
            "standoff": 15
           },
           "zerolinecolor": "white",
           "zerolinewidth": 2
          },
          "yaxis": {
           "automargin": true,
           "gridcolor": "white",
           "linecolor": "white",
           "ticks": "",
           "title": {
            "standoff": 15
           },
           "zerolinecolor": "white",
           "zerolinewidth": 2
          }
         }
        },
        "title": {
         "text": "Composition of Controversy Levels by Sector",
         "x": 0.5,
         "y": 0.9
        },
        "width": 1000,
        "xaxis": {
         "anchor": "y",
         "domain": [
          0,
          1
         ],
         "title": {
          "text": "Sector"
         }
        },
        "yaxis": {
         "anchor": "x",
         "domain": [
          0,
          1
         ],
         "showgrid": false,
         "tickformat": ".0%",
         "title": {
          "text": "Percentage of Companies"
         }
        }
       }
      }
     },
     "metadata": {},
     "output_type": "display_data"
    },
    {
     "data": {
      "application/vnd.plotly.v1+json": {
       "config": {
        "plotlyServerURL": "https://plot.ly"
       },
       "data": [
        {
         "hovertemplate": "ESG Risk Level=Severe<br>Sector=%{x}<br>Proportion=%{y}<br>text=%{text}<extra></extra>",
         "legendgroup": "Severe",
         "marker": {
          "color": "#e83715",
          "pattern": {
           "shape": ""
          }
         },
         "name": "Severe",
         "orientation": "v",
         "showlegend": true,
         "text": [
          "10%",
          "2%"
         ],
         "textposition": "auto",
         "type": "bar",
         "x": [
          "Energy",
          "Industrials"
         ],
         "xaxis": "x",
         "y": {
          "bdata": "mpmZmZmZuT8RERERERGRPw==",
          "dtype": "f8"
         },
         "yaxis": "y"
        },
        {
         "hovertemplate": "ESG Risk Level=High<br>Sector=%{x}<br>Proportion=%{y}<br>text=%{text}<extra></extra>",
         "legendgroup": "High",
         "marker": {
          "color": "#f78e31",
          "pattern": {
           "shape": ""
          }
         },
         "name": "High",
         "orientation": "v",
         "showlegend": true,
         "text": [
          "32%",
          "7%",
          "2%",
          "21%",
          "65%",
          "3%",
          "2%",
          "18%",
          "3%",
          "21%"
         ],
         "textposition": "auto",
         "type": "bar",
         "x": [
          "Basic Materials",
          "Communication Services",
          "Consumer Cyclical",
          "Consumer Defensive",
          "Energy",
          "Financial Services",
          "Healthcare",
          "Industrials",
          "Technology",
          "Utilities"
         ],
         "xaxis": "x",
         "y": {
          "bdata": "XkN5DeU11D+SJEmSJEmyPxQUFBQUFJQ/J5tssskmyz/NzMzMzMzkPxAEQRAEQaA/wXgr+xxSkz93d3d3d3fHPzvavE9xyaA/27Zt27Ztyz8=",
          "dtype": "f8"
         },
         "yaxis": "y"
        },
        {
         "hovertemplate": "ESG Risk Level=Medium<br>Sector=%{x}<br>Proportion=%{y}<br>text=%{text}<extra></extra>",
         "legendgroup": "Medium",
         "marker": {
          "color": "#cbdb47",
          "pattern": {
           "shape": ""
          }
         },
         "name": "Medium",
         "orientation": "v",
         "showlegend": true,
         "text": [
          "58%",
          "36%",
          "43%",
          "67%",
          "20%",
          "57%",
          "53%",
          "43%",
          "4%",
          "13%",
          "75%"
         ],
         "textposition": "auto",
         "type": "bar",
         "x": [
          "Basic Materials",
          "Communication Services",
          "Consumer Cyclical",
          "Consumer Defensive",
          "Energy",
          "Financial Services",
          "Healthcare",
          "Industrials",
          "Real Estate",
          "Technology",
          "Utilities"
         ],
         "xaxis": "x",
         "y": {
          "bdata": "bCivobyG4j+3bdu2bdvWP5ybm5ubm9s/VVVVVVVV5T+amZmZmZnJP5IkSZIkSeI/qQnGW9nn4D+8u7u7u7vbP5IkSZIkSaI/O9q8T3HJwD8AAAAAAADoPw==",
          "dtype": "f8"
         },
         "yaxis": "y"
        },
        {
         "hovertemplate": "ESG Risk Level=Low<br>Sector=%{x}<br>Proportion=%{y}<br>text=%{text}<extra></extra>",
         "legendgroup": "Low",
         "marker": {
          "color": "#208b3a",
          "pattern": {
           "shape": ""
          }
         },
         "name": "Low",
         "orientation": "v",
         "showlegend": true,
         "text": [
          "11%",
          "57%",
          "53%",
          "12%",
          "5%",
          "40%",
          "45%",
          "37%",
          "89%",
          "79%",
          "4%"
         ],
         "textposition": "auto",
         "type": "bar",
         "x": [
          "Basic Materials",
          "Communication Services",
          "Consumer Cyclical",
          "Consumer Defensive",
          "Energy",
          "Financial Services",
          "Healthcare",
          "Industrials",
          "Real Estate",
          "Technology",
          "Utilities"
         ],
         "xaxis": "x",
         "y": {
          "bdata": "KK+hvIbyuj+SJEmSJEniP/Hw8PDw8OA/CB988MEHvz+amZmZmZmpP1mWZVmWZdk/IjXBeCv73D93d3d3d3fXPyVJkiRJkuw/WEeb9yku6T+SJEmSJEmiPw==",
          "dtype": "f8"
         },
         "yaxis": "y"
        },
        {
         "hovertemplate": "ESG Risk Level=Negligible<br>Sector=%{x}<br>Proportion=%{y}<br>text=%{text}<extra></extra>",
         "legendgroup": "Negligible",
         "marker": {
          "color": "#fcec52",
          "pattern": {
           "shape": ""
          }
         },
         "name": "Negligible",
         "orientation": "v",
         "showlegend": true,
         "text": [
          "2%",
          "7%",
          "5%"
         ],
         "textposition": "auto",
         "type": "bar",
         "x": [
          "Consumer Cyclical",
          "Real Estate",
          "Technology"
         ],
         "xaxis": "x",
         "y": {
          "bdata": "FBQUFBQUlD+SJEmSJEmyP1hHm/cpLqk/",
          "dtype": "f8"
         },
         "yaxis": "y"
        }
       ],
       "layout": {
        "barmode": "stack",
        "height": 600,
        "legend": {
         "title": {
          "text": "ESG Risk Level"
         },
         "tracegroupgap": 0
        },
        "margin": {
         "b": 100,
         "l": 100,
         "r": 100,
         "t": 100
        },
        "template": {
         "data": {
          "bar": [
           {
            "error_x": {
             "color": "#2a3f5f"
            },
            "error_y": {
             "color": "#2a3f5f"
            },
            "marker": {
             "line": {
              "color": "#E5ECF6",
              "width": 0.5
             },
             "pattern": {
              "fillmode": "overlay",
              "size": 10,
              "solidity": 0.2
             }
            },
            "type": "bar"
           }
          ],
          "barpolar": [
           {
            "marker": {
             "line": {
              "color": "#E5ECF6",
              "width": 0.5
             },
             "pattern": {
              "fillmode": "overlay",
              "size": 10,
              "solidity": 0.2
             }
            },
            "type": "barpolar"
           }
          ],
          "carpet": [
           {
            "aaxis": {
             "endlinecolor": "#2a3f5f",
             "gridcolor": "white",
             "linecolor": "white",
             "minorgridcolor": "white",
             "startlinecolor": "#2a3f5f"
            },
            "baxis": {
             "endlinecolor": "#2a3f5f",
             "gridcolor": "white",
             "linecolor": "white",
             "minorgridcolor": "white",
             "startlinecolor": "#2a3f5f"
            },
            "type": "carpet"
           }
          ],
          "choropleth": [
           {
            "colorbar": {
             "outlinewidth": 0,
             "ticks": ""
            },
            "type": "choropleth"
           }
          ],
          "contour": [
           {
            "colorbar": {
             "outlinewidth": 0,
             "ticks": ""
            },
            "colorscale": [
             [
              0,
              "#0d0887"
             ],
             [
              0.1111111111111111,
              "#46039f"
             ],
             [
              0.2222222222222222,
              "#7201a8"
             ],
             [
              0.3333333333333333,
              "#9c179e"
             ],
             [
              0.4444444444444444,
              "#bd3786"
             ],
             [
              0.5555555555555556,
              "#d8576b"
             ],
             [
              0.6666666666666666,
              "#ed7953"
             ],
             [
              0.7777777777777778,
              "#fb9f3a"
             ],
             [
              0.8888888888888888,
              "#fdca26"
             ],
             [
              1,
              "#f0f921"
             ]
            ],
            "type": "contour"
           }
          ],
          "contourcarpet": [
           {
            "colorbar": {
             "outlinewidth": 0,
             "ticks": ""
            },
            "type": "contourcarpet"
           }
          ],
          "heatmap": [
           {
            "colorbar": {
             "outlinewidth": 0,
             "ticks": ""
            },
            "colorscale": [
             [
              0,
              "#0d0887"
             ],
             [
              0.1111111111111111,
              "#46039f"
             ],
             [
              0.2222222222222222,
              "#7201a8"
             ],
             [
              0.3333333333333333,
              "#9c179e"
             ],
             [
              0.4444444444444444,
              "#bd3786"
             ],
             [
              0.5555555555555556,
              "#d8576b"
             ],
             [
              0.6666666666666666,
              "#ed7953"
             ],
             [
              0.7777777777777778,
              "#fb9f3a"
             ],
             [
              0.8888888888888888,
              "#fdca26"
             ],
             [
              1,
              "#f0f921"
             ]
            ],
            "type": "heatmap"
           }
          ],
          "histogram": [
           {
            "marker": {
             "pattern": {
              "fillmode": "overlay",
              "size": 10,
              "solidity": 0.2
             }
            },
            "type": "histogram"
           }
          ],
          "histogram2d": [
           {
            "colorbar": {
             "outlinewidth": 0,
             "ticks": ""
            },
            "colorscale": [
             [
              0,
              "#0d0887"
             ],
             [
              0.1111111111111111,
              "#46039f"
             ],
             [
              0.2222222222222222,
              "#7201a8"
             ],
             [
              0.3333333333333333,
              "#9c179e"
             ],
             [
              0.4444444444444444,
              "#bd3786"
             ],
             [
              0.5555555555555556,
              "#d8576b"
             ],
             [
              0.6666666666666666,
              "#ed7953"
             ],
             [
              0.7777777777777778,
              "#fb9f3a"
             ],
             [
              0.8888888888888888,
              "#fdca26"
             ],
             [
              1,
              "#f0f921"
             ]
            ],
            "type": "histogram2d"
           }
          ],
          "histogram2dcontour": [
           {
            "colorbar": {
             "outlinewidth": 0,
             "ticks": ""
            },
            "colorscale": [
             [
              0,
              "#0d0887"
             ],
             [
              0.1111111111111111,
              "#46039f"
             ],
             [
              0.2222222222222222,
              "#7201a8"
             ],
             [
              0.3333333333333333,
              "#9c179e"
             ],
             [
              0.4444444444444444,
              "#bd3786"
             ],
             [
              0.5555555555555556,
              "#d8576b"
             ],
             [
              0.6666666666666666,
              "#ed7953"
             ],
             [
              0.7777777777777778,
              "#fb9f3a"
             ],
             [
              0.8888888888888888,
              "#fdca26"
             ],
             [
              1,
              "#f0f921"
             ]
            ],
            "type": "histogram2dcontour"
           }
          ],
          "mesh3d": [
           {
            "colorbar": {
             "outlinewidth": 0,
             "ticks": ""
            },
            "type": "mesh3d"
           }
          ],
          "parcoords": [
           {
            "line": {
             "colorbar": {
              "outlinewidth": 0,
              "ticks": ""
             }
            },
            "type": "parcoords"
           }
          ],
          "pie": [
           {
            "automargin": true,
            "type": "pie"
           }
          ],
          "scatter": [
           {
            "fillpattern": {
             "fillmode": "overlay",
             "size": 10,
             "solidity": 0.2
            },
            "type": "scatter"
           }
          ],
          "scatter3d": [
           {
            "line": {
             "colorbar": {
              "outlinewidth": 0,
              "ticks": ""
             }
            },
            "marker": {
             "colorbar": {
              "outlinewidth": 0,
              "ticks": ""
             }
            },
            "type": "scatter3d"
           }
          ],
          "scattercarpet": [
           {
            "marker": {
             "colorbar": {
              "outlinewidth": 0,
              "ticks": ""
             }
            },
            "type": "scattercarpet"
           }
          ],
          "scattergeo": [
           {
            "marker": {
             "colorbar": {
              "outlinewidth": 0,
              "ticks": ""
             }
            },
            "type": "scattergeo"
           }
          ],
          "scattergl": [
           {
            "marker": {
             "colorbar": {
              "outlinewidth": 0,
              "ticks": ""
             }
            },
            "type": "scattergl"
           }
          ],
          "scattermap": [
           {
            "marker": {
             "colorbar": {
              "outlinewidth": 0,
              "ticks": ""
             }
            },
            "type": "scattermap"
           }
          ],
          "scattermapbox": [
           {
            "marker": {
             "colorbar": {
              "outlinewidth": 0,
              "ticks": ""
             }
            },
            "type": "scattermapbox"
           }
          ],
          "scatterpolar": [
           {
            "marker": {
             "colorbar": {
              "outlinewidth": 0,
              "ticks": ""
             }
            },
            "type": "scatterpolar"
           }
          ],
          "scatterpolargl": [
           {
            "marker": {
             "colorbar": {
              "outlinewidth": 0,
              "ticks": ""
             }
            },
            "type": "scatterpolargl"
           }
          ],
          "scatterternary": [
           {
            "marker": {
             "colorbar": {
              "outlinewidth": 0,
              "ticks": ""
             }
            },
            "type": "scatterternary"
           }
          ],
          "surface": [
           {
            "colorbar": {
             "outlinewidth": 0,
             "ticks": ""
            },
            "colorscale": [
             [
              0,
              "#0d0887"
             ],
             [
              0.1111111111111111,
              "#46039f"
             ],
             [
              0.2222222222222222,
              "#7201a8"
             ],
             [
              0.3333333333333333,
              "#9c179e"
             ],
             [
              0.4444444444444444,
              "#bd3786"
             ],
             [
              0.5555555555555556,
              "#d8576b"
             ],
             [
              0.6666666666666666,
              "#ed7953"
             ],
             [
              0.7777777777777778,
              "#fb9f3a"
             ],
             [
              0.8888888888888888,
              "#fdca26"
             ],
             [
              1,
              "#f0f921"
             ]
            ],
            "type": "surface"
           }
          ],
          "table": [
           {
            "cells": {
             "fill": {
              "color": "#EBF0F8"
             },
             "line": {
              "color": "white"
             }
            },
            "header": {
             "fill": {
              "color": "#C8D4E3"
             },
             "line": {
              "color": "white"
             }
            },
            "type": "table"
           }
          ]
         },
         "layout": {
          "annotationdefaults": {
           "arrowcolor": "#2a3f5f",
           "arrowhead": 0,
           "arrowwidth": 1
          },
          "autotypenumbers": "strict",
          "coloraxis": {
           "colorbar": {
            "outlinewidth": 0,
            "ticks": ""
           }
          },
          "colorscale": {
           "diverging": [
            [
             0,
             "#8e0152"
            ],
            [
             0.1,
             "#c51b7d"
            ],
            [
             0.2,
             "#de77ae"
            ],
            [
             0.3,
             "#f1b6da"
            ],
            [
             0.4,
             "#fde0ef"
            ],
            [
             0.5,
             "#f7f7f7"
            ],
            [
             0.6,
             "#e6f5d0"
            ],
            [
             0.7,
             "#b8e186"
            ],
            [
             0.8,
             "#7fbc41"
            ],
            [
             0.9,
             "#4d9221"
            ],
            [
             1,
             "#276419"
            ]
           ],
           "sequential": [
            [
             0,
             "#0d0887"
            ],
            [
             0.1111111111111111,
             "#46039f"
            ],
            [
             0.2222222222222222,
             "#7201a8"
            ],
            [
             0.3333333333333333,
             "#9c179e"
            ],
            [
             0.4444444444444444,
             "#bd3786"
            ],
            [
             0.5555555555555556,
             "#d8576b"
            ],
            [
             0.6666666666666666,
             "#ed7953"
            ],
            [
             0.7777777777777778,
             "#fb9f3a"
            ],
            [
             0.8888888888888888,
             "#fdca26"
            ],
            [
             1,
             "#f0f921"
            ]
           ],
           "sequentialminus": [
            [
             0,
             "#0d0887"
            ],
            [
             0.1111111111111111,
             "#46039f"
            ],
            [
             0.2222222222222222,
             "#7201a8"
            ],
            [
             0.3333333333333333,
             "#9c179e"
            ],
            [
             0.4444444444444444,
             "#bd3786"
            ],
            [
             0.5555555555555556,
             "#d8576b"
            ],
            [
             0.6666666666666666,
             "#ed7953"
            ],
            [
             0.7777777777777778,
             "#fb9f3a"
            ],
            [
             0.8888888888888888,
             "#fdca26"
            ],
            [
             1,
             "#f0f921"
            ]
           ]
          },
          "colorway": [
           "#636efa",
           "#EF553B",
           "#00cc96",
           "#ab63fa",
           "#FFA15A",
           "#19d3f3",
           "#FF6692",
           "#B6E880",
           "#FF97FF",
           "#FECB52"
          ],
          "font": {
           "color": "#2a3f5f"
          },
          "geo": {
           "bgcolor": "white",
           "lakecolor": "white",
           "landcolor": "#E5ECF6",
           "showlakes": true,
           "showland": true,
           "subunitcolor": "white"
          },
          "hoverlabel": {
           "align": "left"
          },
          "hovermode": "closest",
          "mapbox": {
           "style": "light"
          },
          "paper_bgcolor": "white",
          "plot_bgcolor": "#E5ECF6",
          "polar": {
           "angularaxis": {
            "gridcolor": "white",
            "linecolor": "white",
            "ticks": ""
           },
           "bgcolor": "#E5ECF6",
           "radialaxis": {
            "gridcolor": "white",
            "linecolor": "white",
            "ticks": ""
           }
          },
          "scene": {
           "xaxis": {
            "backgroundcolor": "#E5ECF6",
            "gridcolor": "white",
            "gridwidth": 2,
            "linecolor": "white",
            "showbackground": true,
            "ticks": "",
            "zerolinecolor": "white"
           },
           "yaxis": {
            "backgroundcolor": "#E5ECF6",
            "gridcolor": "white",
            "gridwidth": 2,
            "linecolor": "white",
            "showbackground": true,
            "ticks": "",
            "zerolinecolor": "white"
           },
           "zaxis": {
            "backgroundcolor": "#E5ECF6",
            "gridcolor": "white",
            "gridwidth": 2,
            "linecolor": "white",
            "showbackground": true,
            "ticks": "",
            "zerolinecolor": "white"
           }
          },
          "shapedefaults": {
           "line": {
            "color": "#2a3f5f"
           }
          },
          "ternary": {
           "aaxis": {
            "gridcolor": "white",
            "linecolor": "white",
            "ticks": ""
           },
           "baxis": {
            "gridcolor": "white",
            "linecolor": "white",
            "ticks": ""
           },
           "bgcolor": "#E5ECF6",
           "caxis": {
            "gridcolor": "white",
            "linecolor": "white",
            "ticks": ""
           }
          },
          "title": {
           "x": 0.05
          },
          "xaxis": {
           "automargin": true,
           "gridcolor": "white",
           "linecolor": "white",
           "ticks": "",
           "title": {
            "standoff": 15
           },
           "zerolinecolor": "white",
           "zerolinewidth": 2
          },
          "yaxis": {
           "automargin": true,
           "gridcolor": "white",
           "linecolor": "white",
           "ticks": "",
           "title": {
            "standoff": 15
           },
           "zerolinecolor": "white",
           "zerolinewidth": 2
          }
         }
        },
        "title": {
         "text": "Composition of ESG Risk Levels by Sector",
         "x": 0.5,
         "y": 0.9
        },
        "width": 1000,
        "xaxis": {
         "anchor": "y",
         "domain": [
          0,
          1
         ],
         "title": {
          "text": "Sector"
         }
        },
        "yaxis": {
         "anchor": "x",
         "domain": [
          0,
          1
         ],
         "showgrid": false,
         "tickformat": ".0%",
         "title": {
          "text": "Percentage of Companies (%)"
         }
        }
       }
      }
     },
     "metadata": {},
     "output_type": "display_data"
    }
   ],
   "source": [
    "#bar charts of risk and controvery levels\n",
    "levels = df2_cleaned[['Controversy Level', 'ESG Risk Level', 'Sector']]\n",
    "\n",
    "# Remove \"Controversy Level=\" from values in the column\n",
    "levels[\"Controversy Level\"] = levels[\"Controversy Level\"].str.replace(\"Controversy Level\", \"\", regex=False)\n",
    "\n",
    "df_controversy_lvl = levels.groupby([\"Sector\", \"Controversy Level\"]).size().reset_index(name=\"Count\")\n",
    "df_controversy_lvl[\"Proportion\"] = df_controversy_lvl.groupby(\"Sector\")[\"Count\"].transform(lambda x: x / x.sum())\n",
    "df_controversy_lvl[\"Controversy Level\"] = (df_controversy_lvl[\"Controversy Level\"].astype(\"category\")).str.replace(\"Controversy Level\", \"\", regex=False).str.strip()\n",
    "\n",
    "df_esg_lvl = levels.groupby([\"Sector\", \"ESG Risk Level\"]).size().reset_index(name=\"Count\")\n",
    "df_esg_lvl[\"Proportion\"] = df_esg_lvl.groupby(\"Sector\")[\"Count\"].transform(lambda x: x / x.sum())\n",
    "df_esg_lvl[\"ESG Risk Level\"] = (df_esg_lvl[\"ESG Risk Level\"].astype(\"category\")).str.strip()\n",
    "\n",
    "\n",
    "custom_colors = {\n",
    "    \"High\": \"#f78e31\",\n",
    "    \"Medium\": \"#fbb040\",\n",
    "    \"Low\": \"#208b3a\",\n",
    "    \"Moderate\": \"#cbdb47\",\n",
    "    \"Medium\" :\"#cbdb47\",\n",
    "    \"Severe\": \"#e83715\",\n",
    "    \"Significant\":\"#f26b21\",\n",
    "    \"None\": \"#fcec52\",\n",
    "    \"Negligible\": \"#fcec52\"\n",
    "}\n",
    "\n",
    "\n",
    "\n",
    "fig1 = px.bar(\n",
    "    df_controversy_lvl, \n",
    "    x=\"Sector\", \n",
    "    y=\"Proportion\",  # Use proportion instead of count\n",
    "    color=\"Controversy Level\", \n",
    "    title=\"Composition of Controversy Levels by Sector\",\n",
    "    barmode=\"stack\",\n",
    "    text=df_controversy_lvl[\"Proportion\"].apply(lambda x: f\"{x:.0%}\"),\n",
    "    color_discrete_map=custom_colors,\n",
    "    category_orders={\"Controversy Level\": [\"Severe\", \"Significant\", \"High\", \"Moderate\", \"Low\", \"None\"]}\n",
    ")\n",
    "\n",
    "fig1.update_layout(\n",
    "    width=1000,  \n",
    "    height=600, \n",
    "    title_x=0.5, \n",
    "    title_y=0.9,\n",
    "    margin=dict(l=100, r=100, t=100, b=100),  \n",
    "    legend_title_text=\"Controversy Level\"  \n",
    ")\n",
    "\n",
    "# Format y-axis as percentage\n",
    "fig1.update_yaxes(showgrid = False, tickformat=\".0%\", title=\"Percentage of Companies\")\n",
    "\n",
    "# Show plot\n",
    "fig1.show()\n",
    "\n",
    "\n",
    "fig2 = px.bar(\n",
    "    df_esg_lvl, \n",
    "    x=\"Sector\", \n",
    "    y=\"Proportion\",  # Use proportion instead of count\n",
    "    color=\"ESG Risk Level\", \n",
    "    title=\"Composition of ESG Risk Levels by Sector\",\n",
    "    barmode=\"stack\",\n",
    "    text=df_esg_lvl[\"Proportion\"].apply(lambda x: f\"{x:.0%}\"),\n",
    "    color_discrete_map=custom_colors,\n",
    "    category_orders={\"ESG Risk Level\": [\"Severe\", \"High\", \"Medium\", \"Low\", \"Negligible\"]}\n",
    ")\n",
    "\n",
    "fig2.update_layout(\n",
    "    width=1000,  \n",
    "    height=600, \n",
    "    title_x=0.5, \n",
    "    title_y=0.9,\n",
    "    margin=dict(l=100, r=100, t=100, b=100),  \n",
    "    legend_title_text=\"ESG Risk Level\"  \n",
    ")\n",
    "\n",
    "# Format y-axis as percentage\n",
    "fig2.update_yaxes(showgrid = False, tickformat=\".0%\", title=\"Percentage of Companies (%)\")\n",
    "\n",
    "fig2.show()\n",
    "\n",
    "\n",
    "\n",
    "\n",
    "    \n",
    "    \n",
    "\n"
   ]
  },
  {
   "cell_type": "code",
   "execution_count": null,
   "metadata": {},
   "outputs": [],
   "source": [
    "#Scatter plot of company size: number of employees and esg risk percentile \n",
    "#compared next to the distribution of industry and risk percentile bar charts?\n",
    "data = df2_cleaned[[\"Full Time Employees\", \"ESG Risk Percentile\"]]\n",
    "\n",
    "\n",
    "\n",
    "#esg score and \n",
    "\n",
    "\n"
   ]
  }
 ],
 "metadata": {
  "kernelspec": {
   "display_name": "Python 3",
   "language": "python",
   "name": "python3"
  },
  "language_info": {
   "codemirror_mode": {
    "name": "ipython",
    "version": 3
   },
   "file_extension": ".py",
   "mimetype": "text/x-python",
   "name": "python",
   "nbconvert_exporter": "python",
   "pygments_lexer": "ipython3",
   "version": "3.11.3"
  }
 },
 "nbformat": 4,
 "nbformat_minor": 2
}
